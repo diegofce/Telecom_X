{
  "cells": [
    {
      "cell_type": "markdown",
      "metadata": {
        "id": "8bvS-hDXx2KM"
      },
      "source": [
        "#📚 Importación de bibliotecas"
      ]
    },
    {
      "cell_type": "code",
      "execution_count": 1,
      "metadata": {
        "id": "10x06KpIx2KQ"
      },
      "outputs": [],
      "source": [
        "import pandas as pd\n",
        "import requests"
      ]
    },
    {
      "cell_type": "markdown",
      "metadata": {
        "id": "4foVEKhrlqcH"
      },
      "source": [
        "#📌 Extracción"
      ]
    },
    {
      "cell_type": "code",
      "execution_count": 2,
      "metadata": {
        "colab": {
          "base_uri": "https://localhost:8080/"
        },
        "id": "1--uPM88l7JH",
        "outputId": "120b9ea0-7287-4647-ed06-cc01e5a221f1"
      },
      "outputs": [
        {
          "name": "stdout",
          "output_type": "stream",
          "text": [
            "   customerID Churn                                           customer  \\\n",
            "0  0002-ORFBO    No  {'gender': 'Female', 'SeniorCitizen': 0, 'Part...   \n",
            "1  0003-MKNFE    No  {'gender': 'Male', 'SeniorCitizen': 0, 'Partne...   \n",
            "2  0004-TLHLJ   Yes  {'gender': 'Male', 'SeniorCitizen': 0, 'Partne...   \n",
            "3  0011-IGKFF   Yes  {'gender': 'Male', 'SeniorCitizen': 1, 'Partne...   \n",
            "4  0013-EXCHZ   Yes  {'gender': 'Female', 'SeniorCitizen': 1, 'Part...   \n",
            "\n",
            "                                             phone  \\\n",
            "0   {'PhoneService': 'Yes', 'MultipleLines': 'No'}   \n",
            "1  {'PhoneService': 'Yes', 'MultipleLines': 'Yes'}   \n",
            "2   {'PhoneService': 'Yes', 'MultipleLines': 'No'}   \n",
            "3   {'PhoneService': 'Yes', 'MultipleLines': 'No'}   \n",
            "4   {'PhoneService': 'Yes', 'MultipleLines': 'No'}   \n",
            "\n",
            "                                            internet  \\\n",
            "0  {'InternetService': 'DSL', 'OnlineSecurity': '...   \n",
            "1  {'InternetService': 'DSL', 'OnlineSecurity': '...   \n",
            "2  {'InternetService': 'Fiber optic', 'OnlineSecu...   \n",
            "3  {'InternetService': 'Fiber optic', 'OnlineSecu...   \n",
            "4  {'InternetService': 'Fiber optic', 'OnlineSecu...   \n",
            "\n",
            "                                             account  \n",
            "0  {'Contract': 'One year', 'PaperlessBilling': '...  \n",
            "1  {'Contract': 'Month-to-month', 'PaperlessBilli...  \n",
            "2  {'Contract': 'Month-to-month', 'PaperlessBilli...  \n",
            "3  {'Contract': 'Month-to-month', 'PaperlessBilli...  \n",
            "4  {'Contract': 'Month-to-month', 'PaperlessBilli...  \n"
          ]
        }
      ],
      "source": [
        "url = 'https://raw.githubusercontent.com/alura-cursos/challenge2-data-science-LATAM/refs/heads/main/TelecomX_Data.json'\n",
        "response = requests.get(url)\n",
        "data = response.json()\n",
        "df = pd.DataFrame(data)\n",
        "print(df.head())"
      ]
    },
    {
      "cell_type": "markdown",
      "metadata": {
        "id": "1lSZP8zmmGZu"
      },
      "source": [
        "#🔧 Transformación"
      ]
    },
    {
      "cell_type": "code",
      "execution_count": 3,
      "metadata": {
        "colab": {
          "base_uri": "https://localhost:8080/"
        },
        "id": "iUmmx-Hn0DGG",
        "outputId": "bffec686-4f30-41e4-d77f-24a91a447118"
      },
      "outputs": [
        {
          "name": "stdout",
          "output_type": "stream",
          "text": [
            "<class 'pandas.core.frame.DataFrame'>\n",
            "RangeIndex: 7267 entries, 0 to 7266\n",
            "Data columns (total 21 columns):\n",
            " #   Column                     Non-Null Count  Dtype  \n",
            "---  ------                     --------------  -----  \n",
            " 0   customerID                 7267 non-null   object \n",
            " 1   Churn                      7267 non-null   object \n",
            " 2   customer.gender            7267 non-null   object \n",
            " 3   customer.SeniorCitizen     7267 non-null   int64  \n",
            " 4   customer.Partner           7267 non-null   object \n",
            " 5   customer.Dependents        7267 non-null   object \n",
            " 6   customer.tenure            7267 non-null   int64  \n",
            " 7   phone.PhoneService         7267 non-null   object \n",
            " 8   phone.MultipleLines        7267 non-null   object \n",
            " 9   internet.InternetService   7267 non-null   object \n",
            " 10  internet.OnlineSecurity    7267 non-null   object \n",
            " 11  internet.OnlineBackup      7267 non-null   object \n",
            " 12  internet.DeviceProtection  7267 non-null   object \n",
            " 13  internet.TechSupport       7267 non-null   object \n",
            " 14  internet.StreamingTV       7267 non-null   object \n",
            " 15  internet.StreamingMovies   7267 non-null   object \n",
            " 16  account.Contract           7267 non-null   object \n",
            " 17  account.PaperlessBilling   7267 non-null   object \n",
            " 18  account.PaymentMethod      7267 non-null   object \n",
            " 19  account.Charges.Monthly    7267 non-null   float64\n",
            " 20  account.Charges.Total      7267 non-null   object \n",
            "dtypes: float64(1), int64(2), object(18)\n",
            "memory usage: 1.2+ MB\n"
          ]
        }
      ],
      "source": [
        "from pandas import json_normalize\n",
        "df_normalizado = json_normalize(data)\n",
        "df_normalizado.info()"
      ]
    },
    {
      "cell_type": "code",
      "execution_count": 4,
      "metadata": {
        "colab": {
          "base_uri": "https://localhost:8080/",
          "height": 325
        },
        "id": "OWxht7960q5n",
        "outputId": "f0b741b1-b34a-4cb5-b677-cd24c45f301e"
      },
      "outputs": [
        {
          "data": {
            "text/html": [
              "<div>\n",
              "<style scoped>\n",
              "    .dataframe tbody tr th:only-of-type {\n",
              "        vertical-align: middle;\n",
              "    }\n",
              "\n",
              "    .dataframe tbody tr th {\n",
              "        vertical-align: top;\n",
              "    }\n",
              "\n",
              "    .dataframe thead th {\n",
              "        text-align: right;\n",
              "    }\n",
              "</style>\n",
              "<table border=\"1\" class=\"dataframe\">\n",
              "  <thead>\n",
              "    <tr style=\"text-align: right;\">\n",
              "      <th></th>\n",
              "      <th>customerID</th>\n",
              "      <th>Churn</th>\n",
              "      <th>customer.gender</th>\n",
              "      <th>customer.SeniorCitizen</th>\n",
              "      <th>customer.Partner</th>\n",
              "      <th>customer.Dependents</th>\n",
              "      <th>customer.tenure</th>\n",
              "      <th>phone.PhoneService</th>\n",
              "      <th>phone.MultipleLines</th>\n",
              "      <th>internet.InternetService</th>\n",
              "      <th>...</th>\n",
              "      <th>internet.OnlineBackup</th>\n",
              "      <th>internet.DeviceProtection</th>\n",
              "      <th>internet.TechSupport</th>\n",
              "      <th>internet.StreamingTV</th>\n",
              "      <th>internet.StreamingMovies</th>\n",
              "      <th>account.Contract</th>\n",
              "      <th>account.PaperlessBilling</th>\n",
              "      <th>account.PaymentMethod</th>\n",
              "      <th>account.Charges.Monthly</th>\n",
              "      <th>account.Charges.Total</th>\n",
              "    </tr>\n",
              "  </thead>\n",
              "  <tbody>\n",
              "    <tr>\n",
              "      <th>0</th>\n",
              "      <td>0002-ORFBO</td>\n",
              "      <td>No</td>\n",
              "      <td>Female</td>\n",
              "      <td>0</td>\n",
              "      <td>Yes</td>\n",
              "      <td>Yes</td>\n",
              "      <td>9</td>\n",
              "      <td>Yes</td>\n",
              "      <td>No</td>\n",
              "      <td>DSL</td>\n",
              "      <td>...</td>\n",
              "      <td>Yes</td>\n",
              "      <td>No</td>\n",
              "      <td>Yes</td>\n",
              "      <td>Yes</td>\n",
              "      <td>No</td>\n",
              "      <td>One year</td>\n",
              "      <td>Yes</td>\n",
              "      <td>Mailed check</td>\n",
              "      <td>65.6</td>\n",
              "      <td>593.3</td>\n",
              "    </tr>\n",
              "    <tr>\n",
              "      <th>1</th>\n",
              "      <td>0003-MKNFE</td>\n",
              "      <td>No</td>\n",
              "      <td>Male</td>\n",
              "      <td>0</td>\n",
              "      <td>No</td>\n",
              "      <td>No</td>\n",
              "      <td>9</td>\n",
              "      <td>Yes</td>\n",
              "      <td>Yes</td>\n",
              "      <td>DSL</td>\n",
              "      <td>...</td>\n",
              "      <td>No</td>\n",
              "      <td>No</td>\n",
              "      <td>No</td>\n",
              "      <td>No</td>\n",
              "      <td>Yes</td>\n",
              "      <td>Month-to-month</td>\n",
              "      <td>No</td>\n",
              "      <td>Mailed check</td>\n",
              "      <td>59.9</td>\n",
              "      <td>542.4</td>\n",
              "    </tr>\n",
              "    <tr>\n",
              "      <th>2</th>\n",
              "      <td>0004-TLHLJ</td>\n",
              "      <td>Yes</td>\n",
              "      <td>Male</td>\n",
              "      <td>0</td>\n",
              "      <td>No</td>\n",
              "      <td>No</td>\n",
              "      <td>4</td>\n",
              "      <td>Yes</td>\n",
              "      <td>No</td>\n",
              "      <td>Fiber optic</td>\n",
              "      <td>...</td>\n",
              "      <td>No</td>\n",
              "      <td>Yes</td>\n",
              "      <td>No</td>\n",
              "      <td>No</td>\n",
              "      <td>No</td>\n",
              "      <td>Month-to-month</td>\n",
              "      <td>Yes</td>\n",
              "      <td>Electronic check</td>\n",
              "      <td>73.9</td>\n",
              "      <td>280.85</td>\n",
              "    </tr>\n",
              "    <tr>\n",
              "      <th>3</th>\n",
              "      <td>0011-IGKFF</td>\n",
              "      <td>Yes</td>\n",
              "      <td>Male</td>\n",
              "      <td>1</td>\n",
              "      <td>Yes</td>\n",
              "      <td>No</td>\n",
              "      <td>13</td>\n",
              "      <td>Yes</td>\n",
              "      <td>No</td>\n",
              "      <td>Fiber optic</td>\n",
              "      <td>...</td>\n",
              "      <td>Yes</td>\n",
              "      <td>Yes</td>\n",
              "      <td>No</td>\n",
              "      <td>Yes</td>\n",
              "      <td>Yes</td>\n",
              "      <td>Month-to-month</td>\n",
              "      <td>Yes</td>\n",
              "      <td>Electronic check</td>\n",
              "      <td>98.0</td>\n",
              "      <td>1237.85</td>\n",
              "    </tr>\n",
              "    <tr>\n",
              "      <th>4</th>\n",
              "      <td>0013-EXCHZ</td>\n",
              "      <td>Yes</td>\n",
              "      <td>Female</td>\n",
              "      <td>1</td>\n",
              "      <td>Yes</td>\n",
              "      <td>No</td>\n",
              "      <td>3</td>\n",
              "      <td>Yes</td>\n",
              "      <td>No</td>\n",
              "      <td>Fiber optic</td>\n",
              "      <td>...</td>\n",
              "      <td>No</td>\n",
              "      <td>No</td>\n",
              "      <td>Yes</td>\n",
              "      <td>Yes</td>\n",
              "      <td>No</td>\n",
              "      <td>Month-to-month</td>\n",
              "      <td>Yes</td>\n",
              "      <td>Mailed check</td>\n",
              "      <td>83.9</td>\n",
              "      <td>267.4</td>\n",
              "    </tr>\n",
              "  </tbody>\n",
              "</table>\n",
              "<p>5 rows × 21 columns</p>\n",
              "</div>"
            ],
            "text/plain": [
              "   customerID Churn customer.gender  customer.SeniorCitizen customer.Partner  \\\n",
              "0  0002-ORFBO    No          Female                       0              Yes   \n",
              "1  0003-MKNFE    No            Male                       0               No   \n",
              "2  0004-TLHLJ   Yes            Male                       0               No   \n",
              "3  0011-IGKFF   Yes            Male                       1              Yes   \n",
              "4  0013-EXCHZ   Yes          Female                       1              Yes   \n",
              "\n",
              "  customer.Dependents  customer.tenure phone.PhoneService phone.MultipleLines  \\\n",
              "0                 Yes                9                Yes                  No   \n",
              "1                  No                9                Yes                 Yes   \n",
              "2                  No                4                Yes                  No   \n",
              "3                  No               13                Yes                  No   \n",
              "4                  No                3                Yes                  No   \n",
              "\n",
              "  internet.InternetService  ... internet.OnlineBackup  \\\n",
              "0                      DSL  ...                   Yes   \n",
              "1                      DSL  ...                    No   \n",
              "2              Fiber optic  ...                    No   \n",
              "3              Fiber optic  ...                   Yes   \n",
              "4              Fiber optic  ...                    No   \n",
              "\n",
              "  internet.DeviceProtection internet.TechSupport internet.StreamingTV  \\\n",
              "0                        No                  Yes                  Yes   \n",
              "1                        No                   No                   No   \n",
              "2                       Yes                   No                   No   \n",
              "3                       Yes                   No                  Yes   \n",
              "4                        No                  Yes                  Yes   \n",
              "\n",
              "  internet.StreamingMovies account.Contract account.PaperlessBilling  \\\n",
              "0                       No         One year                      Yes   \n",
              "1                      Yes   Month-to-month                       No   \n",
              "2                       No   Month-to-month                      Yes   \n",
              "3                      Yes   Month-to-month                      Yes   \n",
              "4                       No   Month-to-month                      Yes   \n",
              "\n",
              "  account.PaymentMethod account.Charges.Monthly  account.Charges.Total  \n",
              "0          Mailed check                    65.6                  593.3  \n",
              "1          Mailed check                    59.9                  542.4  \n",
              "2      Electronic check                    73.9                 280.85  \n",
              "3      Electronic check                    98.0                1237.85  \n",
              "4          Mailed check                    83.9                  267.4  \n",
              "\n",
              "[5 rows x 21 columns]"
            ]
          },
          "execution_count": 4,
          "metadata": {},
          "output_type": "execute_result"
        }
      ],
      "source": [
        "df_normalizado.head()"
      ]
    },
    {
      "cell_type": "code",
      "execution_count": 5,
      "metadata": {
        "colab": {
          "base_uri": "https://localhost:8080/"
        },
        "id": "38iL5-xl6hqB",
        "outputId": "4c5e1be1-6725-4894-c72d-32c704eada0a"
      },
      "outputs": [
        {
          "name": "stdout",
          "output_type": "stream",
          "text": [
            "Valores unicos en la columna 'customerID':7267\n",
            "Valores unicos en la columna 'Churn':3\n",
            "['No' 'Yes' '']\n",
            "--------------------------------------------------\n",
            "Valores unicos en la columna 'customer.gender':2\n",
            "['Female' 'Male']\n",
            "--------------------------------------------------\n",
            "Valores unicos en la columna 'customer.SeniorCitizen':2\n",
            "[0 1]\n",
            "--------------------------------------------------\n",
            "Valores unicos en la columna 'customer.Partner':2\n",
            "['Yes' 'No']\n",
            "--------------------------------------------------\n",
            "Valores unicos en la columna 'customer.Dependents':2\n",
            "['Yes' 'No']\n",
            "--------------------------------------------------\n",
            "Valores unicos en la columna 'customer.tenure':73\n",
            "Valores unicos en la columna 'phone.PhoneService':2\n",
            "['Yes' 'No']\n",
            "--------------------------------------------------\n",
            "Valores unicos en la columna 'phone.MultipleLines':3\n",
            "['No' 'Yes' 'No phone service']\n",
            "--------------------------------------------------\n",
            "Valores unicos en la columna 'internet.InternetService':3\n",
            "['DSL' 'Fiber optic' 'No']\n",
            "--------------------------------------------------\n",
            "Valores unicos en la columna 'internet.OnlineSecurity':3\n",
            "['No' 'Yes' 'No internet service']\n",
            "--------------------------------------------------\n",
            "Valores unicos en la columna 'internet.OnlineBackup':3\n",
            "['Yes' 'No' 'No internet service']\n",
            "--------------------------------------------------\n",
            "Valores unicos en la columna 'internet.DeviceProtection':3\n",
            "['No' 'Yes' 'No internet service']\n",
            "--------------------------------------------------\n",
            "Valores unicos en la columna 'internet.TechSupport':3\n",
            "['Yes' 'No' 'No internet service']\n",
            "--------------------------------------------------\n",
            "Valores unicos en la columna 'internet.StreamingTV':3\n",
            "['Yes' 'No' 'No internet service']\n",
            "--------------------------------------------------\n",
            "Valores unicos en la columna 'internet.StreamingMovies':3\n",
            "['No' 'Yes' 'No internet service']\n",
            "--------------------------------------------------\n",
            "Valores unicos en la columna 'account.Contract':3\n",
            "['One year' 'Month-to-month' 'Two year']\n",
            "--------------------------------------------------\n",
            "Valores unicos en la columna 'account.PaperlessBilling':2\n",
            "['Yes' 'No']\n",
            "--------------------------------------------------\n",
            "Valores unicos en la columna 'account.PaymentMethod':4\n",
            "['Mailed check' 'Electronic check' 'Credit card (automatic)'\n",
            " 'Bank transfer (automatic)']\n",
            "--------------------------------------------------\n",
            "Valores unicos en la columna 'account.Charges.Monthly':1585\n",
            "Valores unicos en la columna 'account.Charges.Total':6531\n"
          ]
        }
      ],
      "source": [
        "# Verificamos si hay valores unicos en cada columna\n",
        "for columna in df_normalizado.columns:\n",
        "  print(f\"Valores unicos en la columna '{columna}':{df_normalizado[columna].nunique()}\")\n",
        "  if df_normalizado[columna].nunique() < 50: #Imprime valores solamente si hay\n",
        "    print(df_normalizado[columna].unique())\n",
        "    print('--' *25)"
      ]
    },
    {
      "cell_type": "code",
      "execution_count": 6,
      "metadata": {
        "colab": {
          "base_uri": "https://localhost:8080/"
        },
        "id": "jyDEawTJYxrr",
        "outputId": "14ab3406-15d4-4342-bd06-9b32f1830c87"
      },
      "outputs": [
        {
          "name": "stdout",
          "output_type": "stream",
          "text": [
            "Cantidad de duplicados: 0\n"
          ]
        }
      ],
      "source": [
        "#Verificacion de Datos duplicados:\n",
        "duplicados = df_normalizado.duplicated().sum()\n",
        "print(f\"Cantidad de duplicados: {duplicados}\")"
      ]
    },
    {
      "cell_type": "code",
      "execution_count": 7,
      "metadata": {
        "colab": {
          "base_uri": "https://localhost:8080/"
        },
        "id": "i5IuFUhrY805",
        "outputId": "763094ed-77ad-4e05-e9c5-12952be245dd"
      },
      "outputs": [
        {
          "name": "stdout",
          "output_type": "stream",
          "text": [
            "\n",
            "Valores nulos por columna:\n",
            "[]\n"
          ]
        }
      ],
      "source": [
        "#Verificacion de valores nulos\n",
        "nulos = df_normalizado.isnull().values.sum()\n",
        "print(\"\\nValores nulos por columna:\")\n",
        "print(nulos[nulos > 0])"
      ]
    },
    {
      "cell_type": "code",
      "execution_count": 8,
      "metadata": {
        "colab": {
          "base_uri": "https://localhost:8080/"
        },
        "id": "AAyyAf5UahiY",
        "outputId": "16474476-70a2-4c7e-89a9-ba6094fb6308"
      },
      "outputs": [
        {
          "name": "stdout",
          "output_type": "stream",
          "text": [
            "\n",
            "Valores en blanco o vacios por columna:\n",
            "Churn                    224\n",
            "account.Charges.Total     11\n",
            "dtype: int64\n"
          ]
        }
      ],
      "source": [
        "#Valores en blanco o vacios:\n",
        "valores_b_vacio = df_normalizado.apply(lambda x: x.astype(str).str.strip() == '').sum()\n",
        "print(\"\\nValores en blanco o vacios por columna:\")\n",
        "print(valores_b_vacio[valores_b_vacio > 0])"
      ]
    },
    {
      "cell_type": "code",
      "execution_count": 9,
      "metadata": {
        "colab": {
          "base_uri": "https://localhost:8080/",
          "height": 742
        },
        "id": "cdLRQdQzj_eM",
        "outputId": "0810aaf1-0110-4499-86bb-d6b5e1022fc5"
      },
      "outputs": [
        {
          "data": {
            "text/plain": [
              "customerID                     0\n",
              "Churn                        224\n",
              "customer.gender                0\n",
              "customer.SeniorCitizen         0\n",
              "customer.Partner               0\n",
              "customer.Dependents            0\n",
              "customer.tenure                0\n",
              "phone.PhoneService             0\n",
              "phone.MultipleLines            0\n",
              "internet.InternetService       0\n",
              "internet.OnlineSecurity        0\n",
              "internet.OnlineBackup          0\n",
              "internet.DeviceProtection      0\n",
              "internet.TechSupport           0\n",
              "internet.StreamingTV           0\n",
              "internet.StreamingMovies       0\n",
              "account.Contract               0\n",
              "account.PaperlessBilling       0\n",
              "account.PaymentMethod          0\n",
              "account.Charges.Monthly        0\n",
              "account.Charges.Total         11\n",
              "dtype: int64"
            ]
          },
          "execution_count": 9,
          "metadata": {},
          "output_type": "execute_result"
        }
      ],
      "source": [
        "df_normalizado.apply(lambda x: x.astype(str).str.strip() == '').sum()"
      ]
    },
    {
      "cell_type": "code",
      "execution_count": 10,
      "metadata": {
        "colab": {
          "base_uri": "https://localhost:8080/"
        },
        "id": "JdGKJAcXbhCr",
        "outputId": "2af83174-5dab-47b0-d743-e9ff9e18efd7"
      },
      "outputs": [
        {
          "name": "stdout",
          "output_type": "stream",
          "text": [
            "['customerID', 'Churn', 'customer', 'phone', 'internet', 'account']\n"
          ]
        }
      ],
      "source": [
        "print(df.columns.tolist())"
      ]
    },
    {
      "cell_type": "code",
      "execution_count": 11,
      "metadata": {
        "id": "3ROXnamDbqIC"
      },
      "outputs": [],
      "source": [
        "df = json_normalize(data, sep='.')"
      ]
    },
    {
      "cell_type": "code",
      "execution_count": 12,
      "metadata": {
        "colab": {
          "base_uri": "https://localhost:8080/"
        },
        "id": "akHUy7yVkGtC",
        "outputId": "c3190da6-cf88-494f-9e01-25801a23cca3"
      },
      "outputs": [
        {
          "name": "stdout",
          "output_type": "stream",
          "text": [
            "float64\n"
          ]
        }
      ],
      "source": [
        "# Cambiamos la columna Charges total a float\n",
        "df_normalizado['account.Charges.Total'] = pd.to_numeric(df_normalizado['account.Charges.Total'], errors='coerce')\n",
        "print(df_normalizado['account.Charges.Total'].dtype)"
      ]
    },
    {
      "cell_type": "code",
      "execution_count": 13,
      "metadata": {
        "colab": {
          "base_uri": "https://localhost:8080/"
        },
        "id": "lIvVMushkgFg",
        "outputId": "14fec454-8c53-4c67-c6d5-8649fabcc4c9"
      },
      "outputs": [
        {
          "name": "stdout",
          "output_type": "stream",
          "text": [
            "Numero de filas despues de eliminar Churn :  7043\n"
          ]
        }
      ],
      "source": [
        "# Eliminacion de columna Churn\n",
        "df_normalizado = df_normalizado[df_normalizado['Churn'].str.strip() != '']\n",
        "print(\"Numero de filas despues de eliminar Churn : \", len(df_normalizado))"
      ]
    },
    {
      "cell_type": "code",
      "execution_count": 14,
      "metadata": {
        "colab": {
          "base_uri": "https://localhost:8080/",
          "height": 742
        },
        "id": "EVIaSsnSlK8T",
        "outputId": "9aa9a379-6b88-41f3-d1ff-40b3060c25a4"
      },
      "outputs": [
        {
          "data": {
            "text/plain": [
              "customerID                   0\n",
              "Churn                        0\n",
              "customer.gender              0\n",
              "customer.SeniorCitizen       0\n",
              "customer.Partner             0\n",
              "customer.Dependents          0\n",
              "customer.tenure              0\n",
              "phone.PhoneService           0\n",
              "phone.MultipleLines          0\n",
              "internet.InternetService     0\n",
              "internet.OnlineSecurity      0\n",
              "internet.OnlineBackup        0\n",
              "internet.DeviceProtection    0\n",
              "internet.TechSupport         0\n",
              "internet.StreamingTV         0\n",
              "internet.StreamingMovies     0\n",
              "account.Contract             0\n",
              "account.PaperlessBilling     0\n",
              "account.PaymentMethod        0\n",
              "account.Charges.Monthly      0\n",
              "account.Charges.Total        0\n",
              "dtype: int64"
            ]
          },
          "execution_count": 14,
          "metadata": {},
          "output_type": "execute_result"
        }
      ],
      "source": [
        "# Vacios en Blanco\n",
        "df_normalizado.apply(lambda x: x.astype(str).str.strip() == '').sum()"
      ]
    },
    {
      "cell_type": "code",
      "execution_count": 15,
      "metadata": {
        "colab": {
          "base_uri": "https://localhost:8080/",
          "height": 300
        },
        "id": "gcmPUj8_lQ_H",
        "outputId": "53baf2a2-490b-4ac2-ac1c-3f4c2ea5a866"
      },
      "outputs": [
        {
          "data": {
            "text/html": [
              "<div>\n",
              "<style scoped>\n",
              "    .dataframe tbody tr th:only-of-type {\n",
              "        vertical-align: middle;\n",
              "    }\n",
              "\n",
              "    .dataframe tbody tr th {\n",
              "        vertical-align: top;\n",
              "    }\n",
              "\n",
              "    .dataframe thead th {\n",
              "        text-align: right;\n",
              "    }\n",
              "</style>\n",
              "<table border=\"1\" class=\"dataframe\">\n",
              "  <thead>\n",
              "    <tr style=\"text-align: right;\">\n",
              "      <th></th>\n",
              "      <th>customer.SeniorCitizen</th>\n",
              "      <th>customer.tenure</th>\n",
              "      <th>account.Charges.Monthly</th>\n",
              "      <th>account.Charges.Total</th>\n",
              "    </tr>\n",
              "  </thead>\n",
              "  <tbody>\n",
              "    <tr>\n",
              "      <th>count</th>\n",
              "      <td>7043.000000</td>\n",
              "      <td>7043.000000</td>\n",
              "      <td>7043.000000</td>\n",
              "      <td>7032.000000</td>\n",
              "    </tr>\n",
              "    <tr>\n",
              "      <th>mean</th>\n",
              "      <td>0.162147</td>\n",
              "      <td>32.371149</td>\n",
              "      <td>64.761692</td>\n",
              "      <td>2283.300441</td>\n",
              "    </tr>\n",
              "    <tr>\n",
              "      <th>std</th>\n",
              "      <td>0.368612</td>\n",
              "      <td>24.559481</td>\n",
              "      <td>30.090047</td>\n",
              "      <td>2266.771362</td>\n",
              "    </tr>\n",
              "    <tr>\n",
              "      <th>min</th>\n",
              "      <td>0.000000</td>\n",
              "      <td>0.000000</td>\n",
              "      <td>18.250000</td>\n",
              "      <td>18.800000</td>\n",
              "    </tr>\n",
              "    <tr>\n",
              "      <th>25%</th>\n",
              "      <td>0.000000</td>\n",
              "      <td>9.000000</td>\n",
              "      <td>35.500000</td>\n",
              "      <td>401.450000</td>\n",
              "    </tr>\n",
              "    <tr>\n",
              "      <th>50%</th>\n",
              "      <td>0.000000</td>\n",
              "      <td>29.000000</td>\n",
              "      <td>70.350000</td>\n",
              "      <td>1397.475000</td>\n",
              "    </tr>\n",
              "    <tr>\n",
              "      <th>75%</th>\n",
              "      <td>0.000000</td>\n",
              "      <td>55.000000</td>\n",
              "      <td>89.850000</td>\n",
              "      <td>3794.737500</td>\n",
              "    </tr>\n",
              "    <tr>\n",
              "      <th>max</th>\n",
              "      <td>1.000000</td>\n",
              "      <td>72.000000</td>\n",
              "      <td>118.750000</td>\n",
              "      <td>8684.800000</td>\n",
              "    </tr>\n",
              "  </tbody>\n",
              "</table>\n",
              "</div>"
            ],
            "text/plain": [
              "       customer.SeniorCitizen  customer.tenure  account.Charges.Monthly  \\\n",
              "count             7043.000000      7043.000000              7043.000000   \n",
              "mean                 0.162147        32.371149                64.761692   \n",
              "std                  0.368612        24.559481                30.090047   \n",
              "min                  0.000000         0.000000                18.250000   \n",
              "25%                  0.000000         9.000000                35.500000   \n",
              "50%                  0.000000        29.000000                70.350000   \n",
              "75%                  0.000000        55.000000                89.850000   \n",
              "max                  1.000000        72.000000               118.750000   \n",
              "\n",
              "       account.Charges.Total  \n",
              "count            7032.000000  \n",
              "mean             2283.300441  \n",
              "std              2266.771362  \n",
              "min                18.800000  \n",
              "25%               401.450000  \n",
              "50%              1397.475000  \n",
              "75%              3794.737500  \n",
              "max              8684.800000  "
            ]
          },
          "execution_count": 15,
          "metadata": {},
          "output_type": "execute_result"
        }
      ],
      "source": [
        "df_normalizado.describe()"
      ]
    },
    {
      "cell_type": "code",
      "execution_count": 16,
      "metadata": {
        "colab": {
          "base_uri": "https://localhost:8080/"
        },
        "id": "4kea_9YlbR8f",
        "outputId": "bbdf6e61-0a90-4673-8d3c-59a1809e3b3d"
      },
      "outputs": [
        {
          "name": "stdout",
          "output_type": "stream",
          "text": [
            "\n",
            "Tipos de datos por columna:\n",
            "customerID                    object\n",
            "Churn                         object\n",
            "customer.gender               object\n",
            "customer.SeniorCitizen         int64\n",
            "customer.Partner              object\n",
            "customer.Dependents           object\n",
            "customer.tenure                int64\n",
            "phone.PhoneService            object\n",
            "phone.MultipleLines           object\n",
            "internet.InternetService      object\n",
            "internet.OnlineSecurity       object\n",
            "internet.OnlineBackup         object\n",
            "internet.DeviceProtection     object\n",
            "internet.TechSupport          object\n",
            "internet.StreamingTV          object\n",
            "internet.StreamingMovies      object\n",
            "account.Contract              object\n",
            "account.PaperlessBilling      object\n",
            "account.PaymentMethod         object\n",
            "account.Charges.Monthly      float64\n",
            "account.Charges.Total        float64\n",
            "dtype: object\n"
          ]
        }
      ],
      "source": [
        "# Tipos de Datos\n",
        "print(\"\\nTipos de datos por columna:\")\n",
        "print(df_normalizado.dtypes)"
      ]
    },
    {
      "cell_type": "code",
      "execution_count": 17,
      "metadata": {
        "colab": {
          "base_uri": "https://localhost:8080/"
        },
        "id": "r_2X5nkGlqwm",
        "outputId": "85c222bd-020f-41ed-a978-36205cefc3e5"
      },
      "outputs": [
        {
          "name": "stdout",
          "output_type": "stream",
          "text": [
            "      account.Charges.Monthly  Cuentas_Diarias\n",
            "0                       65.60         2.186667\n",
            "1                       59.90         1.996667\n",
            "2                       73.90         2.463333\n",
            "3                       98.00         3.266667\n",
            "4                       83.90         2.796667\n",
            "...                       ...              ...\n",
            "7262                    55.15         1.838333\n",
            "7263                    85.10         2.836667\n",
            "7264                    50.30         1.676667\n",
            "7265                    67.85         2.261667\n",
            "7266                    59.00         1.966667\n",
            "\n",
            "[7043 rows x 2 columns]\n"
          ]
        }
      ],
      "source": [
        "#Crear Columnas cuentas diarias\n",
        "df_normalizado['Cuentas_Diarias'] = df_normalizado['account.Charges.Monthly'] / 30\n",
        "print(df_normalizado[['account.Charges.Monthly', 'Cuentas_Diarias']])"
      ]
    },
    {
      "cell_type": "code",
      "execution_count": 18,
      "metadata": {
        "id": "eoZ2nTendOt3"
      },
      "outputs": [],
      "source": [
        "# Renombrar columnas para facilitar el análisis\n",
        "df.columns = df.columns.str.replace(r'^(customer\\.|phone\\.|internet\\.|account\\.)', '', regex=True)\n",
        "df.columns = df.columns.str.replace('.', '_', regex=False).str.lower()"
      ]
    },
    {
      "cell_type": "code",
      "execution_count": 19,
      "metadata": {
        "id": "Cbn2Me2pdXrA"
      },
      "outputs": [],
      "source": [
        "# Limpiar valores textuales\n",
        "for col in df.select_dtypes(include='object').columns:\n",
        "    df[col] = df[col].str.strip().str.lower()"
      ]
    },
    {
      "cell_type": "code",
      "execution_count": 20,
      "metadata": {
        "colab": {
          "base_uri": "https://localhost:8080/"
        },
        "id": "QcETzFqsdZmW",
        "outputId": "40d38431-4ea7-44c2-85fc-724f5dcf4e90"
      },
      "outputs": [
        {
          "name": "stderr",
          "output_type": "stream",
          "text": [
            "C:\\Users\\DIEGO\\AppData\\Local\\Temp\\ipykernel_16092\\1574286218.py:2: FutureWarning: Downcasting behavior in `replace` is deprecated and will be removed in a future version. To retain the old behavior, explicitly call `result.infer_objects(copy=False)`. To opt-in to the future behavior, set `pd.set_option('future.no_silent_downcasting', True)`\n",
            "  df.replace({'yes': 1, 'no': 0}, inplace=True)\n"
          ]
        }
      ],
      "source": [
        "# Estandarizar valores como “sí/no” a binarios\n",
        "df.replace({'yes': 1, 'no': 0}, inplace=True)"
      ]
    },
    {
      "cell_type": "code",
      "execution_count": 21,
      "metadata": {
        "colab": {
          "base_uri": "https://localhost:8080/",
          "height": 582
        },
        "id": "zQvgaoI_taE6",
        "outputId": "184d55c8-c2f2-4821-dabc-22ebc656dde9"
      },
      "outputs": [
        {
          "data": {
            "text/html": [
              "<div>\n",
              "<style scoped>\n",
              "    .dataframe tbody tr th:only-of-type {\n",
              "        vertical-align: middle;\n",
              "    }\n",
              "\n",
              "    .dataframe tbody tr th {\n",
              "        vertical-align: top;\n",
              "    }\n",
              "\n",
              "    .dataframe thead th {\n",
              "        text-align: right;\n",
              "    }\n",
              "</style>\n",
              "<table border=\"1\" class=\"dataframe\">\n",
              "  <thead>\n",
              "    <tr style=\"text-align: right;\">\n",
              "      <th></th>\n",
              "      <th>customerID</th>\n",
              "      <th>Churn</th>\n",
              "      <th>customer.gender</th>\n",
              "      <th>customer.SeniorCitizen</th>\n",
              "      <th>customer.Partner</th>\n",
              "      <th>customer.Dependents</th>\n",
              "      <th>customer.tenure</th>\n",
              "      <th>phone.PhoneService</th>\n",
              "      <th>phone.MultipleLines</th>\n",
              "      <th>internet.InternetService</th>\n",
              "      <th>...</th>\n",
              "      <th>internet.DeviceProtection</th>\n",
              "      <th>internet.TechSupport</th>\n",
              "      <th>internet.StreamingTV</th>\n",
              "      <th>internet.StreamingMovies</th>\n",
              "      <th>account.Contract</th>\n",
              "      <th>account.PaperlessBilling</th>\n",
              "      <th>account.PaymentMethod</th>\n",
              "      <th>account.Charges.Monthly</th>\n",
              "      <th>account.Charges.Total</th>\n",
              "      <th>Cuentas_Diarias</th>\n",
              "    </tr>\n",
              "  </thead>\n",
              "  <tbody>\n",
              "    <tr>\n",
              "      <th>0</th>\n",
              "      <td>0002-ORFBO</td>\n",
              "      <td>No</td>\n",
              "      <td>Female</td>\n",
              "      <td>0</td>\n",
              "      <td>Yes</td>\n",
              "      <td>Yes</td>\n",
              "      <td>9</td>\n",
              "      <td>Yes</td>\n",
              "      <td>No</td>\n",
              "      <td>DSL</td>\n",
              "      <td>...</td>\n",
              "      <td>No</td>\n",
              "      <td>Yes</td>\n",
              "      <td>Yes</td>\n",
              "      <td>No</td>\n",
              "      <td>One year</td>\n",
              "      <td>Yes</td>\n",
              "      <td>Mailed check</td>\n",
              "      <td>65.60</td>\n",
              "      <td>593.30</td>\n",
              "      <td>2.186667</td>\n",
              "    </tr>\n",
              "    <tr>\n",
              "      <th>1</th>\n",
              "      <td>0003-MKNFE</td>\n",
              "      <td>No</td>\n",
              "      <td>Male</td>\n",
              "      <td>0</td>\n",
              "      <td>No</td>\n",
              "      <td>No</td>\n",
              "      <td>9</td>\n",
              "      <td>Yes</td>\n",
              "      <td>Yes</td>\n",
              "      <td>DSL</td>\n",
              "      <td>...</td>\n",
              "      <td>No</td>\n",
              "      <td>No</td>\n",
              "      <td>No</td>\n",
              "      <td>Yes</td>\n",
              "      <td>Month-to-month</td>\n",
              "      <td>No</td>\n",
              "      <td>Mailed check</td>\n",
              "      <td>59.90</td>\n",
              "      <td>542.40</td>\n",
              "      <td>1.996667</td>\n",
              "    </tr>\n",
              "    <tr>\n",
              "      <th>2</th>\n",
              "      <td>0004-TLHLJ</td>\n",
              "      <td>Yes</td>\n",
              "      <td>Male</td>\n",
              "      <td>0</td>\n",
              "      <td>No</td>\n",
              "      <td>No</td>\n",
              "      <td>4</td>\n",
              "      <td>Yes</td>\n",
              "      <td>No</td>\n",
              "      <td>Fiber optic</td>\n",
              "      <td>...</td>\n",
              "      <td>Yes</td>\n",
              "      <td>No</td>\n",
              "      <td>No</td>\n",
              "      <td>No</td>\n",
              "      <td>Month-to-month</td>\n",
              "      <td>Yes</td>\n",
              "      <td>Electronic check</td>\n",
              "      <td>73.90</td>\n",
              "      <td>280.85</td>\n",
              "      <td>2.463333</td>\n",
              "    </tr>\n",
              "    <tr>\n",
              "      <th>3</th>\n",
              "      <td>0011-IGKFF</td>\n",
              "      <td>Yes</td>\n",
              "      <td>Male</td>\n",
              "      <td>1</td>\n",
              "      <td>Yes</td>\n",
              "      <td>No</td>\n",
              "      <td>13</td>\n",
              "      <td>Yes</td>\n",
              "      <td>No</td>\n",
              "      <td>Fiber optic</td>\n",
              "      <td>...</td>\n",
              "      <td>Yes</td>\n",
              "      <td>No</td>\n",
              "      <td>Yes</td>\n",
              "      <td>Yes</td>\n",
              "      <td>Month-to-month</td>\n",
              "      <td>Yes</td>\n",
              "      <td>Electronic check</td>\n",
              "      <td>98.00</td>\n",
              "      <td>1237.85</td>\n",
              "      <td>3.266667</td>\n",
              "    </tr>\n",
              "    <tr>\n",
              "      <th>4</th>\n",
              "      <td>0013-EXCHZ</td>\n",
              "      <td>Yes</td>\n",
              "      <td>Female</td>\n",
              "      <td>1</td>\n",
              "      <td>Yes</td>\n",
              "      <td>No</td>\n",
              "      <td>3</td>\n",
              "      <td>Yes</td>\n",
              "      <td>No</td>\n",
              "      <td>Fiber optic</td>\n",
              "      <td>...</td>\n",
              "      <td>No</td>\n",
              "      <td>Yes</td>\n",
              "      <td>Yes</td>\n",
              "      <td>No</td>\n",
              "      <td>Month-to-month</td>\n",
              "      <td>Yes</td>\n",
              "      <td>Mailed check</td>\n",
              "      <td>83.90</td>\n",
              "      <td>267.40</td>\n",
              "      <td>2.796667</td>\n",
              "    </tr>\n",
              "    <tr>\n",
              "      <th>...</th>\n",
              "      <td>...</td>\n",
              "      <td>...</td>\n",
              "      <td>...</td>\n",
              "      <td>...</td>\n",
              "      <td>...</td>\n",
              "      <td>...</td>\n",
              "      <td>...</td>\n",
              "      <td>...</td>\n",
              "      <td>...</td>\n",
              "      <td>...</td>\n",
              "      <td>...</td>\n",
              "      <td>...</td>\n",
              "      <td>...</td>\n",
              "      <td>...</td>\n",
              "      <td>...</td>\n",
              "      <td>...</td>\n",
              "      <td>...</td>\n",
              "      <td>...</td>\n",
              "      <td>...</td>\n",
              "      <td>...</td>\n",
              "      <td>...</td>\n",
              "    </tr>\n",
              "    <tr>\n",
              "      <th>7262</th>\n",
              "      <td>9987-LUTYD</td>\n",
              "      <td>No</td>\n",
              "      <td>Female</td>\n",
              "      <td>0</td>\n",
              "      <td>No</td>\n",
              "      <td>No</td>\n",
              "      <td>13</td>\n",
              "      <td>Yes</td>\n",
              "      <td>No</td>\n",
              "      <td>DSL</td>\n",
              "      <td>...</td>\n",
              "      <td>No</td>\n",
              "      <td>Yes</td>\n",
              "      <td>No</td>\n",
              "      <td>No</td>\n",
              "      <td>One year</td>\n",
              "      <td>No</td>\n",
              "      <td>Mailed check</td>\n",
              "      <td>55.15</td>\n",
              "      <td>742.90</td>\n",
              "      <td>1.838333</td>\n",
              "    </tr>\n",
              "    <tr>\n",
              "      <th>7263</th>\n",
              "      <td>9992-RRAMN</td>\n",
              "      <td>Yes</td>\n",
              "      <td>Male</td>\n",
              "      <td>0</td>\n",
              "      <td>Yes</td>\n",
              "      <td>No</td>\n",
              "      <td>22</td>\n",
              "      <td>Yes</td>\n",
              "      <td>Yes</td>\n",
              "      <td>Fiber optic</td>\n",
              "      <td>...</td>\n",
              "      <td>No</td>\n",
              "      <td>No</td>\n",
              "      <td>No</td>\n",
              "      <td>Yes</td>\n",
              "      <td>Month-to-month</td>\n",
              "      <td>Yes</td>\n",
              "      <td>Electronic check</td>\n",
              "      <td>85.10</td>\n",
              "      <td>1873.70</td>\n",
              "      <td>2.836667</td>\n",
              "    </tr>\n",
              "    <tr>\n",
              "      <th>7264</th>\n",
              "      <td>9992-UJOEL</td>\n",
              "      <td>No</td>\n",
              "      <td>Male</td>\n",
              "      <td>0</td>\n",
              "      <td>No</td>\n",
              "      <td>No</td>\n",
              "      <td>2</td>\n",
              "      <td>Yes</td>\n",
              "      <td>No</td>\n",
              "      <td>DSL</td>\n",
              "      <td>...</td>\n",
              "      <td>No</td>\n",
              "      <td>No</td>\n",
              "      <td>No</td>\n",
              "      <td>No</td>\n",
              "      <td>Month-to-month</td>\n",
              "      <td>Yes</td>\n",
              "      <td>Mailed check</td>\n",
              "      <td>50.30</td>\n",
              "      <td>92.75</td>\n",
              "      <td>1.676667</td>\n",
              "    </tr>\n",
              "    <tr>\n",
              "      <th>7265</th>\n",
              "      <td>9993-LHIEB</td>\n",
              "      <td>No</td>\n",
              "      <td>Male</td>\n",
              "      <td>0</td>\n",
              "      <td>Yes</td>\n",
              "      <td>Yes</td>\n",
              "      <td>67</td>\n",
              "      <td>Yes</td>\n",
              "      <td>No</td>\n",
              "      <td>DSL</td>\n",
              "      <td>...</td>\n",
              "      <td>Yes</td>\n",
              "      <td>Yes</td>\n",
              "      <td>No</td>\n",
              "      <td>Yes</td>\n",
              "      <td>Two year</td>\n",
              "      <td>No</td>\n",
              "      <td>Mailed check</td>\n",
              "      <td>67.85</td>\n",
              "      <td>4627.65</td>\n",
              "      <td>2.261667</td>\n",
              "    </tr>\n",
              "    <tr>\n",
              "      <th>7266</th>\n",
              "      <td>9995-HOTOH</td>\n",
              "      <td>No</td>\n",
              "      <td>Male</td>\n",
              "      <td>0</td>\n",
              "      <td>Yes</td>\n",
              "      <td>Yes</td>\n",
              "      <td>63</td>\n",
              "      <td>No</td>\n",
              "      <td>No phone service</td>\n",
              "      <td>DSL</td>\n",
              "      <td>...</td>\n",
              "      <td>Yes</td>\n",
              "      <td>No</td>\n",
              "      <td>Yes</td>\n",
              "      <td>Yes</td>\n",
              "      <td>Two year</td>\n",
              "      <td>No</td>\n",
              "      <td>Electronic check</td>\n",
              "      <td>59.00</td>\n",
              "      <td>3707.60</td>\n",
              "      <td>1.966667</td>\n",
              "    </tr>\n",
              "  </tbody>\n",
              "</table>\n",
              "<p>7043 rows × 22 columns</p>\n",
              "</div>"
            ],
            "text/plain": [
              "      customerID Churn customer.gender  customer.SeniorCitizen  \\\n",
              "0     0002-ORFBO    No          Female                       0   \n",
              "1     0003-MKNFE    No            Male                       0   \n",
              "2     0004-TLHLJ   Yes            Male                       0   \n",
              "3     0011-IGKFF   Yes            Male                       1   \n",
              "4     0013-EXCHZ   Yes          Female                       1   \n",
              "...          ...   ...             ...                     ...   \n",
              "7262  9987-LUTYD    No          Female                       0   \n",
              "7263  9992-RRAMN   Yes            Male                       0   \n",
              "7264  9992-UJOEL    No            Male                       0   \n",
              "7265  9993-LHIEB    No            Male                       0   \n",
              "7266  9995-HOTOH    No            Male                       0   \n",
              "\n",
              "     customer.Partner customer.Dependents  customer.tenure phone.PhoneService  \\\n",
              "0                 Yes                 Yes                9                Yes   \n",
              "1                  No                  No                9                Yes   \n",
              "2                  No                  No                4                Yes   \n",
              "3                 Yes                  No               13                Yes   \n",
              "4                 Yes                  No                3                Yes   \n",
              "...               ...                 ...              ...                ...   \n",
              "7262               No                  No               13                Yes   \n",
              "7263              Yes                  No               22                Yes   \n",
              "7264               No                  No                2                Yes   \n",
              "7265              Yes                 Yes               67                Yes   \n",
              "7266              Yes                 Yes               63                 No   \n",
              "\n",
              "     phone.MultipleLines internet.InternetService  ...  \\\n",
              "0                     No                      DSL  ...   \n",
              "1                    Yes                      DSL  ...   \n",
              "2                     No              Fiber optic  ...   \n",
              "3                     No              Fiber optic  ...   \n",
              "4                     No              Fiber optic  ...   \n",
              "...                  ...                      ...  ...   \n",
              "7262                  No                      DSL  ...   \n",
              "7263                 Yes              Fiber optic  ...   \n",
              "7264                  No                      DSL  ...   \n",
              "7265                  No                      DSL  ...   \n",
              "7266    No phone service                      DSL  ...   \n",
              "\n",
              "     internet.DeviceProtection internet.TechSupport internet.StreamingTV  \\\n",
              "0                           No                  Yes                  Yes   \n",
              "1                           No                   No                   No   \n",
              "2                          Yes                   No                   No   \n",
              "3                          Yes                   No                  Yes   \n",
              "4                           No                  Yes                  Yes   \n",
              "...                        ...                  ...                  ...   \n",
              "7262                        No                  Yes                   No   \n",
              "7263                        No                   No                   No   \n",
              "7264                        No                   No                   No   \n",
              "7265                       Yes                  Yes                   No   \n",
              "7266                       Yes                   No                  Yes   \n",
              "\n",
              "     internet.StreamingMovies account.Contract account.PaperlessBilling  \\\n",
              "0                          No         One year                      Yes   \n",
              "1                         Yes   Month-to-month                       No   \n",
              "2                          No   Month-to-month                      Yes   \n",
              "3                         Yes   Month-to-month                      Yes   \n",
              "4                          No   Month-to-month                      Yes   \n",
              "...                       ...              ...                      ...   \n",
              "7262                       No         One year                       No   \n",
              "7263                      Yes   Month-to-month                      Yes   \n",
              "7264                       No   Month-to-month                      Yes   \n",
              "7265                      Yes         Two year                       No   \n",
              "7266                      Yes         Two year                       No   \n",
              "\n",
              "     account.PaymentMethod account.Charges.Monthly account.Charges.Total  \\\n",
              "0             Mailed check                   65.60                593.30   \n",
              "1             Mailed check                   59.90                542.40   \n",
              "2         Electronic check                   73.90                280.85   \n",
              "3         Electronic check                   98.00               1237.85   \n",
              "4             Mailed check                   83.90                267.40   \n",
              "...                    ...                     ...                   ...   \n",
              "7262          Mailed check                   55.15                742.90   \n",
              "7263      Electronic check                   85.10               1873.70   \n",
              "7264          Mailed check                   50.30                 92.75   \n",
              "7265          Mailed check                   67.85               4627.65   \n",
              "7266      Electronic check                   59.00               3707.60   \n",
              "\n",
              "      Cuentas_Diarias  \n",
              "0            2.186667  \n",
              "1            1.996667  \n",
              "2            2.463333  \n",
              "3            3.266667  \n",
              "4            2.796667  \n",
              "...               ...  \n",
              "7262         1.838333  \n",
              "7263         2.836667  \n",
              "7264         1.676667  \n",
              "7265         2.261667  \n",
              "7266         1.966667  \n",
              "\n",
              "[7043 rows x 22 columns]"
            ]
          },
          "execution_count": 21,
          "metadata": {},
          "output_type": "execute_result"
        }
      ],
      "source": [
        "df_normalizado = df_normalizado.drop('Cuentas_Diarias', errors='ignore')\n",
        "df_normalizado"
      ]
    },
    {
      "cell_type": "code",
      "execution_count": 22,
      "metadata": {
        "colab": {
          "base_uri": "https://localhost:8080/"
        },
        "id": "JHXPaHWddpyt",
        "outputId": "8451d9bd-4108-4e5a-9b4e-fa884f612719"
      },
      "outputs": [
        {
          "name": "stdout",
          "output_type": "stream",
          "text": [
            "['customerid', 'churn', 'gender', 'seniorcitizen', 'partner', 'dependents', 'tenure', 'phoneservice', 'multiplelines', 'internetservice', 'onlinesecurity', 'onlinebackup', 'deviceprotection', 'techsupport', 'streamingtv', 'streamingmovies', 'contract', 'paperlessbilling', 'paymentmethod', 'charges_monthly', 'charges_total']\n"
          ]
        }
      ],
      "source": [
        "print(df.columns.tolist())"
      ]
    },
    {
      "cell_type": "code",
      "execution_count": 23,
      "metadata": {
        "colab": {
          "base_uri": "https://localhost:8080/",
          "height": 209
        },
        "id": "Mz-iYESddspY",
        "outputId": "6c6adc4f-73f5-415f-9345-122dfea0072f"
      },
      "outputs": [
        {
          "data": {
            "text/plain": [
              "contract\n",
              "month-to-month    4005\n",
              "two year          1743\n",
              "one year          1519\n",
              "Name: count, dtype: int64"
            ]
          },
          "execution_count": 23,
          "metadata": {},
          "output_type": "execute_result"
        }
      ],
      "source": [
        "df['contract'].value_counts()"
      ]
    },
    {
      "cell_type": "markdown",
      "metadata": {
        "id": "Wk-IJqO_gwlr"
      },
      "source": [
        "#📊 Carga y análisis"
      ]
    },
    {
      "cell_type": "code",
      "execution_count": 24,
      "metadata": {
        "colab": {
          "base_uri": "https://localhost:8080/",
          "height": 707
        },
        "id": "aQL582ojhTv4",
        "outputId": "434641f0-204d-40a9-ab42-b4220722ce2f"
      },
      "outputs": [
        {
          "data": {
            "text/html": [
              "<div>\n",
              "<style scoped>\n",
              "    .dataframe tbody tr th:only-of-type {\n",
              "        vertical-align: middle;\n",
              "    }\n",
              "\n",
              "    .dataframe tbody tr th {\n",
              "        vertical-align: top;\n",
              "    }\n",
              "\n",
              "    .dataframe thead th {\n",
              "        text-align: right;\n",
              "    }\n",
              "</style>\n",
              "<table border=\"1\" class=\"dataframe\">\n",
              "  <thead>\n",
              "    <tr style=\"text-align: right;\">\n",
              "      <th></th>\n",
              "      <th>count</th>\n",
              "      <th>unique</th>\n",
              "      <th>top</th>\n",
              "      <th>freq</th>\n",
              "      <th>mean</th>\n",
              "      <th>std</th>\n",
              "      <th>min</th>\n",
              "      <th>25%</th>\n",
              "      <th>50%</th>\n",
              "      <th>75%</th>\n",
              "      <th>max</th>\n",
              "    </tr>\n",
              "  </thead>\n",
              "  <tbody>\n",
              "    <tr>\n",
              "      <th>customerid</th>\n",
              "      <td>7267</td>\n",
              "      <td>7267</td>\n",
              "      <td>0002-orfbo</td>\n",
              "      <td>1</td>\n",
              "      <td>NaN</td>\n",
              "      <td>NaN</td>\n",
              "      <td>NaN</td>\n",
              "      <td>NaN</td>\n",
              "      <td>NaN</td>\n",
              "      <td>NaN</td>\n",
              "      <td>NaN</td>\n",
              "    </tr>\n",
              "    <tr>\n",
              "      <th>churn</th>\n",
              "      <td>7267.0</td>\n",
              "      <td>3.0</td>\n",
              "      <td>0.0</td>\n",
              "      <td>5174.0</td>\n",
              "      <td>NaN</td>\n",
              "      <td>NaN</td>\n",
              "      <td>NaN</td>\n",
              "      <td>NaN</td>\n",
              "      <td>NaN</td>\n",
              "      <td>NaN</td>\n",
              "      <td>NaN</td>\n",
              "    </tr>\n",
              "    <tr>\n",
              "      <th>gender</th>\n",
              "      <td>7267</td>\n",
              "      <td>2</td>\n",
              "      <td>male</td>\n",
              "      <td>3675</td>\n",
              "      <td>NaN</td>\n",
              "      <td>NaN</td>\n",
              "      <td>NaN</td>\n",
              "      <td>NaN</td>\n",
              "      <td>NaN</td>\n",
              "      <td>NaN</td>\n",
              "      <td>NaN</td>\n",
              "    </tr>\n",
              "    <tr>\n",
              "      <th>seniorcitizen</th>\n",
              "      <td>7267.0</td>\n",
              "      <td>NaN</td>\n",
              "      <td>NaN</td>\n",
              "      <td>NaN</td>\n",
              "      <td>0.162653</td>\n",
              "      <td>0.369074</td>\n",
              "      <td>0.0</td>\n",
              "      <td>0.0</td>\n",
              "      <td>0.0</td>\n",
              "      <td>0.0</td>\n",
              "      <td>1.0</td>\n",
              "    </tr>\n",
              "    <tr>\n",
              "      <th>partner</th>\n",
              "      <td>7267.0</td>\n",
              "      <td>NaN</td>\n",
              "      <td>NaN</td>\n",
              "      <td>NaN</td>\n",
              "      <td>0.484106</td>\n",
              "      <td>0.499782</td>\n",
              "      <td>0.0</td>\n",
              "      <td>0.0</td>\n",
              "      <td>0.0</td>\n",
              "      <td>1.0</td>\n",
              "      <td>1.0</td>\n",
              "    </tr>\n",
              "    <tr>\n",
              "      <th>dependents</th>\n",
              "      <td>7267.0</td>\n",
              "      <td>NaN</td>\n",
              "      <td>NaN</td>\n",
              "      <td>NaN</td>\n",
              "      <td>0.300124</td>\n",
              "      <td>0.458343</td>\n",
              "      <td>0.0</td>\n",
              "      <td>0.0</td>\n",
              "      <td>0.0</td>\n",
              "      <td>1.0</td>\n",
              "      <td>1.0</td>\n",
              "    </tr>\n",
              "    <tr>\n",
              "      <th>tenure</th>\n",
              "      <td>7267.0</td>\n",
              "      <td>NaN</td>\n",
              "      <td>NaN</td>\n",
              "      <td>NaN</td>\n",
              "      <td>32.346498</td>\n",
              "      <td>24.571773</td>\n",
              "      <td>0.0</td>\n",
              "      <td>9.0</td>\n",
              "      <td>29.0</td>\n",
              "      <td>55.0</td>\n",
              "      <td>72.0</td>\n",
              "    </tr>\n",
              "    <tr>\n",
              "      <th>phoneservice</th>\n",
              "      <td>7267.0</td>\n",
              "      <td>NaN</td>\n",
              "      <td>NaN</td>\n",
              "      <td>NaN</td>\n",
              "      <td>0.902711</td>\n",
              "      <td>0.296371</td>\n",
              "      <td>0.0</td>\n",
              "      <td>1.0</td>\n",
              "      <td>1.0</td>\n",
              "      <td>1.0</td>\n",
              "      <td>1.0</td>\n",
              "    </tr>\n",
              "    <tr>\n",
              "      <th>multiplelines</th>\n",
              "      <td>7267.0</td>\n",
              "      <td>3.0</td>\n",
              "      <td>0.0</td>\n",
              "      <td>3495.0</td>\n",
              "      <td>NaN</td>\n",
              "      <td>NaN</td>\n",
              "      <td>NaN</td>\n",
              "      <td>NaN</td>\n",
              "      <td>NaN</td>\n",
              "      <td>NaN</td>\n",
              "      <td>NaN</td>\n",
              "    </tr>\n",
              "    <tr>\n",
              "      <th>internetservice</th>\n",
              "      <td>7267</td>\n",
              "      <td>3</td>\n",
              "      <td>fiber optic</td>\n",
              "      <td>3198</td>\n",
              "      <td>NaN</td>\n",
              "      <td>NaN</td>\n",
              "      <td>NaN</td>\n",
              "      <td>NaN</td>\n",
              "      <td>NaN</td>\n",
              "      <td>NaN</td>\n",
              "      <td>NaN</td>\n",
              "    </tr>\n",
              "    <tr>\n",
              "      <th>onlinesecurity</th>\n",
              "      <td>7267.0</td>\n",
              "      <td>3.0</td>\n",
              "      <td>0.0</td>\n",
              "      <td>3608.0</td>\n",
              "      <td>NaN</td>\n",
              "      <td>NaN</td>\n",
              "      <td>NaN</td>\n",
              "      <td>NaN</td>\n",
              "      <td>NaN</td>\n",
              "      <td>NaN</td>\n",
              "      <td>NaN</td>\n",
              "    </tr>\n",
              "    <tr>\n",
              "      <th>onlinebackup</th>\n",
              "      <td>7267.0</td>\n",
              "      <td>3.0</td>\n",
              "      <td>0.0</td>\n",
              "      <td>3182.0</td>\n",
              "      <td>NaN</td>\n",
              "      <td>NaN</td>\n",
              "      <td>NaN</td>\n",
              "      <td>NaN</td>\n",
              "      <td>NaN</td>\n",
              "      <td>NaN</td>\n",
              "      <td>NaN</td>\n",
              "    </tr>\n",
              "    <tr>\n",
              "      <th>deviceprotection</th>\n",
              "      <td>7267.0</td>\n",
              "      <td>3.0</td>\n",
              "      <td>0.0</td>\n",
              "      <td>3195.0</td>\n",
              "      <td>NaN</td>\n",
              "      <td>NaN</td>\n",
              "      <td>NaN</td>\n",
              "      <td>NaN</td>\n",
              "      <td>NaN</td>\n",
              "      <td>NaN</td>\n",
              "      <td>NaN</td>\n",
              "    </tr>\n",
              "    <tr>\n",
              "      <th>techsupport</th>\n",
              "      <td>7267.0</td>\n",
              "      <td>3.0</td>\n",
              "      <td>0.0</td>\n",
              "      <td>3582.0</td>\n",
              "      <td>NaN</td>\n",
              "      <td>NaN</td>\n",
              "      <td>NaN</td>\n",
              "      <td>NaN</td>\n",
              "      <td>NaN</td>\n",
              "      <td>NaN</td>\n",
              "      <td>NaN</td>\n",
              "    </tr>\n",
              "    <tr>\n",
              "      <th>streamingtv</th>\n",
              "      <td>7267.0</td>\n",
              "      <td>3.0</td>\n",
              "      <td>0.0</td>\n",
              "      <td>2896.0</td>\n",
              "      <td>NaN</td>\n",
              "      <td>NaN</td>\n",
              "      <td>NaN</td>\n",
              "      <td>NaN</td>\n",
              "      <td>NaN</td>\n",
              "      <td>NaN</td>\n",
              "      <td>NaN</td>\n",
              "    </tr>\n",
              "    <tr>\n",
              "      <th>streamingmovies</th>\n",
              "      <td>7267.0</td>\n",
              "      <td>3.0</td>\n",
              "      <td>0.0</td>\n",
              "      <td>2870.0</td>\n",
              "      <td>NaN</td>\n",
              "      <td>NaN</td>\n",
              "      <td>NaN</td>\n",
              "      <td>NaN</td>\n",
              "      <td>NaN</td>\n",
              "      <td>NaN</td>\n",
              "      <td>NaN</td>\n",
              "    </tr>\n",
              "    <tr>\n",
              "      <th>contract</th>\n",
              "      <td>7267</td>\n",
              "      <td>3</td>\n",
              "      <td>month-to-month</td>\n",
              "      <td>4005</td>\n",
              "      <td>NaN</td>\n",
              "      <td>NaN</td>\n",
              "      <td>NaN</td>\n",
              "      <td>NaN</td>\n",
              "      <td>NaN</td>\n",
              "      <td>NaN</td>\n",
              "      <td>NaN</td>\n",
              "    </tr>\n",
              "    <tr>\n",
              "      <th>paperlessbilling</th>\n",
              "      <td>7267.0</td>\n",
              "      <td>NaN</td>\n",
              "      <td>NaN</td>\n",
              "      <td>NaN</td>\n",
              "      <td>0.59323</td>\n",
              "      <td>0.491265</td>\n",
              "      <td>0.0</td>\n",
              "      <td>0.0</td>\n",
              "      <td>1.0</td>\n",
              "      <td>1.0</td>\n",
              "      <td>1.0</td>\n",
              "    </tr>\n",
              "    <tr>\n",
              "      <th>paymentmethod</th>\n",
              "      <td>7267</td>\n",
              "      <td>4</td>\n",
              "      <td>electronic check</td>\n",
              "      <td>2445</td>\n",
              "      <td>NaN</td>\n",
              "      <td>NaN</td>\n",
              "      <td>NaN</td>\n",
              "      <td>NaN</td>\n",
              "      <td>NaN</td>\n",
              "      <td>NaN</td>\n",
              "      <td>NaN</td>\n",
              "    </tr>\n",
              "    <tr>\n",
              "      <th>charges_monthly</th>\n",
              "      <td>7267.0</td>\n",
              "      <td>NaN</td>\n",
              "      <td>NaN</td>\n",
              "      <td>NaN</td>\n",
              "      <td>64.720098</td>\n",
              "      <td>30.129572</td>\n",
              "      <td>18.25</td>\n",
              "      <td>35.425</td>\n",
              "      <td>70.3</td>\n",
              "      <td>89.875</td>\n",
              "      <td>118.75</td>\n",
              "    </tr>\n",
              "    <tr>\n",
              "      <th>charges_total</th>\n",
              "      <td>7267</td>\n",
              "      <td>6531</td>\n",
              "      <td>20.2</td>\n",
              "      <td>11</td>\n",
              "      <td>NaN</td>\n",
              "      <td>NaN</td>\n",
              "      <td>NaN</td>\n",
              "      <td>NaN</td>\n",
              "      <td>NaN</td>\n",
              "      <td>NaN</td>\n",
              "      <td>NaN</td>\n",
              "    </tr>\n",
              "  </tbody>\n",
              "</table>\n",
              "</div>"
            ],
            "text/plain": [
              "                   count unique               top    freq       mean  \\\n",
              "customerid          7267   7267        0002-orfbo       1        NaN   \n",
              "churn             7267.0    3.0               0.0  5174.0        NaN   \n",
              "gender              7267      2              male    3675        NaN   \n",
              "seniorcitizen     7267.0    NaN               NaN     NaN   0.162653   \n",
              "partner           7267.0    NaN               NaN     NaN   0.484106   \n",
              "dependents        7267.0    NaN               NaN     NaN   0.300124   \n",
              "tenure            7267.0    NaN               NaN     NaN  32.346498   \n",
              "phoneservice      7267.0    NaN               NaN     NaN   0.902711   \n",
              "multiplelines     7267.0    3.0               0.0  3495.0        NaN   \n",
              "internetservice     7267      3       fiber optic    3198        NaN   \n",
              "onlinesecurity    7267.0    3.0               0.0  3608.0        NaN   \n",
              "onlinebackup      7267.0    3.0               0.0  3182.0        NaN   \n",
              "deviceprotection  7267.0    3.0               0.0  3195.0        NaN   \n",
              "techsupport       7267.0    3.0               0.0  3582.0        NaN   \n",
              "streamingtv       7267.0    3.0               0.0  2896.0        NaN   \n",
              "streamingmovies   7267.0    3.0               0.0  2870.0        NaN   \n",
              "contract            7267      3    month-to-month    4005        NaN   \n",
              "paperlessbilling  7267.0    NaN               NaN     NaN    0.59323   \n",
              "paymentmethod       7267      4  electronic check    2445        NaN   \n",
              "charges_monthly   7267.0    NaN               NaN     NaN  64.720098   \n",
              "charges_total       7267   6531              20.2      11        NaN   \n",
              "\n",
              "                        std    min     25%   50%     75%     max  \n",
              "customerid              NaN    NaN     NaN   NaN     NaN     NaN  \n",
              "churn                   NaN    NaN     NaN   NaN     NaN     NaN  \n",
              "gender                  NaN    NaN     NaN   NaN     NaN     NaN  \n",
              "seniorcitizen      0.369074    0.0     0.0   0.0     0.0     1.0  \n",
              "partner            0.499782    0.0     0.0   0.0     1.0     1.0  \n",
              "dependents         0.458343    0.0     0.0   0.0     1.0     1.0  \n",
              "tenure            24.571773    0.0     9.0  29.0    55.0    72.0  \n",
              "phoneservice       0.296371    0.0     1.0   1.0     1.0     1.0  \n",
              "multiplelines           NaN    NaN     NaN   NaN     NaN     NaN  \n",
              "internetservice         NaN    NaN     NaN   NaN     NaN     NaN  \n",
              "onlinesecurity          NaN    NaN     NaN   NaN     NaN     NaN  \n",
              "onlinebackup            NaN    NaN     NaN   NaN     NaN     NaN  \n",
              "deviceprotection        NaN    NaN     NaN   NaN     NaN     NaN  \n",
              "techsupport             NaN    NaN     NaN   NaN     NaN     NaN  \n",
              "streamingtv             NaN    NaN     NaN   NaN     NaN     NaN  \n",
              "streamingmovies         NaN    NaN     NaN   NaN     NaN     NaN  \n",
              "contract                NaN    NaN     NaN   NaN     NaN     NaN  \n",
              "paperlessbilling   0.491265    0.0     0.0   1.0     1.0     1.0  \n",
              "paymentmethod           NaN    NaN     NaN   NaN     NaN     NaN  \n",
              "charges_monthly   30.129572  18.25  35.425  70.3  89.875  118.75  \n",
              "charges_total           NaN    NaN     NaN   NaN     NaN     NaN  "
            ]
          },
          "execution_count": 24,
          "metadata": {},
          "output_type": "execute_result"
        }
      ],
      "source": [
        "#Analisis Descriptivo\n",
        "df.describe(include='all').transpose()"
      ]
    },
    {
      "cell_type": "code",
      "execution_count": 25,
      "metadata": {
        "colab": {
          "base_uri": "https://localhost:8080/"
        },
        "id": "zIPdhsgshaeS",
        "outputId": "dfad3bcf-ed3c-4881-8ce0-ead39d1c4699"
      },
      "outputs": [
        {
          "name": "stdout",
          "output_type": "stream",
          "text": [
            "Total de registros: 7267\n",
            "Total de columnas: 21\n",
            "<class 'pandas.core.frame.DataFrame'>\n",
            "RangeIndex: 7267 entries, 0 to 7266\n",
            "Data columns (total 21 columns):\n",
            " #   Column            Non-Null Count  Dtype  \n",
            "---  ------            --------------  -----  \n",
            " 0   customerid        7267 non-null   object \n",
            " 1   churn             7267 non-null   object \n",
            " 2   gender            7267 non-null   object \n",
            " 3   seniorcitizen     7267 non-null   int64  \n",
            " 4   partner           7267 non-null   int64  \n",
            " 5   dependents        7267 non-null   int64  \n",
            " 6   tenure            7267 non-null   int64  \n",
            " 7   phoneservice      7267 non-null   int64  \n",
            " 8   multiplelines     7267 non-null   object \n",
            " 9   internetservice   7267 non-null   object \n",
            " 10  onlinesecurity    7267 non-null   object \n",
            " 11  onlinebackup      7267 non-null   object \n",
            " 12  deviceprotection  7267 non-null   object \n",
            " 13  techsupport       7267 non-null   object \n",
            " 14  streamingtv       7267 non-null   object \n",
            " 15  streamingmovies   7267 non-null   object \n",
            " 16  contract          7267 non-null   object \n",
            " 17  paperlessbilling  7267 non-null   int64  \n",
            " 18  paymentmethod     7267 non-null   object \n",
            " 19  charges_monthly   7267 non-null   float64\n",
            " 20  charges_total     7267 non-null   object \n",
            "dtypes: float64(1), int64(6), object(14)\n",
            "memory usage: 1.2+ MB\n"
          ]
        }
      ],
      "source": [
        "print(f\"Total de registros: {df.shape[0]}\")\n",
        "print(f\"Total de columnas: {df.shape[1]}\")\n",
        "df.info()"
      ]
    },
    {
      "cell_type": "code",
      "execution_count": 26,
      "metadata": {
        "colab": {
          "base_uri": "https://localhost:8080/",
          "height": 593
        },
        "id": "PLpWmCyQhecC",
        "outputId": "662090ac-5374-4e16-e9b8-6ece4bf669d1"
      },
      "outputs": [
        {
          "name": "stderr",
          "output_type": "stream",
          "text": [
            "C:\\Users\\DIEGO\\AppData\\Local\\Temp\\ipykernel_16092\\1336539554.py:4: FutureWarning: \n",
            "\n",
            "Passing `palette` without assigning `hue` is deprecated and will be removed in v0.14.0. Assign the `x` variable to `hue` and set `legend=False` for the same effect.\n",
            "\n",
            "  sns.countplot(x='churn', data=df, palette='Set2')\n"
          ]
        },
        {
          "data": {
            "image/png": "[encoded data removed]",
            "text/plain": [
              "<Figure size 640x480 with 1 Axes>"
            ]
          },
          "metadata": {},
          "output_type": "display_data"
        }
      ],
      "source": [
        "import seaborn as sns\n",
        "import matplotlib.pyplot as plt\n",
        "\n",
        "sns.countplot(x='churn', data=df, palette='Set2')\n",
        "plt.title('Distribución de Evasión (Churn)')\n",
        "plt.xlabel('¿Cliente Evadido?')\n",
        "plt.ylabel('Cantidad')\n",
        "plt.show()"
      ]
    },
    {
      "cell_type": "code",
      "execution_count": 27,
      "metadata": {
        "colab": {
          "base_uri": "https://localhost:8080/",
          "height": 209
        },
        "id": "T3GqDIkYhkK_",
        "outputId": "7f2e4f65-db3e-471c-9764-3377197223c3"
      },
      "outputs": [
        {
          "data": {
            "text/plain": [
              "churn\n",
              "0    71.198569\n",
              "1    25.719004\n",
              "      3.082427\n",
              "Name: proportion, dtype: float64"
            ]
          },
          "execution_count": 27,
          "metadata": {},
          "output_type": "execute_result"
        }
      ],
      "source": [
        "df['churn'].value_counts(normalize=True) * 100"
      ]
    },
    {
      "cell_type": "code",
      "execution_count": 28,
      "metadata": {
        "colab": {
          "base_uri": "https://localhost:8080/"
        },
        "id": "KCwhwDBchwDj",
        "outputId": "aaa0f5cd-61fd-46ca-cd9e-2ff0e49faaab"
      },
      "outputs": [
        {
          "name": "stdout",
          "output_type": "stream",
          "text": [
            "\n",
            ">> Evasión según: customerid\n",
            "churn         0    1     \n",
            "customerid               \n",
            "0002-orfbo  1.0  0.0  0.0\n",
            "0003-mknfe  1.0  0.0  0.0\n",
            "0004-tlhlj  0.0  1.0  0.0\n",
            "0011-igkff  0.0  1.0  0.0\n",
            "0013-exchz  0.0  1.0  0.0\n",
            "...         ...  ...  ...\n",
            "9987-lutyd  1.0  0.0  0.0\n",
            "9992-rramn  0.0  1.0  0.0\n",
            "9992-ujoel  1.0  0.0  0.0\n",
            "9993-lhieb  1.0  0.0  0.0\n",
            "9995-hotoh  1.0  0.0  0.0\n",
            "\n",
            "[7267 rows x 3 columns]\n",
            "\n",
            ">> Evasión según: churn\n",
            "churn    0    1     \n",
            "churn               \n",
            "0      1.0  0.0  0.0\n",
            "1      0.0  1.0  0.0\n",
            "       0.0  0.0  1.0\n",
            "\n",
            ">> Evasión según: gender\n",
            "churn      0     1      \n",
            "gender                  \n",
            "female  0.71  0.26  0.03\n",
            "male    0.71  0.25  0.03\n",
            "\n",
            ">> Evasión según: multiplelines\n",
            "churn                0     1      \n",
            "multiplelines                     \n",
            "0                 0.73  0.24  0.03\n",
            "1                 0.69  0.28  0.03\n",
            "no phone service  0.72  0.24  0.04\n",
            "\n",
            ">> Evasión según: internetservice\n",
            "churn               0     1      \n",
            "internetservice                  \n",
            "0                0.89  0.07  0.03\n",
            "dsl              0.79  0.18  0.03\n",
            "fiber optic      0.56  0.41  0.03\n",
            "\n",
            ">> Evasión según: onlinesecurity\n",
            "churn                   0     1      \n",
            "onlinesecurity                       \n",
            "0                    0.56  0.40  0.03\n",
            "1                    0.83  0.14  0.03\n",
            "no internet service  0.89  0.07  0.03\n",
            "\n",
            ">> Evasión según: onlinebackup\n",
            "churn                   0     1      \n",
            "onlinebackup                         \n",
            "0                    0.58  0.39  0.03\n",
            "1                    0.76  0.21  0.03\n",
            "no internet service  0.89  0.07  0.03\n",
            "\n",
            ">> Evasión según: deviceprotection\n",
            "churn                   0     1      \n",
            "deviceprotection                     \n",
            "0                    0.59  0.38  0.03\n",
            "1                    0.75  0.22  0.03\n",
            "no internet service  0.89  0.07  0.03\n",
            "\n",
            ">> Evasión según: techsupport\n",
            "churn                   0     1      \n",
            "techsupport                          \n",
            "0                    0.57  0.40  0.03\n",
            "1                    0.82  0.15  0.03\n",
            "no internet service  0.89  0.07  0.03\n",
            "\n",
            ">> Evasión según: streamingtv\n",
            "churn                   0     1      \n",
            "streamingtv                          \n",
            "0                    0.65  0.33  0.03\n",
            "1                    0.68  0.29  0.03\n",
            "no internet service  0.89  0.07  0.03\n",
            "\n",
            ">> Evasión según: streamingmovies\n",
            "churn                   0     1      \n",
            "streamingmovies                      \n",
            "0                    0.64  0.33  0.03\n",
            "1                    0.68  0.29  0.03\n",
            "no internet service  0.89  0.07  0.03\n",
            "\n",
            ">> Evasión según: contract\n",
            "churn              0     1      \n",
            "contract                        \n",
            "month-to-month  0.55  0.41  0.03\n",
            "one year        0.86  0.11  0.03\n",
            "two year        0.94  0.03  0.03\n",
            "\n",
            ">> Evasión según: paymentmethod\n",
            "churn                         0     1      \n",
            "paymentmethod                              \n",
            "bank transfer (automatic)  0.81  0.16  0.03\n",
            "credit card (automatic)    0.82  0.15  0.03\n",
            "electronic check           0.53  0.44  0.03\n",
            "mailed check               0.78  0.18  0.03\n",
            "\n",
            ">> Evasión según: charges_total\n",
            "churn            0    1     \n",
            "charges_total               \n",
            "               1.0  0.0  0.0\n",
            "100.2          1.0  0.0  0.0\n",
            "100.25         0.0  1.0  0.0\n",
            "100.35         1.0  0.0  0.0\n",
            "100.4          0.0  1.0  0.0\n",
            "...            ...  ...  ...\n",
            "997.75         1.0  0.0  0.0\n",
            "998.1          1.0  0.0  0.0\n",
            "999.45         0.0  0.5  0.5\n",
            "999.8          1.0  0.0  0.0\n",
            "999.9          1.0  0.0  0.0\n",
            "\n",
            "[6531 rows x 3 columns]\n"
          ]
        }
      ],
      "source": [
        "# Recuento por variables categoricas\n",
        "categoricas = df.select_dtypes(include='object').columns.tolist()\n",
        "\n",
        "for col in categoricas:\n",
        "    print(f'\\n>> Evasión según: {col}')\n",
        "    print(pd.crosstab(df[col], df['churn'], normalize='index').round(2))"
      ]
    },
    {
      "cell_type": "code",
      "execution_count": 29,
      "metadata": {
        "colab": {
          "base_uri": "https://localhost:8080/",
          "height": 472
        },
        "id": "u3tooEySh5Sg",
        "outputId": "bb339109-4df7-4ebc-fe84-b0f78a724703"
      },
      "outputs": [
        {
          "data": {
            "image/png": "[encoded data removed]",
            "text/plain": [
              "<Figure size 640x480 with 1 Axes>"
            ]
          },
          "metadata": {},
          "output_type": "display_data"
        }
      ],
      "source": [
        "sns.countplot(x='contract', hue='churn', data=df, palette='pastel')\n",
        "plt.title('Churn según Tipo de Contrato')\n",
        "plt.show()"
      ]
    },
    {
      "cell_type": "code",
      "execution_count": 30,
      "metadata": {
        "colab": {
          "base_uri": "https://localhost:8080/"
        },
        "id": "FNJEOm34h98w",
        "outputId": "af1d7c8f-6965-45fe-8b39-66c3d5b9877a"
      },
      "outputs": [
        {
          "name": "stdout",
          "output_type": "stream",
          "text": [
            "\n",
            ">> Estadísticas de seniorcitizen por churn:\n",
            "        count      mean       std  min  25%  50%  75%  max\n",
            "churn                                                     \n",
            "0      5174.0  0.128721  0.334923  0.0  0.0  0.0  0.0  1.0\n",
            "1      1869.0  0.254682  0.435799  0.0  0.0  0.0  1.0  1.0\n",
            "        224.0  0.178571  0.383851  0.0  0.0  0.0  0.0  1.0\n",
            "\n",
            ">> Estadísticas de partner por churn:\n",
            "        count      mean       std  min  25%  50%  75%  max\n",
            "churn                                                     \n",
            "0      5174.0  0.528218  0.499251  0.0  0.0  1.0  1.0  1.0\n",
            "1      1869.0  0.357945  0.479524  0.0  0.0  0.0  1.0  1.0\n",
            "        224.0  0.517857  0.500800  0.0  0.0  1.0  1.0  1.0\n",
            "\n",
            ">> Estadísticas de dependents por churn:\n",
            "        count      mean       std  min  25%  50%  75%  max\n",
            "churn                                                     \n",
            "0      5174.0  0.344801  0.475349  0.0  0.0  0.0  1.0  1.0\n",
            "1      1869.0  0.174425  0.379576  0.0  0.0  0.0  0.0  1.0\n",
            "        224.0  0.316964  0.466335  0.0  0.0  0.0  1.0  1.0\n",
            "\n",
            ">> Estadísticas de tenure por churn:\n",
            "        count       mean        std  min   25%   50%   75%   max\n",
            "churn                                                           \n",
            "0      5174.0  37.569965  24.113777  0.0  15.0  38.0  61.0  72.0\n",
            "1      1869.0  17.979133  19.531123  1.0   2.0  10.0  29.0  72.0\n",
            "        224.0  31.571429  24.998552  1.0   7.0  29.0  56.0  72.0\n",
            "\n",
            ">> Estadísticas de phoneservice por churn:\n",
            "        count      mean       std  min  25%  50%  75%  max\n",
            "churn                                                     \n",
            "0      5174.0  0.901044  0.298632  0.0  1.0  1.0  1.0  1.0\n",
            "1      1869.0  0.909042  0.287626  0.0  1.0  1.0  1.0  1.0\n",
            "        224.0  0.888393  0.315588  0.0  1.0  1.0  1.0  1.0\n",
            "\n",
            ">> Estadísticas de paperlessbilling por churn:\n",
            "        count      mean       std  min  25%  50%  75%  max\n",
            "churn                                                     \n",
            "0      5174.0  0.535562  0.498782  0.0  0.0  1.0  1.0  1.0\n",
            "1      1869.0  0.749064  0.433668  0.0  0.0  1.0  1.0  1.0\n",
            "        224.0  0.625000  0.485207  0.0  0.0  1.0  1.0  1.0\n",
            "\n",
            ">> Estadísticas de charges_monthly por churn:\n",
            "        count       mean        std    min     25%     50%      75%     max\n",
            "churn                                                                      \n",
            "0      5174.0  61.265124  31.092648  18.25  25.100  64.425  88.4000  118.75\n",
            "1      1869.0  74.441332  24.666053  18.85  56.150  79.650  94.2000  118.35\n",
            "        224.0  63.412277  31.388712  18.75  28.425  69.100  90.4125  115.55\n"
          ]
        }
      ],
      "source": [
        "# 📈 Recuento por Variables Numéricas:\n",
        "numericas = df.select_dtypes(include=['int64', 'float64']).columns.tolist()\n",
        "\n",
        "for col in numericas:\n",
        "    print(f'\\n>> Estadísticas de {col} por churn:')\n",
        "    print(df.groupby('churn')[col].describe())"
      ]
    },
    {
      "cell_type": "code",
      "execution_count": 31,
      "metadata": {
        "colab": {
          "base_uri": "https://localhost:8080/",
          "height": 472
        },
        "id": "ybPbrWpNiEDQ",
        "outputId": "44cf521c-b683-4c62-9628-6a578b77ef15"
      },
      "outputs": [
        {
          "data": {
            "image/png": "[encoded data removed]",
            "text/plain": [
              "<Figure size 640x480 with 1 Axes>"
            ]
          },
          "metadata": {},
          "output_type": "display_data"
        }
      ],
      "source": [
        "sns.histplot(data=df, x='tenure', hue='churn', kde=True, bins=30)\n",
        "plt.title('Distribución de Tenure según Evasión')\n",
        "plt.show()"
      ]
    },
    {
      "cell_type": "code",
      "execution_count": 32,
      "metadata": {
        "id": "_F4-pUGtty49"
      },
      "outputs": [],
      "source": [
        "import plotly.express as px"
      ]
    },
    {
      "cell_type": "markdown",
      "metadata": {
        "id": "Zc8nlM-dlDtc"
      },
      "source": [
        "🔍 Análisis de Correlación – Exploración Adiciona"
      ]
    },
    {
      "cell_type": "code",
      "execution_count": 33,
      "metadata": {
        "colab": {
          "base_uri": "https://localhost:8080/",
          "height": 760
        },
        "id": "TwsWGwQXlXVD",
        "outputId": "23628556-e97d-4f6c-eb63-bb88e135560e"
      },
      "outputs": [
        {
          "name": "stdout",
          "output_type": "stream",
          "text": [
            "❗ Columna sospechosa: charges_total\n"
          ]
        },
        {
          "data": {
            "text/plain": [
              "churn               1.000000\n",
              "charges_monthly     0.193356\n",
              "paperlessbilling    0.191825\n",
              "seniorcitizen       0.150889\n",
              "multiplelines       0.040207\n",
              "phoneservice        0.011942\n",
              "streamingtv        -0.037057\n",
              "streamingmovies    -0.040132\n",
              "partner            -0.150448\n",
              "dependents         -0.164221\n",
              "deviceprotection   -0.177125\n",
              "onlinebackup       -0.196061\n",
              "charges_total      -0.199484\n",
              "techsupport        -0.274422\n",
              "onlinesecurity     -0.280816\n",
              "tenure             -0.352229\n",
              "customerid               NaN\n",
              "gender                   NaN\n",
              "internetservice          NaN\n",
              "contract                 NaN\n",
              "paymentmethod            NaN\n",
              "Name: churn, dtype: float64"
            ]
          },
          "execution_count": 33,
          "metadata": {},
          "output_type": "execute_result"
        }
      ],
      "source": [
        "for col in df.columns:\n",
        "    if df[col].dtype == 'object':\n",
        "        # Verifica si hay valores vacíos que deberían ser numéricos\n",
        "        if df[col].str.fullmatch(r'\\d+(\\.\\d+)?').sum() > 0:\n",
        "            print(f\"❗ Columna sospechosa: {col}\")\n",
        "for col in df.columns:\n",
        "    if df[col].dtype == 'object':\n",
        "        try:\n",
        "            df[col] = pd.to_numeric(df[col], errors='coerce')\n",
        "        except:\n",
        "            pass\n",
        "numericas = df.select_dtypes(include=['int64', 'float64']).copy()\n",
        "numericas['churn'] = df['churn']  # Asumiendo que ya es binaria\n",
        "correlaciones = numericas.corr()\n",
        "correlaciones['churn'].sort_values(ascending=False)"
      ]
    },
    {
      "cell_type": "code",
      "execution_count": 34,
      "metadata": {
        "colab": {
          "base_uri": "https://localhost:8080/"
        },
        "id": "zEkoblq-k_SE",
        "outputId": "df0fc6fc-826c-44a9-b628-1a64b246b292"
      },
      "outputs": [
        {
          "name": "stdout",
          "output_type": "stream",
          "text": [
            "churn               1.000000\n",
            "charges_monthly     0.193356\n",
            "paperlessbilling    0.191825\n",
            "seniorcitizen       0.150889\n",
            "multiplelines       0.040207\n",
            "phoneservice        0.011942\n",
            "streamingtv        -0.037057\n",
            "streamingmovies    -0.040132\n",
            "partner            -0.150448\n",
            "dependents         -0.164221\n",
            "deviceprotection   -0.177125\n",
            "onlinebackup       -0.196061\n",
            "charges_total      -0.199484\n",
            "techsupport        -0.274422\n",
            "onlinesecurity     -0.280816\n",
            "tenure             -0.352229\n",
            "customerid               NaN\n",
            "gender                   NaN\n",
            "internetservice          NaN\n",
            "contract                 NaN\n",
            "paymentmethod            NaN\n",
            "Name: churn, dtype: float64\n"
          ]
        }
      ],
      "source": [
        "# Calculo de correlaciones\n",
        "# Asegurar que 'churn' sea numérico\n",
        "df['churn'] = df['churn'].replace({'yes': 1, 'no': 0})\n",
        "\n",
        "# Seleccionar columnas numéricas\n",
        "numericas = df.select_dtypes(include=['int64', 'float64']).copy()\n",
        "\n",
        "# Añadir 'churn' si no está\n",
        "if 'churn' not in numericas.columns:\n",
        "    numericas['churn'] = df['churn']\n",
        "\n",
        "# Matriz de correlación\n",
        "correlaciones = numericas.corr()\n",
        "\n",
        "# Ver correlaciones con churn\n",
        "correlacion_churn = correlaciones['churn'].sort_values(ascending=False)\n",
        "print(correlacion_churn)"
      ]
    },
    {
      "cell_type": "markdown",
      "metadata": {
        "id": "-hOGsjfyltVg"
      },
      "source": [
        "📊 Visualización con Heatmap"
      ]
    },
    {
      "cell_type": "code",
      "execution_count": 35,
      "metadata": {
        "colab": {
          "base_uri": "https://localhost:8080/",
          "height": 545
        },
        "id": "2HBNRRBOlmKI",
        "outputId": "6242b3cf-d1d5-4707-e9ea-e6a2dc62a0e3"
      },
      "outputs": [
        {
          "data": {
            "image/png": "[encoded data removed]",
            "text/plain": [
              "<Figure size 1000x600 with 2 Axes>"
            ]
          },
          "metadata": {},
          "output_type": "display_data"
        }
      ],
      "source": [
        "plt.figure(figsize=(10, 6))\n",
        "sns.heatmap(correlaciones[['churn']], annot=True, cmap='coolwarm', fmt=\".2f\")\n",
        "plt.title('Correlaciones con la Evasión de Clientes (Churn)')\n",
        "plt.show()"
      ]
    },
    {
      "cell_type": "markdown",
      "metadata": {
        "id": "ufEBo1qCl-Il"
      },
      "source": [
        "📈 Gráfico de Dispersión – Servicios vs Churn"
      ]
    },
    {
      "cell_type": "code",
      "execution_count": 36,
      "metadata": {
        "id": "E5wqlbWmmOB6"
      },
      "outputs": [],
      "source": [
        "servicios = [\n",
        "    'phoneservice', 'multiplelines',\n",
        "    'internetservice', 'onlinesecurity', 'onlinebackup',\n",
        "    'deviceprotection', 'techsupport',\n",
        "    'streamingtv', 'streamingmovies'\n",
        "]"
      ]
    },
    {
      "cell_type": "code",
      "execution_count": 37,
      "metadata": {
        "id": "4jNSvB-xmPH9"
      },
      "outputs": [],
      "source": [
        "df[servicios] = df[servicios].replace({'yes': 1, 'no': 0})"
      ]
    },
    {
      "cell_type": "code",
      "execution_count": 38,
      "metadata": {
        "id": "TMvt2V2xmU8D"
      },
      "outputs": [],
      "source": [
        "df['total_services'] = df[servicios].sum(axis=1)"
      ]
    },
    {
      "cell_type": "code",
      "execution_count": 39,
      "metadata": {
        "colab": {
          "base_uri": "https://localhost:8080/",
          "height": 593
        },
        "id": "P_jZ2lMAmTTG",
        "outputId": "ad4c74bc-c80b-4b67-dba1-66b170922a2b"
      },
      "outputs": [
        {
          "name": "stderr",
          "output_type": "stream",
          "text": [
            "C:\\Users\\DIEGO\\AppData\\Local\\Temp\\ipykernel_16092\\2241294981.py:1: FutureWarning: \n",
            "\n",
            "Passing `palette` without assigning `hue` is deprecated and will be removed in v0.14.0. Assign the `x` variable to `hue` and set `legend=False` for the same effect.\n",
            "\n",
            "  sns.boxplot(x='churn', y='total_services', data=df, palette='Set2')\n"
          ]
        },
        {
          "data": {
            "image/png": "[encoded data removed]",
            "text/plain": [
              "<Figure size 640x480 with 1 Axes>"
            ]
          },
          "metadata": {},
          "output_type": "display_data"
        }
      ],
      "source": [
        "sns.boxplot(x='churn', y='total_services', data=df, palette='Set2')\n",
        "plt.title('Relación entre Total de Servicios y Evasión')\n",
        "plt.xlabel('Churn')\n",
        "plt.ylabel('Total de Servicios Contratados')\n",
        "plt.show()"
      ]
    },
    {
      "cell_type": "markdown",
      "metadata": {
        "id": "v-WzfSvTmaw9"
      },
      "source": [
        "#📄Informe final"
      ]
    },
    {
      "cell_type": "markdown",
      "metadata": {
        "id": "beU8yfBXjUoI"
      },
      "source": [
        "Informe Final\n",
        "– Proyecto Telecom X\n",
        "\n",
        "🔹 Introducción\n",
        "\n",
        "La empresa Telecom X enfrenta una elevada tasa de cancelación de clientes, lo que representa una amenaza directa a su sostenibilidad y crecimiento. El presente análisis tiene como objetivo identificar patrones y características asociadas a la evasión de clientes (churn) utilizando técnicas de manipulación y visualización de datos en Python. Esta información servirá como base para implementar estrategias de retención más efectivas y nutrir futuros modelos predictivos."
      ]
    },
    {
      "cell_type": "markdown",
      "metadata": {
        "id": "ay9rVywFjiBN"
      },
      "source": [
        "🧹**Limpieza y Tratamiento de Datos**\n",
        "\n",
        "- Se importaron los datos desde un archivo JSON mediante una API pública.\n",
        "\n",
        "- Los datos fueron normalizados con json_normalize para aplanar la estructura jerárquica.\n",
        "\n",
        "- Se renombraron columnas para facilitar la interpretación y estandarización (snake_case).\n",
        "\n",
        "- Se eliminaron duplicados y se gestionaron valores vacíos y nulos (NaN, campos vacíos).\n",
        "\n",
        "- Se transformaron valores categóricos como \"Sí\"/\"No\" a binarios (1/0) para futuros análisis matemáticos.\n",
        "\n",
        "- Se ajustaron formatos numéricos (charges_total, charges_monthly, tenure) y se corrigieron inconsistencias textuales (contract, paymentmethod, gender)."
      ]
    },
    {
      "cell_type": "markdown",
      "metadata": {
        "id": "5L3OJsiKj30h"
      },
      "source": [
        "🔹 Análisis Exploratorio de Datos\n",
        "Se realizaron los siguientes análisis para identificar correlaciones con la evasión:\n",
        "\n",
        "📉 Distribución General de Churn\n",
        "- La mayoría de los clientes no presentan churn, pero el porcentaje de evasión es relevante y consistente en ciertos perfiles.\n",
        "\n",
        "📊 Evasión por Variables Categóricas\n",
        "- El tipo de contrato está fuertemente asociado al churn. Los contratos mensuales muestran mayor tasa de cancelación.\n",
        "\n",
        "- Métodos de pago como débito automático presentan vulnerabilidad ante la evasión.\n",
        "\n",
        "- Género y senioridad muestran variaciones menores, pero pueden influir en segmentos específicos.\n",
        "\n",
        "📈 Evasión por Variables Numéricas\n",
        "- Clientes con baja permanencia (tenure) tienen mayor tendencia a cancelar el servicio.\n",
        "\n",
        "- Niveles más altos en charges_monthly correlacionan levemente con churn, posiblemente por percepción de sobreprecio.\n",
        "\n",
        "- El total acumulado (charges_total) parece estar asociado a clientes más longevos con menor evasión.\n"
      ]
    },
    {
      "cell_type": "markdown",
      "metadata": {
        "id": "sWBKOlCSkD6i"
      },
      "source": [
        "🔹 Conclusiones e Insights\n",
        "\n",
        "- Los clientes con contrato mensual y poca antigüedad son significativamente más propensos a abandonar el servicio.\n",
        "\n",
        "- Ciertos métodos de pago como débito automático podrían estar generando fricción no detectada en la experiencia del cliente.\n",
        "\n",
        "- Aunque el churn afecta a todos los perfiles, hay patrones segmentables que pueden orientar acciones puntuales."
      ]
    },
    {
      "cell_type": "markdown",
      "metadata": {
        "id": "QUjEsupwkIpa"
      },
      "source": [
        "🔹 Recomendaciones\n",
        "\n",
        "- Incentivar contratos a largo plazo con promociones o beneficios exclusivos.\n",
        "- Mejorar la experiencia en métodos de pago vulnerables, como el débito automático.\n",
        "\n",
        "- Implementar estrategias de fidelización en los primeros meses de los nuevos clientes.\n",
        "\n",
        "- Desarrollar un modelo predictivo supervisado alimentado por estos datos para detectar casos potenciales de churn antes de que ocurran.\n",
        "\n",
        "- Comunicar los hallazgos con claridad a equipos de marketing y atención al cliente para aplicar acciones personalizadas.\n",
        "\n",
        "\n"
      ]
    }
  ],
  "metadata": {
    "colab": {
      "collapsed_sections": [
        "4foVEKhrlqcH"
      ],
      "provenance": []
    },
    "kernelspec": {
      "display_name": ".venv",
      "language": "python",
      "name": "python3"
    },
    "language_info": {
      "codemirror_mode": {
        "name": "ipython",
        "version": 3
      },
      "file_extension": ".py",
      "mimetype": "text/x-python",
      "name": "python",
      "nbconvert_exporter": "python",
      "pygments_lexer": "ipython3",
      "version": "3.13.0"
    }
  },
  "nbformat": 4,
  "nbformat_minor": 0
}
