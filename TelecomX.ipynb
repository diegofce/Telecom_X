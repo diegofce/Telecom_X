{
  "cells": [
    {
      "cell_type": "markdown",
      "metadata": {
<<<<<<< HEAD
=======
        "id": "view-in-github",
        "colab_type": "text"
      },
      "source": [
        "<a href=\"https://colab.research.google.com/github/diegofce/Telecom_X/blob/main/TelecomX.ipynb\" target=\"_parent\"><img src=\"https://colab.research.google.com/assets/colab-badge.svg\" alt=\"Open In Colab\"/></a>"
      ]
    },
    {
      "cell_type": "markdown",
      "metadata": {
>>>>>>> ce795e5c90ca512e4dab40e3d036f55aed182dd7
        "id": "8bvS-hDXx2KM"
      },
      "source": [
        "#📚 Importación de bibliotecas"
      ]
    },
    {
      "cell_type": "code",
<<<<<<< HEAD
      "execution_count": 1,
=======
      "execution_count": 3,
>>>>>>> ce795e5c90ca512e4dab40e3d036f55aed182dd7
      "metadata": {
        "id": "10x06KpIx2KQ"
      },
      "outputs": [],
      "source": [
        "import pandas as pd\n",
        "import requests"
      ]
    },
    {
      "cell_type": "markdown",
      "metadata": {
        "id": "4foVEKhrlqcH"
      },
      "source": [
        "#📌 Extracción"
      ]
    },
    {
      "cell_type": "code",
<<<<<<< HEAD
      "execution_count": 2,
      "metadata": {
        "colab": {
          "base_uri": "https://localhost:8080/"
        },
        "id": "1--uPM88l7JH",
        "outputId": "120b9ea0-7287-4647-ed06-cc01e5a221f1"
      },
      "outputs": [
        {
          "name": "stdout",
          "output_type": "stream",
=======
      "execution_count": 6,
      "metadata": {
        "id": "1--uPM88l7JH",
        "colab": {
          "base_uri": "https://localhost:8080/"
        },
        "outputId": "d2ba41da-3ea9-4ce9-ae69-a3b0bfe4d309"
      },
      "outputs": [
        {
          "output_type": "stream",
          "name": "stdout",
>>>>>>> ce795e5c90ca512e4dab40e3d036f55aed182dd7
          "text": [
            "   customerID Churn                                           customer  \\\n",
            "0  0002-ORFBO    No  {'gender': 'Female', 'SeniorCitizen': 0, 'Part...   \n",
            "1  0003-MKNFE    No  {'gender': 'Male', 'SeniorCitizen': 0, 'Partne...   \n",
            "2  0004-TLHLJ   Yes  {'gender': 'Male', 'SeniorCitizen': 0, 'Partne...   \n",
            "3  0011-IGKFF   Yes  {'gender': 'Male', 'SeniorCitizen': 1, 'Partne...   \n",
            "4  0013-EXCHZ   Yes  {'gender': 'Female', 'SeniorCitizen': 1, 'Part...   \n",
            "\n",
            "                                             phone  \\\n",
            "0   {'PhoneService': 'Yes', 'MultipleLines': 'No'}   \n",
            "1  {'PhoneService': 'Yes', 'MultipleLines': 'Yes'}   \n",
            "2   {'PhoneService': 'Yes', 'MultipleLines': 'No'}   \n",
            "3   {'PhoneService': 'Yes', 'MultipleLines': 'No'}   \n",
            "4   {'PhoneService': 'Yes', 'MultipleLines': 'No'}   \n",
            "\n",
            "                                            internet  \\\n",
            "0  {'InternetService': 'DSL', 'OnlineSecurity': '...   \n",
            "1  {'InternetService': 'DSL', 'OnlineSecurity': '...   \n",
            "2  {'InternetService': 'Fiber optic', 'OnlineSecu...   \n",
            "3  {'InternetService': 'Fiber optic', 'OnlineSecu...   \n",
            "4  {'InternetService': 'Fiber optic', 'OnlineSecu...   \n",
            "\n",
            "                                             account  \n",
            "0  {'Contract': 'One year', 'PaperlessBilling': '...  \n",
            "1  {'Contract': 'Month-to-month', 'PaperlessBilli...  \n",
            "2  {'Contract': 'Month-to-month', 'PaperlessBilli...  \n",
            "3  {'Contract': 'Month-to-month', 'PaperlessBilli...  \n",
            "4  {'Contract': 'Month-to-month', 'PaperlessBilli...  \n"
          ]
        }
      ],
      "source": [
        "url = 'https://raw.githubusercontent.com/alura-cursos/challenge2-data-science-LATAM/refs/heads/main/TelecomX_Data.json'\n",
        "response = requests.get(url)\n",
        "data = response.json()\n",
        "df = pd.DataFrame(data)\n",
        "print(df.head())"
      ]
    },
    {
<<<<<<< HEAD
      "cell_type": "markdown",
      "metadata": {
        "id": "1lSZP8zmmGZu"
      },
      "source": [
        "#🔧 Transformación"
      ]
    },
    {
      "cell_type": "code",
      "execution_count": 3,
=======
      "cell_type": "code",
      "source": [
        "from pandas import json_normalize\n",
        "df_normalizado = json_normalize(data)\n",
        "df_normalizado.info()"
      ],
>>>>>>> ce795e5c90ca512e4dab40e3d036f55aed182dd7
      "metadata": {
        "colab": {
          "base_uri": "https://localhost:8080/"
        },
        "id": "iUmmx-Hn0DGG",
<<<<<<< HEAD
        "outputId": "bffec686-4f30-41e4-d77f-24a91a447118"
      },
      "outputs": [
        {
          "name": "stdout",
          "output_type": "stream",
=======
        "outputId": "7922049d-d5ff-4e2b-8a51-ace27d3cfa69"
      },
      "execution_count": 9,
      "outputs": [
        {
          "output_type": "stream",
          "name": "stdout",
>>>>>>> ce795e5c90ca512e4dab40e3d036f55aed182dd7
          "text": [
            "<class 'pandas.core.frame.DataFrame'>\n",
            "RangeIndex: 7267 entries, 0 to 7266\n",
            "Data columns (total 21 columns):\n",
            " #   Column                     Non-Null Count  Dtype  \n",
            "---  ------                     --------------  -----  \n",
            " 0   customerID                 7267 non-null   object \n",
            " 1   Churn                      7267 non-null   object \n",
            " 2   customer.gender            7267 non-null   object \n",
            " 3   customer.SeniorCitizen     7267 non-null   int64  \n",
            " 4   customer.Partner           7267 non-null   object \n",
            " 5   customer.Dependents        7267 non-null   object \n",
            " 6   customer.tenure            7267 non-null   int64  \n",
            " 7   phone.PhoneService         7267 non-null   object \n",
            " 8   phone.MultipleLines        7267 non-null   object \n",
            " 9   internet.InternetService   7267 non-null   object \n",
            " 10  internet.OnlineSecurity    7267 non-null   object \n",
            " 11  internet.OnlineBackup      7267 non-null   object \n",
            " 12  internet.DeviceProtection  7267 non-null   object \n",
            " 13  internet.TechSupport       7267 non-null   object \n",
            " 14  internet.StreamingTV       7267 non-null   object \n",
            " 15  internet.StreamingMovies   7267 non-null   object \n",
            " 16  account.Contract           7267 non-null   object \n",
            " 17  account.PaperlessBilling   7267 non-null   object \n",
            " 18  account.PaymentMethod      7267 non-null   object \n",
            " 19  account.Charges.Monthly    7267 non-null   float64\n",
            " 20  account.Charges.Total      7267 non-null   object \n",
            "dtypes: float64(1), int64(2), object(18)\n",
            "memory usage: 1.2+ MB\n"
          ]
        }
<<<<<<< HEAD
      ],
      "source": [
        "from pandas import json_normalize\n",
        "df_normalizado = json_normalize(data)\n",
        "df_normalizado.info()"
=======
>>>>>>> ce795e5c90ca512e4dab40e3d036f55aed182dd7
      ]
    },
    {
      "cell_type": "code",
<<<<<<< HEAD
      "execution_count": 4,
=======
      "source": [
        "df_normalizado.head()"
      ],
>>>>>>> ce795e5c90ca512e4dab40e3d036f55aed182dd7
      "metadata": {
        "colab": {
          "base_uri": "https://localhost:8080/",
          "height": 325
        },
        "id": "OWxht7960q5n",
<<<<<<< HEAD
        "outputId": "f0b741b1-b34a-4cb5-b677-cd24c45f301e"
      },
      "outputs": [
        {
          "data": {
            "text/html": [
              "<div>\n",
=======
        "outputId": "d3f8a57a-1e31-4b94-f053-aff0c2b2c988"
      },
      "execution_count": 10,
      "outputs": [
        {
          "output_type": "execute_result",
          "data": {
            "text/plain": [
              "   customerID Churn customer.gender  customer.SeniorCitizen customer.Partner  \\\n",
              "0  0002-ORFBO    No          Female                       0              Yes   \n",
              "1  0003-MKNFE    No            Male                       0               No   \n",
              "2  0004-TLHLJ   Yes            Male                       0               No   \n",
              "3  0011-IGKFF   Yes            Male                       1              Yes   \n",
              "4  0013-EXCHZ   Yes          Female                       1              Yes   \n",
              "\n",
              "  customer.Dependents  customer.tenure phone.PhoneService phone.MultipleLines  \\\n",
              "0                 Yes                9                Yes                  No   \n",
              "1                  No                9                Yes                 Yes   \n",
              "2                  No                4                Yes                  No   \n",
              "3                  No               13                Yes                  No   \n",
              "4                  No                3                Yes                  No   \n",
              "\n",
              "  internet.InternetService  ... internet.OnlineBackup  \\\n",
              "0                      DSL  ...                   Yes   \n",
              "1                      DSL  ...                    No   \n",
              "2              Fiber optic  ...                    No   \n",
              "3              Fiber optic  ...                   Yes   \n",
              "4              Fiber optic  ...                    No   \n",
              "\n",
              "  internet.DeviceProtection internet.TechSupport internet.StreamingTV  \\\n",
              "0                        No                  Yes                  Yes   \n",
              "1                        No                   No                   No   \n",
              "2                       Yes                   No                   No   \n",
              "3                       Yes                   No                  Yes   \n",
              "4                        No                  Yes                  Yes   \n",
              "\n",
              "  internet.StreamingMovies account.Contract account.PaperlessBilling  \\\n",
              "0                       No         One year                      Yes   \n",
              "1                      Yes   Month-to-month                       No   \n",
              "2                       No   Month-to-month                      Yes   \n",
              "3                      Yes   Month-to-month                      Yes   \n",
              "4                       No   Month-to-month                      Yes   \n",
              "\n",
              "  account.PaymentMethod account.Charges.Monthly  account.Charges.Total  \n",
              "0          Mailed check                    65.6                  593.3  \n",
              "1          Mailed check                    59.9                  542.4  \n",
              "2      Electronic check                    73.9                 280.85  \n",
              "3      Electronic check                    98.0                1237.85  \n",
              "4          Mailed check                    83.9                  267.4  \n",
              "\n",
              "[5 rows x 21 columns]"
            ],
            "text/html": [
              "\n",
              "  <div id=\"df-0b368413-7b28-45f7-ac12-391a34f0c69c\" class=\"colab-df-container\">\n",
              "    <div>\n",
>>>>>>> ce795e5c90ca512e4dab40e3d036f55aed182dd7
              "<style scoped>\n",
              "    .dataframe tbody tr th:only-of-type {\n",
              "        vertical-align: middle;\n",
              "    }\n",
              "\n",
              "    .dataframe tbody tr th {\n",
              "        vertical-align: top;\n",
              "    }\n",
              "\n",
              "    .dataframe thead th {\n",
              "        text-align: right;\n",
              "    }\n",
              "</style>\n",
              "<table border=\"1\" class=\"dataframe\">\n",
              "  <thead>\n",
              "    <tr style=\"text-align: right;\">\n",
              "      <th></th>\n",
              "      <th>customerID</th>\n",
              "      <th>Churn</th>\n",
              "      <th>customer.gender</th>\n",
              "      <th>customer.SeniorCitizen</th>\n",
              "      <th>customer.Partner</th>\n",
              "      <th>customer.Dependents</th>\n",
              "      <th>customer.tenure</th>\n",
              "      <th>phone.PhoneService</th>\n",
              "      <th>phone.MultipleLines</th>\n",
              "      <th>internet.InternetService</th>\n",
              "      <th>...</th>\n",
              "      <th>internet.OnlineBackup</th>\n",
              "      <th>internet.DeviceProtection</th>\n",
              "      <th>internet.TechSupport</th>\n",
              "      <th>internet.StreamingTV</th>\n",
              "      <th>internet.StreamingMovies</th>\n",
              "      <th>account.Contract</th>\n",
              "      <th>account.PaperlessBilling</th>\n",
              "      <th>account.PaymentMethod</th>\n",
              "      <th>account.Charges.Monthly</th>\n",
              "      <th>account.Charges.Total</th>\n",
              "    </tr>\n",
              "  </thead>\n",
              "  <tbody>\n",
              "    <tr>\n",
              "      <th>0</th>\n",
              "      <td>0002-ORFBO</td>\n",
              "      <td>No</td>\n",
              "      <td>Female</td>\n",
              "      <td>0</td>\n",
              "      <td>Yes</td>\n",
              "      <td>Yes</td>\n",
              "      <td>9</td>\n",
              "      <td>Yes</td>\n",
              "      <td>No</td>\n",
              "      <td>DSL</td>\n",
              "      <td>...</td>\n",
              "      <td>Yes</td>\n",
              "      <td>No</td>\n",
              "      <td>Yes</td>\n",
              "      <td>Yes</td>\n",
              "      <td>No</td>\n",
              "      <td>One year</td>\n",
              "      <td>Yes</td>\n",
              "      <td>Mailed check</td>\n",
              "      <td>65.6</td>\n",
              "      <td>593.3</td>\n",
              "    </tr>\n",
              "    <tr>\n",
              "      <th>1</th>\n",
              "      <td>0003-MKNFE</td>\n",
              "      <td>No</td>\n",
              "      <td>Male</td>\n",
              "      <td>0</td>\n",
              "      <td>No</td>\n",
              "      <td>No</td>\n",
              "      <td>9</td>\n",
              "      <td>Yes</td>\n",
              "      <td>Yes</td>\n",
              "      <td>DSL</td>\n",
              "      <td>...</td>\n",
              "      <td>No</td>\n",
              "      <td>No</td>\n",
              "      <td>No</td>\n",
              "      <td>No</td>\n",
              "      <td>Yes</td>\n",
              "      <td>Month-to-month</td>\n",
              "      <td>No</td>\n",
              "      <td>Mailed check</td>\n",
              "      <td>59.9</td>\n",
              "      <td>542.4</td>\n",
              "    </tr>\n",
              "    <tr>\n",
              "      <th>2</th>\n",
              "      <td>0004-TLHLJ</td>\n",
              "      <td>Yes</td>\n",
              "      <td>Male</td>\n",
              "      <td>0</td>\n",
              "      <td>No</td>\n",
              "      <td>No</td>\n",
              "      <td>4</td>\n",
              "      <td>Yes</td>\n",
              "      <td>No</td>\n",
              "      <td>Fiber optic</td>\n",
              "      <td>...</td>\n",
              "      <td>No</td>\n",
              "      <td>Yes</td>\n",
              "      <td>No</td>\n",
              "      <td>No</td>\n",
              "      <td>No</td>\n",
              "      <td>Month-to-month</td>\n",
              "      <td>Yes</td>\n",
              "      <td>Electronic check</td>\n",
              "      <td>73.9</td>\n",
              "      <td>280.85</td>\n",
              "    </tr>\n",
              "    <tr>\n",
              "      <th>3</th>\n",
              "      <td>0011-IGKFF</td>\n",
              "      <td>Yes</td>\n",
              "      <td>Male</td>\n",
              "      <td>1</td>\n",
              "      <td>Yes</td>\n",
              "      <td>No</td>\n",
              "      <td>13</td>\n",
              "      <td>Yes</td>\n",
              "      <td>No</td>\n",
              "      <td>Fiber optic</td>\n",
              "      <td>...</td>\n",
              "      <td>Yes</td>\n",
              "      <td>Yes</td>\n",
              "      <td>No</td>\n",
              "      <td>Yes</td>\n",
              "      <td>Yes</td>\n",
              "      <td>Month-to-month</td>\n",
              "      <td>Yes</td>\n",
              "      <td>Electronic check</td>\n",
              "      <td>98.0</td>\n",
              "      <td>1237.85</td>\n",
              "    </tr>\n",
              "    <tr>\n",
              "      <th>4</th>\n",
              "      <td>0013-EXCHZ</td>\n",
              "      <td>Yes</td>\n",
              "      <td>Female</td>\n",
              "      <td>1</td>\n",
              "      <td>Yes</td>\n",
              "      <td>No</td>\n",
              "      <td>3</td>\n",
              "      <td>Yes</td>\n",
              "      <td>No</td>\n",
              "      <td>Fiber optic</td>\n",
              "      <td>...</td>\n",
              "      <td>No</td>\n",
              "      <td>No</td>\n",
              "      <td>Yes</td>\n",
              "      <td>Yes</td>\n",
              "      <td>No</td>\n",
              "      <td>Month-to-month</td>\n",
              "      <td>Yes</td>\n",
              "      <td>Mailed check</td>\n",
              "      <td>83.9</td>\n",
              "      <td>267.4</td>\n",
              "    </tr>\n",
              "  </tbody>\n",
              "</table>\n",
              "<p>5 rows × 21 columns</p>\n",
<<<<<<< HEAD
              "</div>"
            ],
            "text/plain": [
              "   customerID Churn customer.gender  customer.SeniorCitizen customer.Partner  \\\n",
              "0  0002-ORFBO    No          Female                       0              Yes   \n",
              "1  0003-MKNFE    No            Male                       0               No   \n",
              "2  0004-TLHLJ   Yes            Male                       0               No   \n",
              "3  0011-IGKFF   Yes            Male                       1              Yes   \n",
              "4  0013-EXCHZ   Yes          Female                       1              Yes   \n",
              "\n",
              "  customer.Dependents  customer.tenure phone.PhoneService phone.MultipleLines  \\\n",
              "0                 Yes                9                Yes                  No   \n",
              "1                  No                9                Yes                 Yes   \n",
              "2                  No                4                Yes                  No   \n",
              "3                  No               13                Yes                  No   \n",
              "4                  No                3                Yes                  No   \n",
              "\n",
              "  internet.InternetService  ... internet.OnlineBackup  \\\n",
              "0                      DSL  ...                   Yes   \n",
              "1                      DSL  ...                    No   \n",
              "2              Fiber optic  ...                    No   \n",
              "3              Fiber optic  ...                   Yes   \n",
              "4              Fiber optic  ...                    No   \n",
              "\n",
              "  internet.DeviceProtection internet.TechSupport internet.StreamingTV  \\\n",
              "0                        No                  Yes                  Yes   \n",
              "1                        No                   No                   No   \n",
              "2                       Yes                   No                   No   \n",
              "3                       Yes                   No                  Yes   \n",
              "4                        No                  Yes                  Yes   \n",
              "\n",
              "  internet.StreamingMovies account.Contract account.PaperlessBilling  \\\n",
              "0                       No         One year                      Yes   \n",
              "1                      Yes   Month-to-month                       No   \n",
              "2                       No   Month-to-month                      Yes   \n",
              "3                      Yes   Month-to-month                      Yes   \n",
              "4                       No   Month-to-month                      Yes   \n",
              "\n",
              "  account.PaymentMethod account.Charges.Monthly  account.Charges.Total  \n",
              "0          Mailed check                    65.6                  593.3  \n",
              "1          Mailed check                    59.9                  542.4  \n",
              "2      Electronic check                    73.9                 280.85  \n",
              "3      Electronic check                    98.0                1237.85  \n",
              "4          Mailed check                    83.9                  267.4  \n",
              "\n",
              "[5 rows x 21 columns]"
            ]
          },
          "execution_count": 4,
          "metadata": {},
          "output_type": "execute_result"
        }
      ],
      "source": [
        "df_normalizado.head()"
      ]
    },
    {
      "cell_type": "code",
      "execution_count": 5,
      "metadata": {
        "colab": {
          "base_uri": "https://localhost:8080/"
        },
        "id": "38iL5-xl6hqB",
        "outputId": "4c5e1be1-6725-4894-c72d-32c704eada0a"
      },
      "outputs": [
        {
          "name": "stdout",
          "output_type": "stream",
          "text": [
            "Valores unicos en la columna 'customerID':7267\n",
            "Valores unicos en la columna 'Churn':3\n",
            "['No' 'Yes' '']\n",
            "--------------------------------------------------\n",
            "Valores unicos en la columna 'customer.gender':2\n",
            "['Female' 'Male']\n",
            "--------------------------------------------------\n",
            "Valores unicos en la columna 'customer.SeniorCitizen':2\n",
            "[0 1]\n",
            "--------------------------------------------------\n",
            "Valores unicos en la columna 'customer.Partner':2\n",
            "['Yes' 'No']\n",
            "--------------------------------------------------\n",
            "Valores unicos en la columna 'customer.Dependents':2\n",
            "['Yes' 'No']\n",
            "--------------------------------------------------\n",
            "Valores unicos en la columna 'customer.tenure':73\n",
            "Valores unicos en la columna 'phone.PhoneService':2\n",
            "['Yes' 'No']\n",
            "--------------------------------------------------\n",
            "Valores unicos en la columna 'phone.MultipleLines':3\n",
            "['No' 'Yes' 'No phone service']\n",
            "--------------------------------------------------\n",
            "Valores unicos en la columna 'internet.InternetService':3\n",
            "['DSL' 'Fiber optic' 'No']\n",
            "--------------------------------------------------\n",
            "Valores unicos en la columna 'internet.OnlineSecurity':3\n",
            "['No' 'Yes' 'No internet service']\n",
            "--------------------------------------------------\n",
            "Valores unicos en la columna 'internet.OnlineBackup':3\n",
            "['Yes' 'No' 'No internet service']\n",
            "--------------------------------------------------\n",
            "Valores unicos en la columna 'internet.DeviceProtection':3\n",
            "['No' 'Yes' 'No internet service']\n",
            "--------------------------------------------------\n",
            "Valores unicos en la columna 'internet.TechSupport':3\n",
            "['Yes' 'No' 'No internet service']\n",
            "--------------------------------------------------\n",
            "Valores unicos en la columna 'internet.StreamingTV':3\n",
            "['Yes' 'No' 'No internet service']\n",
            "--------------------------------------------------\n",
            "Valores unicos en la columna 'internet.StreamingMovies':3\n",
            "['No' 'Yes' 'No internet service']\n",
            "--------------------------------------------------\n",
            "Valores unicos en la columna 'account.Contract':3\n",
            "['One year' 'Month-to-month' 'Two year']\n",
            "--------------------------------------------------\n",
            "Valores unicos en la columna 'account.PaperlessBilling':2\n",
            "['Yes' 'No']\n",
            "--------------------------------------------------\n",
            "Valores unicos en la columna 'account.PaymentMethod':4\n",
            "['Mailed check' 'Electronic check' 'Credit card (automatic)'\n",
            " 'Bank transfer (automatic)']\n",
            "--------------------------------------------------\n",
            "Valores unicos en la columna 'account.Charges.Monthly':1585\n",
            "Valores unicos en la columna 'account.Charges.Total':6531\n"
          ]
        }
      ],
      "source": [
        "# Verificamos si hay valores unicos en cada columna\n",
        "for columna in df_normalizado.columns:\n",
        "  print(f\"Valores unicos en la columna '{columna}':{df_normalizado[columna].nunique()}\")\n",
        "  if df_normalizado[columna].nunique() < 50: #Imprime valores solamente si hay\n",
        "    print(df_normalizado[columna].unique())\n",
        "    print('--' *25)"
      ]
    },
    {
      "cell_type": "code",
      "execution_count": 6,
      "metadata": {
        "colab": {
          "base_uri": "https://localhost:8080/"
        },
        "id": "jyDEawTJYxrr",
        "outputId": "14ab3406-15d4-4342-bd06-9b32f1830c87"
      },
      "outputs": [
        {
          "name": "stdout",
          "output_type": "stream",
          "text": [
            "Cantidad de duplicados: 0\n"
          ]
        }
      ],
      "source": [
        "#Verificacion de Datos duplicados:\n",
        "duplicados = df_normalizado.duplicated().sum()\n",
        "print(f\"Cantidad de duplicados: {duplicados}\")"
      ]
    },
    {
      "cell_type": "code",
      "execution_count": 7,
      "metadata": {
        "colab": {
          "base_uri": "https://localhost:8080/"
        },
        "id": "i5IuFUhrY805",
        "outputId": "763094ed-77ad-4e05-e9c5-12952be245dd"
      },
      "outputs": [
        {
          "name": "stdout",
          "output_type": "stream",
          "text": [
            "\n",
            "Valores nulos por columna:\n",
            "[]\n"
          ]
        }
      ],
      "source": [
        "#Verificacion de valores nulos\n",
        "nulos = df_normalizado.isnull().values.sum()\n",
        "print(\"\\nValores nulos por columna:\")\n",
        "print(nulos[nulos > 0])"
      ]
    },
    {
      "cell_type": "code",
      "execution_count": 8,
      "metadata": {
        "colab": {
          "base_uri": "https://localhost:8080/"
        },
        "id": "AAyyAf5UahiY",
        "outputId": "16474476-70a2-4c7e-89a9-ba6094fb6308"
      },
      "outputs": [
        {
          "name": "stdout",
          "output_type": "stream",
          "text": [
            "\n",
            "Valores en blanco o vacios por columna:\n",
            "Churn                    224\n",
            "account.Charges.Total     11\n",
            "dtype: int64\n"
          ]
        }
      ],
      "source": [
        "#Valores en blanco o vacios:\n",
        "valores_b_vacio = df_normalizado.apply(lambda x: x.astype(str).str.strip() == '').sum()\n",
        "print(\"\\nValores en blanco o vacios por columna:\")\n",
        "print(valores_b_vacio[valores_b_vacio > 0])"
      ]
    },
    {
      "cell_type": "code",
      "execution_count": 9,
      "metadata": {
        "colab": {
          "base_uri": "https://localhost:8080/",
          "height": 742
        },
        "id": "cdLRQdQzj_eM",
        "outputId": "0810aaf1-0110-4499-86bb-d6b5e1022fc5"
      },
      "outputs": [
        {
          "data": {
            "text/plain": [
              "customerID                     0\n",
              "Churn                        224\n",
              "customer.gender                0\n",
              "customer.SeniorCitizen         0\n",
              "customer.Partner               0\n",
              "customer.Dependents            0\n",
              "customer.tenure                0\n",
              "phone.PhoneService             0\n",
              "phone.MultipleLines            0\n",
              "internet.InternetService       0\n",
              "internet.OnlineSecurity        0\n",
              "internet.OnlineBackup          0\n",
              "internet.DeviceProtection      0\n",
              "internet.TechSupport           0\n",
              "internet.StreamingTV           0\n",
              "internet.StreamingMovies       0\n",
              "account.Contract               0\n",
              "account.PaperlessBilling       0\n",
              "account.PaymentMethod          0\n",
              "account.Charges.Monthly        0\n",
              "account.Charges.Total         11\n",
              "dtype: int64"
            ]
          },
          "execution_count": 9,
          "metadata": {},
          "output_type": "execute_result"
        }
      ],
      "source": [
        "df_normalizado.apply(lambda x: x.astype(str).str.strip() == '').sum()"
      ]
    },
    {
      "cell_type": "code",
      "execution_count": 10,
      "metadata": {
        "colab": {
          "base_uri": "https://localhost:8080/"
        },
        "id": "JdGKJAcXbhCr",
        "outputId": "2af83174-5dab-47b0-d743-e9ff9e18efd7"
      },
      "outputs": [
        {
          "name": "stdout",
          "output_type": "stream",
          "text": [
            "['customerID', 'Churn', 'customer', 'phone', 'internet', 'account']\n"
          ]
        }
      ],
      "source": [
        "print(df.columns.tolist())"
      ]
    },
    {
      "cell_type": "code",
      "execution_count": 11,
      "metadata": {
        "id": "3ROXnamDbqIC"
      },
      "outputs": [],
      "source": [
        "df = json_normalize(data, sep='.')"
      ]
    },
    {
      "cell_type": "code",
      "execution_count": 12,
      "metadata": {
        "colab": {
          "base_uri": "https://localhost:8080/"
        },
        "id": "akHUy7yVkGtC",
        "outputId": "c3190da6-cf88-494f-9e01-25801a23cca3"
      },
      "outputs": [
        {
          "name": "stdout",
          "output_type": "stream",
          "text": [
            "float64\n"
          ]
        }
      ],
      "source": [
        "# Cambiamos la columna Charges total a float\n",
        "df_normalizado['account.Charges.Total'] = pd.to_numeric(df_normalizado['account.Charges.Total'], errors='coerce')\n",
        "print(df_normalizado['account.Charges.Total'].dtype)"
      ]
    },
    {
      "cell_type": "code",
      "execution_count": 13,
      "metadata": {
        "colab": {
          "base_uri": "https://localhost:8080/"
        },
        "id": "lIvVMushkgFg",
        "outputId": "14fec454-8c53-4c67-c6d5-8649fabcc4c9"
      },
      "outputs": [
        {
          "name": "stdout",
          "output_type": "stream",
          "text": [
            "Numero de filas despues de eliminar Churn :  7043\n"
          ]
        }
      ],
      "source": [
        "# Eliminacion de columna Churn\n",
        "df_normalizado = df_normalizado[df_normalizado['Churn'].str.strip() != '']\n",
        "print(\"Numero de filas despues de eliminar Churn : \", len(df_normalizado))"
      ]
    },
    {
      "cell_type": "code",
      "execution_count": 14,
      "metadata": {
        "colab": {
          "base_uri": "https://localhost:8080/",
          "height": 742
        },
        "id": "EVIaSsnSlK8T",
        "outputId": "9aa9a379-6b88-41f3-d1ff-40b3060c25a4"
      },
      "outputs": [
        {
          "data": {
            "text/plain": [
              "customerID                   0\n",
              "Churn                        0\n",
              "customer.gender              0\n",
              "customer.SeniorCitizen       0\n",
              "customer.Partner             0\n",
              "customer.Dependents          0\n",
              "customer.tenure              0\n",
              "phone.PhoneService           0\n",
              "phone.MultipleLines          0\n",
              "internet.InternetService     0\n",
              "internet.OnlineSecurity      0\n",
              "internet.OnlineBackup        0\n",
              "internet.DeviceProtection    0\n",
              "internet.TechSupport         0\n",
              "internet.StreamingTV         0\n",
              "internet.StreamingMovies     0\n",
              "account.Contract             0\n",
              "account.PaperlessBilling     0\n",
              "account.PaymentMethod        0\n",
              "account.Charges.Monthly      0\n",
              "account.Charges.Total        0\n",
              "dtype: int64"
            ]
          },
          "execution_count": 14,
          "metadata": {},
          "output_type": "execute_result"
        }
      ],
      "source": [
        "# Vacios en Blanco\n",
        "df_normalizado.apply(lambda x: x.astype(str).str.strip() == '').sum()"
      ]
    },
    {
      "cell_type": "code",
      "execution_count": 15,
      "metadata": {
        "colab": {
          "base_uri": "https://localhost:8080/",
          "height": 300
        },
        "id": "gcmPUj8_lQ_H",
        "outputId": "53baf2a2-490b-4ac2-ac1c-3f4c2ea5a866"
      },
      "outputs": [
        {
          "data": {
            "text/html": [
              "<div>\n",
              "<style scoped>\n",
              "    .dataframe tbody tr th:only-of-type {\n",
              "        vertical-align: middle;\n",
              "    }\n",
              "\n",
              "    .dataframe tbody tr th {\n",
              "        vertical-align: top;\n",
              "    }\n",
              "\n",
              "    .dataframe thead th {\n",
              "        text-align: right;\n",
              "    }\n",
              "</style>\n",
              "<table border=\"1\" class=\"dataframe\">\n",
              "  <thead>\n",
              "    <tr style=\"text-align: right;\">\n",
              "      <th></th>\n",
              "      <th>customer.SeniorCitizen</th>\n",
              "      <th>customer.tenure</th>\n",
              "      <th>account.Charges.Monthly</th>\n",
              "      <th>account.Charges.Total</th>\n",
              "    </tr>\n",
              "  </thead>\n",
              "  <tbody>\n",
              "    <tr>\n",
              "      <th>count</th>\n",
              "      <td>7043.000000</td>\n",
              "      <td>7043.000000</td>\n",
              "      <td>7043.000000</td>\n",
              "      <td>7032.000000</td>\n",
              "    </tr>\n",
              "    <tr>\n",
              "      <th>mean</th>\n",
              "      <td>0.162147</td>\n",
              "      <td>32.371149</td>\n",
              "      <td>64.761692</td>\n",
              "      <td>2283.300441</td>\n",
              "    </tr>\n",
              "    <tr>\n",
              "      <th>std</th>\n",
              "      <td>0.368612</td>\n",
              "      <td>24.559481</td>\n",
              "      <td>30.090047</td>\n",
              "      <td>2266.771362</td>\n",
              "    </tr>\n",
              "    <tr>\n",
              "      <th>min</th>\n",
              "      <td>0.000000</td>\n",
              "      <td>0.000000</td>\n",
              "      <td>18.250000</td>\n",
              "      <td>18.800000</td>\n",
              "    </tr>\n",
              "    <tr>\n",
              "      <th>25%</th>\n",
              "      <td>0.000000</td>\n",
              "      <td>9.000000</td>\n",
              "      <td>35.500000</td>\n",
              "      <td>401.450000</td>\n",
              "    </tr>\n",
              "    <tr>\n",
              "      <th>50%</th>\n",
              "      <td>0.000000</td>\n",
              "      <td>29.000000</td>\n",
              "      <td>70.350000</td>\n",
              "      <td>1397.475000</td>\n",
              "    </tr>\n",
              "    <tr>\n",
              "      <th>75%</th>\n",
              "      <td>0.000000</td>\n",
              "      <td>55.000000</td>\n",
              "      <td>89.850000</td>\n",
              "      <td>3794.737500</td>\n",
              "    </tr>\n",
              "    <tr>\n",
              "      <th>max</th>\n",
              "      <td>1.000000</td>\n",
              "      <td>72.000000</td>\n",
              "      <td>118.750000</td>\n",
              "      <td>8684.800000</td>\n",
              "    </tr>\n",
              "  </tbody>\n",
              "</table>\n",
              "</div>"
            ],
            "text/plain": [
              "       customer.SeniorCitizen  customer.tenure  account.Charges.Monthly  \\\n",
              "count             7043.000000      7043.000000              7043.000000   \n",
              "mean                 0.162147        32.371149                64.761692   \n",
              "std                  0.368612        24.559481                30.090047   \n",
              "min                  0.000000         0.000000                18.250000   \n",
              "25%                  0.000000         9.000000                35.500000   \n",
              "50%                  0.000000        29.000000                70.350000   \n",
              "75%                  0.000000        55.000000                89.850000   \n",
              "max                  1.000000        72.000000               118.750000   \n",
              "\n",
              "       account.Charges.Total  \n",
              "count            7032.000000  \n",
              "mean             2283.300441  \n",
              "std              2266.771362  \n",
              "min                18.800000  \n",
              "25%               401.450000  \n",
              "50%              1397.475000  \n",
              "75%              3794.737500  \n",
              "max              8684.800000  "
            ]
          },
          "execution_count": 15,
          "metadata": {},
          "output_type": "execute_result"
        }
      ],
      "source": [
        "df_normalizado.describe()"
      ]
    },
    {
      "cell_type": "code",
      "execution_count": 16,
      "metadata": {
        "colab": {
          "base_uri": "https://localhost:8080/"
        },
        "id": "4kea_9YlbR8f",
        "outputId": "bbdf6e61-0a90-4673-8d3c-59a1809e3b3d"
      },
      "outputs": [
        {
          "name": "stdout",
          "output_type": "stream",
          "text": [
            "\n",
            "Tipos de datos por columna:\n",
            "customerID                    object\n",
            "Churn                         object\n",
            "customer.gender               object\n",
            "customer.SeniorCitizen         int64\n",
            "customer.Partner              object\n",
            "customer.Dependents           object\n",
            "customer.tenure                int64\n",
            "phone.PhoneService            object\n",
            "phone.MultipleLines           object\n",
            "internet.InternetService      object\n",
            "internet.OnlineSecurity       object\n",
            "internet.OnlineBackup         object\n",
            "internet.DeviceProtection     object\n",
            "internet.TechSupport          object\n",
            "internet.StreamingTV          object\n",
            "internet.StreamingMovies      object\n",
            "account.Contract              object\n",
            "account.PaperlessBilling      object\n",
            "account.PaymentMethod         object\n",
            "account.Charges.Monthly      float64\n",
            "account.Charges.Total        float64\n",
            "dtype: object\n"
          ]
        }
      ],
      "source": [
        "# Tipos de Datos\n",
        "print(\"\\nTipos de datos por columna:\")\n",
        "print(df_normalizado.dtypes)"
      ]
    },
    {
      "cell_type": "code",
      "execution_count": 17,
      "metadata": {
        "colab": {
          "base_uri": "https://localhost:8080/"
        },
        "id": "r_2X5nkGlqwm",
        "outputId": "85c222bd-020f-41ed-a978-36205cefc3e5"
      },
      "outputs": [
        {
          "name": "stdout",
          "output_type": "stream",
          "text": [
            "      account.Charges.Monthly  Cuentas_Diarias\n",
            "0                       65.60         2.186667\n",
            "1                       59.90         1.996667\n",
            "2                       73.90         2.463333\n",
            "3                       98.00         3.266667\n",
            "4                       83.90         2.796667\n",
            "...                       ...              ...\n",
            "7262                    55.15         1.838333\n",
            "7263                    85.10         2.836667\n",
            "7264                    50.30         1.676667\n",
            "7265                    67.85         2.261667\n",
            "7266                    59.00         1.966667\n",
            "\n",
            "[7043 rows x 2 columns]\n"
          ]
        }
      ],
      "source": [
        "#Crear Columnas cuentas diarias\n",
        "df_normalizado['Cuentas_Diarias'] = df_normalizado['account.Charges.Monthly'] / 30\n",
        "print(df_normalizado[['account.Charges.Monthly', 'Cuentas_Diarias']])"
      ]
    },
    {
      "cell_type": "code",
      "execution_count": 18,
      "metadata": {
        "id": "eoZ2nTendOt3"
      },
      "outputs": [],
      "source": [
        "# Renombrar columnas para facilitar el análisis\n",
        "df.columns = df.columns.str.replace(r'^(customer\\.|phone\\.|internet\\.|account\\.)', '', regex=True)\n",
        "df.columns = df.columns.str.replace('.', '_', regex=False).str.lower()"
      ]
    },
    {
      "cell_type": "code",
      "execution_count": 19,
      "metadata": {
        "id": "Cbn2Me2pdXrA"
      },
      "outputs": [],
      "source": [
        "# Limpiar valores textuales\n",
        "for col in df.select_dtypes(include='object').columns:\n",
        "    df[col] = df[col].str.strip().str.lower()"
      ]
    },
    {
      "cell_type": "code",
      "execution_count": 20,
      "metadata": {
        "colab": {
          "base_uri": "https://localhost:8080/"
        },
        "id": "QcETzFqsdZmW",
        "outputId": "40d38431-4ea7-44c2-85fc-724f5dcf4e90"
      },
      "outputs": [
        {
          "name": "stderr",
          "output_type": "stream",
          "text": [
            "C:\\Users\\DIEGO\\AppData\\Local\\Temp\\ipykernel_13304\\1574286218.py:2: FutureWarning: Downcasting behavior in `replace` is deprecated and will be removed in a future version. To retain the old behavior, explicitly call `result.infer_objects(copy=False)`. To opt-in to the future behavior, set `pd.set_option('future.no_silent_downcasting', True)`\n",
            "  df.replace({'yes': 1, 'no': 0}, inplace=True)\n"
          ]
        }
      ],
      "source": [
        "# Estandarizar valores como “sí/no” a binarios\n",
        "df.replace({'yes': 1, 'no': 0}, inplace=True)"
      ]
    },
    {
      "cell_type": "code",
      "execution_count": 21,
      "metadata": {
        "colab": {
          "base_uri": "https://localhost:8080/",
          "height": 582
        },
        "id": "zQvgaoI_taE6",
        "outputId": "184d55c8-c2f2-4821-dabc-22ebc656dde9"
      },
      "outputs": [
        {
          "data": {
            "text/html": [
              "<div>\n",
              "<style scoped>\n",
              "    .dataframe tbody tr th:only-of-type {\n",
              "        vertical-align: middle;\n",
              "    }\n",
              "\n",
              "    .dataframe tbody tr th {\n",
              "        vertical-align: top;\n",
              "    }\n",
              "\n",
              "    .dataframe thead th {\n",
              "        text-align: right;\n",
              "    }\n",
              "</style>\n",
              "<table border=\"1\" class=\"dataframe\">\n",
              "  <thead>\n",
              "    <tr style=\"text-align: right;\">\n",
              "      <th></th>\n",
              "      <th>customerID</th>\n",
              "      <th>Churn</th>\n",
              "      <th>customer.gender</th>\n",
              "      <th>customer.SeniorCitizen</th>\n",
              "      <th>customer.Partner</th>\n",
              "      <th>customer.Dependents</th>\n",
              "      <th>customer.tenure</th>\n",
              "      <th>phone.PhoneService</th>\n",
              "      <th>phone.MultipleLines</th>\n",
              "      <th>internet.InternetService</th>\n",
              "      <th>...</th>\n",
              "      <th>internet.DeviceProtection</th>\n",
              "      <th>internet.TechSupport</th>\n",
              "      <th>internet.StreamingTV</th>\n",
              "      <th>internet.StreamingMovies</th>\n",
              "      <th>account.Contract</th>\n",
              "      <th>account.PaperlessBilling</th>\n",
              "      <th>account.PaymentMethod</th>\n",
              "      <th>account.Charges.Monthly</th>\n",
              "      <th>account.Charges.Total</th>\n",
              "      <th>Cuentas_Diarias</th>\n",
              "    </tr>\n",
              "  </thead>\n",
              "  <tbody>\n",
              "    <tr>\n",
              "      <th>0</th>\n",
              "      <td>0002-ORFBO</td>\n",
              "      <td>No</td>\n",
              "      <td>Female</td>\n",
              "      <td>0</td>\n",
              "      <td>Yes</td>\n",
              "      <td>Yes</td>\n",
              "      <td>9</td>\n",
              "      <td>Yes</td>\n",
              "      <td>No</td>\n",
              "      <td>DSL</td>\n",
              "      <td>...</td>\n",
              "      <td>No</td>\n",
              "      <td>Yes</td>\n",
              "      <td>Yes</td>\n",
              "      <td>No</td>\n",
              "      <td>One year</td>\n",
              "      <td>Yes</td>\n",
              "      <td>Mailed check</td>\n",
              "      <td>65.60</td>\n",
              "      <td>593.30</td>\n",
              "      <td>2.186667</td>\n",
              "    </tr>\n",
              "    <tr>\n",
              "      <th>1</th>\n",
              "      <td>0003-MKNFE</td>\n",
              "      <td>No</td>\n",
              "      <td>Male</td>\n",
              "      <td>0</td>\n",
              "      <td>No</td>\n",
              "      <td>No</td>\n",
              "      <td>9</td>\n",
              "      <td>Yes</td>\n",
              "      <td>Yes</td>\n",
              "      <td>DSL</td>\n",
              "      <td>...</td>\n",
              "      <td>No</td>\n",
              "      <td>No</td>\n",
              "      <td>No</td>\n",
              "      <td>Yes</td>\n",
              "      <td>Month-to-month</td>\n",
              "      <td>No</td>\n",
              "      <td>Mailed check</td>\n",
              "      <td>59.90</td>\n",
              "      <td>542.40</td>\n",
              "      <td>1.996667</td>\n",
              "    </tr>\n",
              "    <tr>\n",
              "      <th>2</th>\n",
              "      <td>0004-TLHLJ</td>\n",
              "      <td>Yes</td>\n",
              "      <td>Male</td>\n",
              "      <td>0</td>\n",
              "      <td>No</td>\n",
              "      <td>No</td>\n",
              "      <td>4</td>\n",
              "      <td>Yes</td>\n",
              "      <td>No</td>\n",
              "      <td>Fiber optic</td>\n",
              "      <td>...</td>\n",
              "      <td>Yes</td>\n",
              "      <td>No</td>\n",
              "      <td>No</td>\n",
              "      <td>No</td>\n",
              "      <td>Month-to-month</td>\n",
              "      <td>Yes</td>\n",
              "      <td>Electronic check</td>\n",
              "      <td>73.90</td>\n",
              "      <td>280.85</td>\n",
              "      <td>2.463333</td>\n",
              "    </tr>\n",
              "    <tr>\n",
              "      <th>3</th>\n",
              "      <td>0011-IGKFF</td>\n",
              "      <td>Yes</td>\n",
              "      <td>Male</td>\n",
              "      <td>1</td>\n",
              "      <td>Yes</td>\n",
              "      <td>No</td>\n",
              "      <td>13</td>\n",
              "      <td>Yes</td>\n",
              "      <td>No</td>\n",
              "      <td>Fiber optic</td>\n",
              "      <td>...</td>\n",
              "      <td>Yes</td>\n",
              "      <td>No</td>\n",
              "      <td>Yes</td>\n",
              "      <td>Yes</td>\n",
              "      <td>Month-to-month</td>\n",
              "      <td>Yes</td>\n",
              "      <td>Electronic check</td>\n",
              "      <td>98.00</td>\n",
              "      <td>1237.85</td>\n",
              "      <td>3.266667</td>\n",
              "    </tr>\n",
              "    <tr>\n",
              "      <th>4</th>\n",
              "      <td>0013-EXCHZ</td>\n",
              "      <td>Yes</td>\n",
              "      <td>Female</td>\n",
              "      <td>1</td>\n",
              "      <td>Yes</td>\n",
              "      <td>No</td>\n",
              "      <td>3</td>\n",
              "      <td>Yes</td>\n",
              "      <td>No</td>\n",
              "      <td>Fiber optic</td>\n",
              "      <td>...</td>\n",
              "      <td>No</td>\n",
              "      <td>Yes</td>\n",
              "      <td>Yes</td>\n",
              "      <td>No</td>\n",
              "      <td>Month-to-month</td>\n",
              "      <td>Yes</td>\n",
              "      <td>Mailed check</td>\n",
              "      <td>83.90</td>\n",
              "      <td>267.40</td>\n",
              "      <td>2.796667</td>\n",
              "    </tr>\n",
              "    <tr>\n",
              "      <th>...</th>\n",
              "      <td>...</td>\n",
              "      <td>...</td>\n",
              "      <td>...</td>\n",
              "      <td>...</td>\n",
              "      <td>...</td>\n",
              "      <td>...</td>\n",
              "      <td>...</td>\n",
              "      <td>...</td>\n",
              "      <td>...</td>\n",
              "      <td>...</td>\n",
              "      <td>...</td>\n",
              "      <td>...</td>\n",
              "      <td>...</td>\n",
              "      <td>...</td>\n",
              "      <td>...</td>\n",
              "      <td>...</td>\n",
              "      <td>...</td>\n",
              "      <td>...</td>\n",
              "      <td>...</td>\n",
              "      <td>...</td>\n",
              "      <td>...</td>\n",
              "    </tr>\n",
              "    <tr>\n",
              "      <th>7262</th>\n",
              "      <td>9987-LUTYD</td>\n",
              "      <td>No</td>\n",
              "      <td>Female</td>\n",
              "      <td>0</td>\n",
              "      <td>No</td>\n",
              "      <td>No</td>\n",
              "      <td>13</td>\n",
              "      <td>Yes</td>\n",
              "      <td>No</td>\n",
              "      <td>DSL</td>\n",
              "      <td>...</td>\n",
              "      <td>No</td>\n",
              "      <td>Yes</td>\n",
              "      <td>No</td>\n",
              "      <td>No</td>\n",
              "      <td>One year</td>\n",
              "      <td>No</td>\n",
              "      <td>Mailed check</td>\n",
              "      <td>55.15</td>\n",
              "      <td>742.90</td>\n",
              "      <td>1.838333</td>\n",
              "    </tr>\n",
              "    <tr>\n",
              "      <th>7263</th>\n",
              "      <td>9992-RRAMN</td>\n",
              "      <td>Yes</td>\n",
              "      <td>Male</td>\n",
              "      <td>0</td>\n",
              "      <td>Yes</td>\n",
              "      <td>No</td>\n",
              "      <td>22</td>\n",
              "      <td>Yes</td>\n",
              "      <td>Yes</td>\n",
              "      <td>Fiber optic</td>\n",
              "      <td>...</td>\n",
              "      <td>No</td>\n",
              "      <td>No</td>\n",
              "      <td>No</td>\n",
              "      <td>Yes</td>\n",
              "      <td>Month-to-month</td>\n",
              "      <td>Yes</td>\n",
              "      <td>Electronic check</td>\n",
              "      <td>85.10</td>\n",
              "      <td>1873.70</td>\n",
              "      <td>2.836667</td>\n",
              "    </tr>\n",
              "    <tr>\n",
              "      <th>7264</th>\n",
              "      <td>9992-UJOEL</td>\n",
              "      <td>No</td>\n",
              "      <td>Male</td>\n",
              "      <td>0</td>\n",
              "      <td>No</td>\n",
              "      <td>No</td>\n",
              "      <td>2</td>\n",
              "      <td>Yes</td>\n",
              "      <td>No</td>\n",
              "      <td>DSL</td>\n",
              "      <td>...</td>\n",
              "      <td>No</td>\n",
              "      <td>No</td>\n",
              "      <td>No</td>\n",
              "      <td>No</td>\n",
              "      <td>Month-to-month</td>\n",
              "      <td>Yes</td>\n",
              "      <td>Mailed check</td>\n",
              "      <td>50.30</td>\n",
              "      <td>92.75</td>\n",
              "      <td>1.676667</td>\n",
              "    </tr>\n",
              "    <tr>\n",
              "      <th>7265</th>\n",
              "      <td>9993-LHIEB</td>\n",
              "      <td>No</td>\n",
              "      <td>Male</td>\n",
              "      <td>0</td>\n",
              "      <td>Yes</td>\n",
              "      <td>Yes</td>\n",
              "      <td>67</td>\n",
              "      <td>Yes</td>\n",
              "      <td>No</td>\n",
              "      <td>DSL</td>\n",
              "      <td>...</td>\n",
              "      <td>Yes</td>\n",
              "      <td>Yes</td>\n",
              "      <td>No</td>\n",
              "      <td>Yes</td>\n",
              "      <td>Two year</td>\n",
              "      <td>No</td>\n",
              "      <td>Mailed check</td>\n",
              "      <td>67.85</td>\n",
              "      <td>4627.65</td>\n",
              "      <td>2.261667</td>\n",
              "    </tr>\n",
              "    <tr>\n",
              "      <th>7266</th>\n",
              "      <td>9995-HOTOH</td>\n",
              "      <td>No</td>\n",
              "      <td>Male</td>\n",
              "      <td>0</td>\n",
              "      <td>Yes</td>\n",
              "      <td>Yes</td>\n",
              "      <td>63</td>\n",
              "      <td>No</td>\n",
              "      <td>No phone service</td>\n",
              "      <td>DSL</td>\n",
              "      <td>...</td>\n",
              "      <td>Yes</td>\n",
              "      <td>No</td>\n",
              "      <td>Yes</td>\n",
              "      <td>Yes</td>\n",
              "      <td>Two year</td>\n",
              "      <td>No</td>\n",
              "      <td>Electronic check</td>\n",
              "      <td>59.00</td>\n",
              "      <td>3707.60</td>\n",
              "      <td>1.966667</td>\n",
              "    </tr>\n",
              "  </tbody>\n",
              "</table>\n",
              "<p>7043 rows × 22 columns</p>\n",
              "</div>"
            ],
            "text/plain": [
              "      customerID Churn customer.gender  customer.SeniorCitizen  \\\n",
              "0     0002-ORFBO    No          Female                       0   \n",
              "1     0003-MKNFE    No            Male                       0   \n",
              "2     0004-TLHLJ   Yes            Male                       0   \n",
              "3     0011-IGKFF   Yes            Male                       1   \n",
              "4     0013-EXCHZ   Yes          Female                       1   \n",
              "...          ...   ...             ...                     ...   \n",
              "7262  9987-LUTYD    No          Female                       0   \n",
              "7263  9992-RRAMN   Yes            Male                       0   \n",
              "7264  9992-UJOEL    No            Male                       0   \n",
              "7265  9993-LHIEB    No            Male                       0   \n",
              "7266  9995-HOTOH    No            Male                       0   \n",
              "\n",
              "     customer.Partner customer.Dependents  customer.tenure phone.PhoneService  \\\n",
              "0                 Yes                 Yes                9                Yes   \n",
              "1                  No                  No                9                Yes   \n",
              "2                  No                  No                4                Yes   \n",
              "3                 Yes                  No               13                Yes   \n",
              "4                 Yes                  No                3                Yes   \n",
              "...               ...                 ...              ...                ...   \n",
              "7262               No                  No               13                Yes   \n",
              "7263              Yes                  No               22                Yes   \n",
              "7264               No                  No                2                Yes   \n",
              "7265              Yes                 Yes               67                Yes   \n",
              "7266              Yes                 Yes               63                 No   \n",
              "\n",
              "     phone.MultipleLines internet.InternetService  ...  \\\n",
              "0                     No                      DSL  ...   \n",
              "1                    Yes                      DSL  ...   \n",
              "2                     No              Fiber optic  ...   \n",
              "3                     No              Fiber optic  ...   \n",
              "4                     No              Fiber optic  ...   \n",
              "...                  ...                      ...  ...   \n",
              "7262                  No                      DSL  ...   \n",
              "7263                 Yes              Fiber optic  ...   \n",
              "7264                  No                      DSL  ...   \n",
              "7265                  No                      DSL  ...   \n",
              "7266    No phone service                      DSL  ...   \n",
              "\n",
              "     internet.DeviceProtection internet.TechSupport internet.StreamingTV  \\\n",
              "0                           No                  Yes                  Yes   \n",
              "1                           No                   No                   No   \n",
              "2                          Yes                   No                   No   \n",
              "3                          Yes                   No                  Yes   \n",
              "4                           No                  Yes                  Yes   \n",
              "...                        ...                  ...                  ...   \n",
              "7262                        No                  Yes                   No   \n",
              "7263                        No                   No                   No   \n",
              "7264                        No                   No                   No   \n",
              "7265                       Yes                  Yes                   No   \n",
              "7266                       Yes                   No                  Yes   \n",
              "\n",
              "     internet.StreamingMovies account.Contract account.PaperlessBilling  \\\n",
              "0                          No         One year                      Yes   \n",
              "1                         Yes   Month-to-month                       No   \n",
              "2                          No   Month-to-month                      Yes   \n",
              "3                         Yes   Month-to-month                      Yes   \n",
              "4                          No   Month-to-month                      Yes   \n",
              "...                       ...              ...                      ...   \n",
              "7262                       No         One year                       No   \n",
              "7263                      Yes   Month-to-month                      Yes   \n",
              "7264                       No   Month-to-month                      Yes   \n",
              "7265                      Yes         Two year                       No   \n",
              "7266                      Yes         Two year                       No   \n",
              "\n",
              "     account.PaymentMethod account.Charges.Monthly account.Charges.Total  \\\n",
              "0             Mailed check                   65.60                593.30   \n",
              "1             Mailed check                   59.90                542.40   \n",
              "2         Electronic check                   73.90                280.85   \n",
              "3         Electronic check                   98.00               1237.85   \n",
              "4             Mailed check                   83.90                267.40   \n",
              "...                    ...                     ...                   ...   \n",
              "7262          Mailed check                   55.15                742.90   \n",
              "7263      Electronic check                   85.10               1873.70   \n",
              "7264          Mailed check                   50.30                 92.75   \n",
              "7265          Mailed check                   67.85               4627.65   \n",
              "7266      Electronic check                   59.00               3707.60   \n",
              "\n",
              "      Cuentas_Diarias  \n",
              "0            2.186667  \n",
              "1            1.996667  \n",
              "2            2.463333  \n",
              "3            3.266667  \n",
              "4            2.796667  \n",
              "...               ...  \n",
              "7262         1.838333  \n",
              "7263         2.836667  \n",
              "7264         1.676667  \n",
              "7265         2.261667  \n",
              "7266         1.966667  \n",
              "\n",
              "[7043 rows x 22 columns]"
            ]
          },
          "execution_count": 21,
          "metadata": {},
          "output_type": "execute_result"
        }
      ],
      "source": [
        "df_normalizado = df_normalizado.drop('Cuentas_Diarias', errors='ignore')\n",
        "df_normalizado"
      ]
    },
    {
      "cell_type": "code",
      "execution_count": 22,
      "metadata": {
        "colab": {
          "base_uri": "https://localhost:8080/"
        },
        "id": "JHXPaHWddpyt",
        "outputId": "8451d9bd-4108-4e5a-9b4e-fa884f612719"
      },
      "outputs": [
        {
          "name": "stdout",
          "output_type": "stream",
          "text": [
            "['customerid', 'churn', 'gender', 'seniorcitizen', 'partner', 'dependents', 'tenure', 'phoneservice', 'multiplelines', 'internetservice', 'onlinesecurity', 'onlinebackup', 'deviceprotection', 'techsupport', 'streamingtv', 'streamingmovies', 'contract', 'paperlessbilling', 'paymentmethod', 'charges_monthly', 'charges_total']\n"
          ]
        }
      ],
      "source": [
        "print(df.columns.tolist())"
      ]
    },
    {
      "cell_type": "code",
      "execution_count": 23,
      "metadata": {
        "colab": {
          "base_uri": "https://localhost:8080/",
          "height": 209
        },
        "id": "Mz-iYESddspY",
        "outputId": "6c6adc4f-73f5-415f-9345-122dfea0072f"
      },
      "outputs": [
        {
          "data": {
            "text/plain": [
              "contract\n",
              "month-to-month    4005\n",
              "two year          1743\n",
              "one year          1519\n",
              "Name: count, dtype: int64"
            ]
          },
          "execution_count": 23,
          "metadata": {},
          "output_type": "execute_result"
        }
      ],
      "source": [
        "df['contract'].value_counts()"
=======
              "</div>\n",
              "    <div class=\"colab-df-buttons\">\n",
              "\n",
              "  <div class=\"colab-df-container\">\n",
              "    <button class=\"colab-df-convert\" onclick=\"convertToInteractive('df-0b368413-7b28-45f7-ac12-391a34f0c69c')\"\n",
              "            title=\"Convert this dataframe to an interactive table.\"\n",
              "            style=\"display:none;\">\n",
              "\n",
              "  <svg xmlns=\"http://www.w3.org/2000/svg\" height=\"24px\" viewBox=\"0 -960 960 960\">\n",
              "    <path d=\"M120-120v-720h720v720H120Zm60-500h600v-160H180v160Zm220 220h160v-160H400v160Zm0 220h160v-160H400v160ZM180-400h160v-160H180v160Zm440 0h160v-160H620v160ZM180-180h160v-160H180v160Zm440 0h160v-160H620v160Z\"/>\n",
              "  </svg>\n",
              "    </button>\n",
              "\n",
              "  <style>\n",
              "    .colab-df-container {\n",
              "      display:flex;\n",
              "      gap: 12px;\n",
              "    }\n",
              "\n",
              "    .colab-df-convert {\n",
              "      background-color: #E8F0FE;\n",
              "      border: none;\n",
              "      border-radius: 50%;\n",
              "      cursor: pointer;\n",
              "      display: none;\n",
              "      fill: #1967D2;\n",
              "      height: 32px;\n",
              "      padding: 0 0 0 0;\n",
              "      width: 32px;\n",
              "    }\n",
              "\n",
              "    .colab-df-convert:hover {\n",
              "      background-color: #E2EBFA;\n",
              "      box-shadow: 0px 1px 2px rgba(60, 64, 67, 0.3), 0px 1px 3px 1px rgba(60, 64, 67, 0.15);\n",
              "      fill: #174EA6;\n",
              "    }\n",
              "\n",
              "    .colab-df-buttons div {\n",
              "      margin-bottom: 4px;\n",
              "    }\n",
              "\n",
              "    [theme=dark] .colab-df-convert {\n",
              "      background-color: #3B4455;\n",
              "      fill: #D2E3FC;\n",
              "    }\n",
              "\n",
              "    [theme=dark] .colab-df-convert:hover {\n",
              "      background-color: #434B5C;\n",
              "      box-shadow: 0px 1px 3px 1px rgba(0, 0, 0, 0.15);\n",
              "      filter: drop-shadow(0px 1px 2px rgba(0, 0, 0, 0.3));\n",
              "      fill: #FFFFFF;\n",
              "    }\n",
              "  </style>\n",
              "\n",
              "    <script>\n",
              "      const buttonEl =\n",
              "        document.querySelector('#df-0b368413-7b28-45f7-ac12-391a34f0c69c button.colab-df-convert');\n",
              "      buttonEl.style.display =\n",
              "        google.colab.kernel.accessAllowed ? 'block' : 'none';\n",
              "\n",
              "      async function convertToInteractive(key) {\n",
              "        const element = document.querySelector('#df-0b368413-7b28-45f7-ac12-391a34f0c69c');\n",
              "        const dataTable =\n",
              "          await google.colab.kernel.invokeFunction('convertToInteractive',\n",
              "                                                    [key], {});\n",
              "        if (!dataTable) return;\n",
              "\n",
              "        const docLinkHtml = 'Like what you see? Visit the ' +\n",
              "          '<a target=\"_blank\" href=https://colab.research.google.com/notebooks/data_table.ipynb>data table notebook</a>'\n",
              "          + ' to learn more about interactive tables.';\n",
              "        element.innerHTML = '';\n",
              "        dataTable['output_type'] = 'display_data';\n",
              "        await google.colab.output.renderOutput(dataTable, element);\n",
              "        const docLink = document.createElement('div');\n",
              "        docLink.innerHTML = docLinkHtml;\n",
              "        element.appendChild(docLink);\n",
              "      }\n",
              "    </script>\n",
              "  </div>\n",
              "\n",
              "\n",
              "    <div id=\"df-e3194f18-03e2-48c2-92b0-7f3d2a608f86\">\n",
              "      <button class=\"colab-df-quickchart\" onclick=\"quickchart('df-e3194f18-03e2-48c2-92b0-7f3d2a608f86')\"\n",
              "                title=\"Suggest charts\"\n",
              "                style=\"display:none;\">\n",
              "\n",
              "<svg xmlns=\"http://www.w3.org/2000/svg\" height=\"24px\"viewBox=\"0 0 24 24\"\n",
              "     width=\"24px\">\n",
              "    <g>\n",
              "        <path d=\"M19 3H5c-1.1 0-2 .9-2 2v14c0 1.1.9 2 2 2h14c1.1 0 2-.9 2-2V5c0-1.1-.9-2-2-2zM9 17H7v-7h2v7zm4 0h-2V7h2v10zm4 0h-2v-4h2v4z\"/>\n",
              "    </g>\n",
              "</svg>\n",
              "      </button>\n",
              "\n",
              "<style>\n",
              "  .colab-df-quickchart {\n",
              "      --bg-color: #E8F0FE;\n",
              "      --fill-color: #1967D2;\n",
              "      --hover-bg-color: #E2EBFA;\n",
              "      --hover-fill-color: #174EA6;\n",
              "      --disabled-fill-color: #AAA;\n",
              "      --disabled-bg-color: #DDD;\n",
              "  }\n",
              "\n",
              "  [theme=dark] .colab-df-quickchart {\n",
              "      --bg-color: #3B4455;\n",
              "      --fill-color: #D2E3FC;\n",
              "      --hover-bg-color: #434B5C;\n",
              "      --hover-fill-color: #FFFFFF;\n",
              "      --disabled-bg-color: #3B4455;\n",
              "      --disabled-fill-color: #666;\n",
              "  }\n",
              "\n",
              "  .colab-df-quickchart {\n",
              "    background-color: var(--bg-color);\n",
              "    border: none;\n",
              "    border-radius: 50%;\n",
              "    cursor: pointer;\n",
              "    display: none;\n",
              "    fill: var(--fill-color);\n",
              "    height: 32px;\n",
              "    padding: 0;\n",
              "    width: 32px;\n",
              "  }\n",
              "\n",
              "  .colab-df-quickchart:hover {\n",
              "    background-color: var(--hover-bg-color);\n",
              "    box-shadow: 0 1px 2px rgba(60, 64, 67, 0.3), 0 1px 3px 1px rgba(60, 64, 67, 0.15);\n",
              "    fill: var(--button-hover-fill-color);\n",
              "  }\n",
              "\n",
              "  .colab-df-quickchart-complete:disabled,\n",
              "  .colab-df-quickchart-complete:disabled:hover {\n",
              "    background-color: var(--disabled-bg-color);\n",
              "    fill: var(--disabled-fill-color);\n",
              "    box-shadow: none;\n",
              "  }\n",
              "\n",
              "  .colab-df-spinner {\n",
              "    border: 2px solid var(--fill-color);\n",
              "    border-color: transparent;\n",
              "    border-bottom-color: var(--fill-color);\n",
              "    animation:\n",
              "      spin 1s steps(1) infinite;\n",
              "  }\n",
              "\n",
              "  @keyframes spin {\n",
              "    0% {\n",
              "      border-color: transparent;\n",
              "      border-bottom-color: var(--fill-color);\n",
              "      border-left-color: var(--fill-color);\n",
              "    }\n",
              "    20% {\n",
              "      border-color: transparent;\n",
              "      border-left-color: var(--fill-color);\n",
              "      border-top-color: var(--fill-color);\n",
              "    }\n",
              "    30% {\n",
              "      border-color: transparent;\n",
              "      border-left-color: var(--fill-color);\n",
              "      border-top-color: var(--fill-color);\n",
              "      border-right-color: var(--fill-color);\n",
              "    }\n",
              "    40% {\n",
              "      border-color: transparent;\n",
              "      border-right-color: var(--fill-color);\n",
              "      border-top-color: var(--fill-color);\n",
              "    }\n",
              "    60% {\n",
              "      border-color: transparent;\n",
              "      border-right-color: var(--fill-color);\n",
              "    }\n",
              "    80% {\n",
              "      border-color: transparent;\n",
              "      border-right-color: var(--fill-color);\n",
              "      border-bottom-color: var(--fill-color);\n",
              "    }\n",
              "    90% {\n",
              "      border-color: transparent;\n",
              "      border-bottom-color: var(--fill-color);\n",
              "    }\n",
              "  }\n",
              "</style>\n",
              "\n",
              "      <script>\n",
              "        async function quickchart(key) {\n",
              "          const quickchartButtonEl =\n",
              "            document.querySelector('#' + key + ' button');\n",
              "          quickchartButtonEl.disabled = true;  // To prevent multiple clicks.\n",
              "          quickchartButtonEl.classList.add('colab-df-spinner');\n",
              "          try {\n",
              "            const charts = await google.colab.kernel.invokeFunction(\n",
              "                'suggestCharts', [key], {});\n",
              "          } catch (error) {\n",
              "            console.error('Error during call to suggestCharts:', error);\n",
              "          }\n",
              "          quickchartButtonEl.classList.remove('colab-df-spinner');\n",
              "          quickchartButtonEl.classList.add('colab-df-quickchart-complete');\n",
              "        }\n",
              "        (() => {\n",
              "          let quickchartButtonEl =\n",
              "            document.querySelector('#df-e3194f18-03e2-48c2-92b0-7f3d2a608f86 button');\n",
              "          quickchartButtonEl.style.display =\n",
              "            google.colab.kernel.accessAllowed ? 'block' : 'none';\n",
              "        })();\n",
              "      </script>\n",
              "    </div>\n",
              "\n",
              "    </div>\n",
              "  </div>\n"
            ],
            "application/vnd.google.colaboratory.intrinsic+json": {
              "type": "dataframe",
              "variable_name": "df_normalizado"
            }
          },
          "metadata": {},
          "execution_count": 10
        }
>>>>>>> ce795e5c90ca512e4dab40e3d036f55aed182dd7
      ]
    },
    {
      "cell_type": "markdown",
<<<<<<< HEAD
      "metadata": {
        "id": "Wk-IJqO_gwlr"
=======
      "source": [],
      "metadata": {
        "id": "DDz7vgde1KU9"
      }
    },
    {
      "cell_type": "markdown",
      "metadata": {
        "id": "1lSZP8zmmGZu"
      },
      "source": [
        "#🔧 Transformación"
      ]
    },
    {
      "cell_type": "code",
      "execution_count": 2,
      "metadata": {
        "id": "bsm-WTLjmHvt"
      },
      "outputs": [],
      "source": []
    },
    {
      "cell_type": "markdown",
      "metadata": {
        "id": "6XnTC2NTmMRL"
>>>>>>> ce795e5c90ca512e4dab40e3d036f55aed182dd7
      },
      "source": [
        "#📊 Carga y análisis"
      ]
    },
    {
      "cell_type": "code",
<<<<<<< HEAD
      "execution_count": 24,
      "metadata": {
        "colab": {
          "base_uri": "https://localhost:8080/",
          "height": 707
        },
        "id": "aQL582ojhTv4",
        "outputId": "434641f0-204d-40a9-ab42-b4220722ce2f"
      },
      "outputs": [
        {
          "data": {
            "text/html": [
              "<div>\n",
              "<style scoped>\n",
              "    .dataframe tbody tr th:only-of-type {\n",
              "        vertical-align: middle;\n",
              "    }\n",
              "\n",
              "    .dataframe tbody tr th {\n",
              "        vertical-align: top;\n",
              "    }\n",
              "\n",
              "    .dataframe thead th {\n",
              "        text-align: right;\n",
              "    }\n",
              "</style>\n",
              "<table border=\"1\" class=\"dataframe\">\n",
              "  <thead>\n",
              "    <tr style=\"text-align: right;\">\n",
              "      <th></th>\n",
              "      <th>count</th>\n",
              "      <th>unique</th>\n",
              "      <th>top</th>\n",
              "      <th>freq</th>\n",
              "      <th>mean</th>\n",
              "      <th>std</th>\n",
              "      <th>min</th>\n",
              "      <th>25%</th>\n",
              "      <th>50%</th>\n",
              "      <th>75%</th>\n",
              "      <th>max</th>\n",
              "    </tr>\n",
              "  </thead>\n",
              "  <tbody>\n",
              "    <tr>\n",
              "      <th>customerid</th>\n",
              "      <td>7267</td>\n",
              "      <td>7267</td>\n",
              "      <td>0002-orfbo</td>\n",
              "      <td>1</td>\n",
              "      <td>NaN</td>\n",
              "      <td>NaN</td>\n",
              "      <td>NaN</td>\n",
              "      <td>NaN</td>\n",
              "      <td>NaN</td>\n",
              "      <td>NaN</td>\n",
              "      <td>NaN</td>\n",
              "    </tr>\n",
              "    <tr>\n",
              "      <th>churn</th>\n",
              "      <td>7267.0</td>\n",
              "      <td>3.0</td>\n",
              "      <td>0.0</td>\n",
              "      <td>5174.0</td>\n",
              "      <td>NaN</td>\n",
              "      <td>NaN</td>\n",
              "      <td>NaN</td>\n",
              "      <td>NaN</td>\n",
              "      <td>NaN</td>\n",
              "      <td>NaN</td>\n",
              "      <td>NaN</td>\n",
              "    </tr>\n",
              "    <tr>\n",
              "      <th>gender</th>\n",
              "      <td>7267</td>\n",
              "      <td>2</td>\n",
              "      <td>male</td>\n",
              "      <td>3675</td>\n",
              "      <td>NaN</td>\n",
              "      <td>NaN</td>\n",
              "      <td>NaN</td>\n",
              "      <td>NaN</td>\n",
              "      <td>NaN</td>\n",
              "      <td>NaN</td>\n",
              "      <td>NaN</td>\n",
              "    </tr>\n",
              "    <tr>\n",
              "      <th>seniorcitizen</th>\n",
              "      <td>7267.0</td>\n",
              "      <td>NaN</td>\n",
              "      <td>NaN</td>\n",
              "      <td>NaN</td>\n",
              "      <td>0.162653</td>\n",
              "      <td>0.369074</td>\n",
              "      <td>0.0</td>\n",
              "      <td>0.0</td>\n",
              "      <td>0.0</td>\n",
              "      <td>0.0</td>\n",
              "      <td>1.0</td>\n",
              "    </tr>\n",
              "    <tr>\n",
              "      <th>partner</th>\n",
              "      <td>7267.0</td>\n",
              "      <td>NaN</td>\n",
              "      <td>NaN</td>\n",
              "      <td>NaN</td>\n",
              "      <td>0.484106</td>\n",
              "      <td>0.499782</td>\n",
              "      <td>0.0</td>\n",
              "      <td>0.0</td>\n",
              "      <td>0.0</td>\n",
              "      <td>1.0</td>\n",
              "      <td>1.0</td>\n",
              "    </tr>\n",
              "    <tr>\n",
              "      <th>dependents</th>\n",
              "      <td>7267.0</td>\n",
              "      <td>NaN</td>\n",
              "      <td>NaN</td>\n",
              "      <td>NaN</td>\n",
              "      <td>0.300124</td>\n",
              "      <td>0.458343</td>\n",
              "      <td>0.0</td>\n",
              "      <td>0.0</td>\n",
              "      <td>0.0</td>\n",
              "      <td>1.0</td>\n",
              "      <td>1.0</td>\n",
              "    </tr>\n",
              "    <tr>\n",
              "      <th>tenure</th>\n",
              "      <td>7267.0</td>\n",
              "      <td>NaN</td>\n",
              "      <td>NaN</td>\n",
              "      <td>NaN</td>\n",
              "      <td>32.346498</td>\n",
              "      <td>24.571773</td>\n",
              "      <td>0.0</td>\n",
              "      <td>9.0</td>\n",
              "      <td>29.0</td>\n",
              "      <td>55.0</td>\n",
              "      <td>72.0</td>\n",
              "    </tr>\n",
              "    <tr>\n",
              "      <th>phoneservice</th>\n",
              "      <td>7267.0</td>\n",
              "      <td>NaN</td>\n",
              "      <td>NaN</td>\n",
              "      <td>NaN</td>\n",
              "      <td>0.902711</td>\n",
              "      <td>0.296371</td>\n",
              "      <td>0.0</td>\n",
              "      <td>1.0</td>\n",
              "      <td>1.0</td>\n",
              "      <td>1.0</td>\n",
              "      <td>1.0</td>\n",
              "    </tr>\n",
              "    <tr>\n",
              "      <th>multiplelines</th>\n",
              "      <td>7267.0</td>\n",
              "      <td>3.0</td>\n",
              "      <td>0.0</td>\n",
              "      <td>3495.0</td>\n",
              "      <td>NaN</td>\n",
              "      <td>NaN</td>\n",
              "      <td>NaN</td>\n",
              "      <td>NaN</td>\n",
              "      <td>NaN</td>\n",
              "      <td>NaN</td>\n",
              "      <td>NaN</td>\n",
              "    </tr>\n",
              "    <tr>\n",
              "      <th>internetservice</th>\n",
              "      <td>7267</td>\n",
              "      <td>3</td>\n",
              "      <td>fiber optic</td>\n",
              "      <td>3198</td>\n",
              "      <td>NaN</td>\n",
              "      <td>NaN</td>\n",
              "      <td>NaN</td>\n",
              "      <td>NaN</td>\n",
              "      <td>NaN</td>\n",
              "      <td>NaN</td>\n",
              "      <td>NaN</td>\n",
              "    </tr>\n",
              "    <tr>\n",
              "      <th>onlinesecurity</th>\n",
              "      <td>7267.0</td>\n",
              "      <td>3.0</td>\n",
              "      <td>0.0</td>\n",
              "      <td>3608.0</td>\n",
              "      <td>NaN</td>\n",
              "      <td>NaN</td>\n",
              "      <td>NaN</td>\n",
              "      <td>NaN</td>\n",
              "      <td>NaN</td>\n",
              "      <td>NaN</td>\n",
              "      <td>NaN</td>\n",
              "    </tr>\n",
              "    <tr>\n",
              "      <th>onlinebackup</th>\n",
              "      <td>7267.0</td>\n",
              "      <td>3.0</td>\n",
              "      <td>0.0</td>\n",
              "      <td>3182.0</td>\n",
              "      <td>NaN</td>\n",
              "      <td>NaN</td>\n",
              "      <td>NaN</td>\n",
              "      <td>NaN</td>\n",
              "      <td>NaN</td>\n",
              "      <td>NaN</td>\n",
              "      <td>NaN</td>\n",
              "    </tr>\n",
              "    <tr>\n",
              "      <th>deviceprotection</th>\n",
              "      <td>7267.0</td>\n",
              "      <td>3.0</td>\n",
              "      <td>0.0</td>\n",
              "      <td>3195.0</td>\n",
              "      <td>NaN</td>\n",
              "      <td>NaN</td>\n",
              "      <td>NaN</td>\n",
              "      <td>NaN</td>\n",
              "      <td>NaN</td>\n",
              "      <td>NaN</td>\n",
              "      <td>NaN</td>\n",
              "    </tr>\n",
              "    <tr>\n",
              "      <th>techsupport</th>\n",
              "      <td>7267.0</td>\n",
              "      <td>3.0</td>\n",
              "      <td>0.0</td>\n",
              "      <td>3582.0</td>\n",
              "      <td>NaN</td>\n",
              "      <td>NaN</td>\n",
              "      <td>NaN</td>\n",
              "      <td>NaN</td>\n",
              "      <td>NaN</td>\n",
              "      <td>NaN</td>\n",
              "      <td>NaN</td>\n",
              "    </tr>\n",
              "    <tr>\n",
              "      <th>streamingtv</th>\n",
              "      <td>7267.0</td>\n",
              "      <td>3.0</td>\n",
              "      <td>0.0</td>\n",
              "      <td>2896.0</td>\n",
              "      <td>NaN</td>\n",
              "      <td>NaN</td>\n",
              "      <td>NaN</td>\n",
              "      <td>NaN</td>\n",
              "      <td>NaN</td>\n",
              "      <td>NaN</td>\n",
              "      <td>NaN</td>\n",
              "    </tr>\n",
              "    <tr>\n",
              "      <th>streamingmovies</th>\n",
              "      <td>7267.0</td>\n",
              "      <td>3.0</td>\n",
              "      <td>0.0</td>\n",
              "      <td>2870.0</td>\n",
              "      <td>NaN</td>\n",
              "      <td>NaN</td>\n",
              "      <td>NaN</td>\n",
              "      <td>NaN</td>\n",
              "      <td>NaN</td>\n",
              "      <td>NaN</td>\n",
              "      <td>NaN</td>\n",
              "    </tr>\n",
              "    <tr>\n",
              "      <th>contract</th>\n",
              "      <td>7267</td>\n",
              "      <td>3</td>\n",
              "      <td>month-to-month</td>\n",
              "      <td>4005</td>\n",
              "      <td>NaN</td>\n",
              "      <td>NaN</td>\n",
              "      <td>NaN</td>\n",
              "      <td>NaN</td>\n",
              "      <td>NaN</td>\n",
              "      <td>NaN</td>\n",
              "      <td>NaN</td>\n",
              "    </tr>\n",
              "    <tr>\n",
              "      <th>paperlessbilling</th>\n",
              "      <td>7267.0</td>\n",
              "      <td>NaN</td>\n",
              "      <td>NaN</td>\n",
              "      <td>NaN</td>\n",
              "      <td>0.59323</td>\n",
              "      <td>0.491265</td>\n",
              "      <td>0.0</td>\n",
              "      <td>0.0</td>\n",
              "      <td>1.0</td>\n",
              "      <td>1.0</td>\n",
              "      <td>1.0</td>\n",
              "    </tr>\n",
              "    <tr>\n",
              "      <th>paymentmethod</th>\n",
              "      <td>7267</td>\n",
              "      <td>4</td>\n",
              "      <td>electronic check</td>\n",
              "      <td>2445</td>\n",
              "      <td>NaN</td>\n",
              "      <td>NaN</td>\n",
              "      <td>NaN</td>\n",
              "      <td>NaN</td>\n",
              "      <td>NaN</td>\n",
              "      <td>NaN</td>\n",
              "      <td>NaN</td>\n",
              "    </tr>\n",
              "    <tr>\n",
              "      <th>charges_monthly</th>\n",
              "      <td>7267.0</td>\n",
              "      <td>NaN</td>\n",
              "      <td>NaN</td>\n",
              "      <td>NaN</td>\n",
              "      <td>64.720098</td>\n",
              "      <td>30.129572</td>\n",
              "      <td>18.25</td>\n",
              "      <td>35.425</td>\n",
              "      <td>70.3</td>\n",
              "      <td>89.875</td>\n",
              "      <td>118.75</td>\n",
              "    </tr>\n",
              "    <tr>\n",
              "      <th>charges_total</th>\n",
              "      <td>7267</td>\n",
              "      <td>6531</td>\n",
              "      <td>20.2</td>\n",
              "      <td>11</td>\n",
              "      <td>NaN</td>\n",
              "      <td>NaN</td>\n",
              "      <td>NaN</td>\n",
              "      <td>NaN</td>\n",
              "      <td>NaN</td>\n",
              "      <td>NaN</td>\n",
              "      <td>NaN</td>\n",
              "    </tr>\n",
              "  </tbody>\n",
              "</table>\n",
              "</div>"
            ],
            "text/plain": [
              "                   count unique               top    freq       mean  \\\n",
              "customerid          7267   7267        0002-orfbo       1        NaN   \n",
              "churn             7267.0    3.0               0.0  5174.0        NaN   \n",
              "gender              7267      2              male    3675        NaN   \n",
              "seniorcitizen     7267.0    NaN               NaN     NaN   0.162653   \n",
              "partner           7267.0    NaN               NaN     NaN   0.484106   \n",
              "dependents        7267.0    NaN               NaN     NaN   0.300124   \n",
              "tenure            7267.0    NaN               NaN     NaN  32.346498   \n",
              "phoneservice      7267.0    NaN               NaN     NaN   0.902711   \n",
              "multiplelines     7267.0    3.0               0.0  3495.0        NaN   \n",
              "internetservice     7267      3       fiber optic    3198        NaN   \n",
              "onlinesecurity    7267.0    3.0               0.0  3608.0        NaN   \n",
              "onlinebackup      7267.0    3.0               0.0  3182.0        NaN   \n",
              "deviceprotection  7267.0    3.0               0.0  3195.0        NaN   \n",
              "techsupport       7267.0    3.0               0.0  3582.0        NaN   \n",
              "streamingtv       7267.0    3.0               0.0  2896.0        NaN   \n",
              "streamingmovies   7267.0    3.0               0.0  2870.0        NaN   \n",
              "contract            7267      3    month-to-month    4005        NaN   \n",
              "paperlessbilling  7267.0    NaN               NaN     NaN    0.59323   \n",
              "paymentmethod       7267      4  electronic check    2445        NaN   \n",
              "charges_monthly   7267.0    NaN               NaN     NaN  64.720098   \n",
              "charges_total       7267   6531              20.2      11        NaN   \n",
              "\n",
              "                        std    min     25%   50%     75%     max  \n",
              "customerid              NaN    NaN     NaN   NaN     NaN     NaN  \n",
              "churn                   NaN    NaN     NaN   NaN     NaN     NaN  \n",
              "gender                  NaN    NaN     NaN   NaN     NaN     NaN  \n",
              "seniorcitizen      0.369074    0.0     0.0   0.0     0.0     1.0  \n",
              "partner            0.499782    0.0     0.0   0.0     1.0     1.0  \n",
              "dependents         0.458343    0.0     0.0   0.0     1.0     1.0  \n",
              "tenure            24.571773    0.0     9.0  29.0    55.0    72.0  \n",
              "phoneservice       0.296371    0.0     1.0   1.0     1.0     1.0  \n",
              "multiplelines           NaN    NaN     NaN   NaN     NaN     NaN  \n",
              "internetservice         NaN    NaN     NaN   NaN     NaN     NaN  \n",
              "onlinesecurity          NaN    NaN     NaN   NaN     NaN     NaN  \n",
              "onlinebackup            NaN    NaN     NaN   NaN     NaN     NaN  \n",
              "deviceprotection        NaN    NaN     NaN   NaN     NaN     NaN  \n",
              "techsupport             NaN    NaN     NaN   NaN     NaN     NaN  \n",
              "streamingtv             NaN    NaN     NaN   NaN     NaN     NaN  \n",
              "streamingmovies         NaN    NaN     NaN   NaN     NaN     NaN  \n",
              "contract                NaN    NaN     NaN   NaN     NaN     NaN  \n",
              "paperlessbilling   0.491265    0.0     0.0   1.0     1.0     1.0  \n",
              "paymentmethod           NaN    NaN     NaN   NaN     NaN     NaN  \n",
              "charges_monthly   30.129572  18.25  35.425  70.3  89.875  118.75  \n",
              "charges_total           NaN    NaN     NaN   NaN     NaN     NaN  "
            ]
          },
          "execution_count": 24,
          "metadata": {},
          "output_type": "execute_result"
        }
      ],
      "source": [
        "#Analisis Descriptivo\n",
        "df.describe(include='all').transpose()"
      ]
    },
    {
      "cell_type": "code",
      "execution_count": 25,
      "metadata": {
        "colab": {
          "base_uri": "https://localhost:8080/"
        },
        "id": "zIPdhsgshaeS",
        "outputId": "dfad3bcf-ed3c-4881-8ce0-ead39d1c4699"
      },
      "outputs": [
        {
          "name": "stdout",
          "output_type": "stream",
          "text": [
            "Total de registros: 7267\n",
            "Total de columnas: 21\n",
            "<class 'pandas.core.frame.DataFrame'>\n",
            "RangeIndex: 7267 entries, 0 to 7266\n",
            "Data columns (total 21 columns):\n",
            " #   Column            Non-Null Count  Dtype  \n",
            "---  ------            --------------  -----  \n",
            " 0   customerid        7267 non-null   object \n",
            " 1   churn             7267 non-null   object \n",
            " 2   gender            7267 non-null   object \n",
            " 3   seniorcitizen     7267 non-null   int64  \n",
            " 4   partner           7267 non-null   int64  \n",
            " 5   dependents        7267 non-null   int64  \n",
            " 6   tenure            7267 non-null   int64  \n",
            " 7   phoneservice      7267 non-null   int64  \n",
            " 8   multiplelines     7267 non-null   object \n",
            " 9   internetservice   7267 non-null   object \n",
            " 10  onlinesecurity    7267 non-null   object \n",
            " 11  onlinebackup      7267 non-null   object \n",
            " 12  deviceprotection  7267 non-null   object \n",
            " 13  techsupport       7267 non-null   object \n",
            " 14  streamingtv       7267 non-null   object \n",
            " 15  streamingmovies   7267 non-null   object \n",
            " 16  contract          7267 non-null   object \n",
            " 17  paperlessbilling  7267 non-null   int64  \n",
            " 18  paymentmethod     7267 non-null   object \n",
            " 19  charges_monthly   7267 non-null   float64\n",
            " 20  charges_total     7267 non-null   object \n",
            "dtypes: float64(1), int64(6), object(14)\n",
            "memory usage: 1.2+ MB\n"
          ]
        }
      ],
      "source": [
        "print(f\"Total de registros: {df.shape[0]}\")\n",
        "print(f\"Total de columnas: {df.shape[1]}\")\n",
        "df.info()"
      ]
    },
    {
      "cell_type": "code",
      "execution_count": 27,
      "metadata": {
        "colab": {
          "base_uri": "https://localhost:8080/",
          "height": 593
        },
        "id": "PLpWmCyQhecC",
        "outputId": "662090ac-5374-4e16-e9b8-6ece4bf669d1"
      },
      "outputs": [
        {
          "name": "stderr",
          "output_type": "stream",
          "text": [
            "C:\\Users\\DIEGO\\AppData\\Local\\Temp\\ipykernel_13304\\1336539554.py:4: FutureWarning: \n",
            "\n",
            "Passing `palette` without assigning `hue` is deprecated and will be removed in v0.14.0. Assign the `x` variable to `hue` and set `legend=False` for the same effect.\n",
            "\n",
            "  sns.countplot(x='churn', data=df, palette='Set2')\n"
          ]
        },
        {
          "data": {
            "image/png": "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",
            "text/plain": [
              "<Figure size 640x480 with 1 Axes>"
            ]
          },
          "metadata": {},
          "output_type": "display_data"
        }
      ],
      "source": [
        "import seaborn as sns\n",
        "import matplotlib.pyplot as plt\n",
        "\n",
        "sns.countplot(x='churn', data=df, palette='Set2')\n",
        "plt.title('Distribución de Evasión (Churn)')\n",
        "plt.xlabel('¿Cliente Evadido?')\n",
        "plt.ylabel('Cantidad')\n",
        "plt.show()"
      ]
    },
    {
      "cell_type": "code",
      "execution_count": null,
      "metadata": {
        "colab": {
          "base_uri": "https://localhost:8080/",
          "height": 209
        },
        "id": "T3GqDIkYhkK_",
        "outputId": "7f2e4f65-db3e-471c-9764-3377197223c3"
      },
      "outputs": [
        {
          "data": {
            "text/html": [
              "<div>\n",
              "<style scoped>\n",
              "    .dataframe tbody tr th:only-of-type {\n",
              "        vertical-align: middle;\n",
              "    }\n",
              "\n",
              "    .dataframe tbody tr th {\n",
              "        vertical-align: top;\n",
              "    }\n",
              "\n",
              "    .dataframe thead th {\n",
              "        text-align: right;\n",
              "    }\n",
              "</style>\n",
              "<table border=\"1\" class=\"dataframe\">\n",
              "  <thead>\n",
              "    <tr style=\"text-align: right;\">\n",
              "      <th></th>\n",
              "      <th>proportion</th>\n",
              "    </tr>\n",
              "    <tr>\n",
              "      <th>churn</th>\n",
              "      <th></th>\n",
              "    </tr>\n",
              "  </thead>\n",
              "  <tbody>\n",
              "    <tr>\n",
              "      <th>0</th>\n",
              "      <td>71.198569</td>\n",
              "    </tr>\n",
              "    <tr>\n",
              "      <th>1</th>\n",
              "      <td>25.719004</td>\n",
              "    </tr>\n",
              "    <tr>\n",
              "      <th></th>\n",
              "      <td>3.082427</td>\n",
              "    </tr>\n",
              "  </tbody>\n",
              "</table>\n",
              "</div><br><label><b>dtype:</b> float64</label>"
            ],
            "text/plain": [
              "churn\n",
              "0    71.198569\n",
              "1    25.719004\n",
              "      3.082427\n",
              "Name: proportion, dtype: float64"
            ]
          },
          "execution_count": 83,
          "metadata": {},
          "output_type": "execute_result"
        }
      ],
      "source": [
        "df['churn'].value_counts(normalize=True) * 100"
      ]
    },
    {
      "cell_type": "code",
      "execution_count": null,
      "metadata": {
        "colab": {
          "base_uri": "https://localhost:8080/"
        },
        "id": "KCwhwDBchwDj",
        "outputId": "aaa0f5cd-61fd-46ca-cd9e-2ff0e49faaab"
      },
      "outputs": [
        {
          "name": "stdout",
          "output_type": "stream",
          "text": [
            "\n",
            ">> Evasión según: customerid\n",
            "churn         0    1     \n",
            "customerid               \n",
            "0002-orfbo  1.0  0.0  0.0\n",
            "0003-mknfe  1.0  0.0  0.0\n",
            "0004-tlhlj  0.0  1.0  0.0\n",
            "0011-igkff  0.0  1.0  0.0\n",
            "0013-exchz  0.0  1.0  0.0\n",
            "...         ...  ...  ...\n",
            "9987-lutyd  1.0  0.0  0.0\n",
            "9992-rramn  0.0  1.0  0.0\n",
            "9992-ujoel  1.0  0.0  0.0\n",
            "9993-lhieb  1.0  0.0  0.0\n",
            "9995-hotoh  1.0  0.0  0.0\n",
            "\n",
            "[7267 rows x 3 columns]\n",
            "\n",
            ">> Evasión según: churn\n",
            "churn    0    1     \n",
            "churn               \n",
            "0      1.0  0.0  0.0\n",
            "1      0.0  1.0  0.0\n",
            "       0.0  0.0  1.0\n",
            "\n",
            ">> Evasión según: gender\n",
            "churn      0     1      \n",
            "gender                  \n",
            "female  0.71  0.26  0.03\n",
            "male    0.71  0.25  0.03\n",
            "\n",
            ">> Evasión según: multiplelines\n",
            "churn                0     1      \n",
            "multiplelines                     \n",
            "0                 0.73  0.24  0.03\n",
            "1                 0.69  0.28  0.03\n",
            "no phone service  0.72  0.24  0.04\n",
            "\n",
            ">> Evasión según: internetservice\n",
            "churn               0     1      \n",
            "internetservice                  \n",
            "0                0.89  0.07  0.03\n",
            "dsl              0.79  0.18  0.03\n",
            "fiber optic      0.56  0.41  0.03\n",
            "\n",
            ">> Evasión según: onlinesecurity\n",
            "churn                   0     1      \n",
            "onlinesecurity                       \n",
            "0                    0.56  0.40  0.03\n",
            "1                    0.83  0.14  0.03\n",
            "no internet service  0.89  0.07  0.03\n",
            "\n",
            ">> Evasión según: onlinebackup\n",
            "churn                   0     1      \n",
            "onlinebackup                         \n",
            "0                    0.58  0.39  0.03\n",
            "1                    0.76  0.21  0.03\n",
            "no internet service  0.89  0.07  0.03\n",
            "\n",
            ">> Evasión según: deviceprotection\n",
            "churn                   0     1      \n",
            "deviceprotection                     \n",
            "0                    0.59  0.38  0.03\n",
            "1                    0.75  0.22  0.03\n",
            "no internet service  0.89  0.07  0.03\n",
            "\n",
            ">> Evasión según: techsupport\n",
            "churn                   0     1      \n",
            "techsupport                          \n",
            "0                    0.57  0.40  0.03\n",
            "1                    0.82  0.15  0.03\n",
            "no internet service  0.89  0.07  0.03\n",
            "\n",
            ">> Evasión según: streamingtv\n",
            "churn                   0     1      \n",
            "streamingtv                          \n",
            "0                    0.65  0.33  0.03\n",
            "1                    0.68  0.29  0.03\n",
            "no internet service  0.89  0.07  0.03\n",
            "\n",
            ">> Evasión según: streamingmovies\n",
            "churn                   0     1      \n",
            "streamingmovies                      \n",
            "0                    0.64  0.33  0.03\n",
            "1                    0.68  0.29  0.03\n",
            "no internet service  0.89  0.07  0.03\n",
            "\n",
            ">> Evasión según: contract\n",
            "churn              0     1      \n",
            "contract                        \n",
            "month-to-month  0.55  0.41  0.03\n",
            "one year        0.86  0.11  0.03\n",
            "two year        0.94  0.03  0.03\n",
            "\n",
            ">> Evasión según: paymentmethod\n",
            "churn                         0     1      \n",
            "paymentmethod                              \n",
            "bank transfer (automatic)  0.81  0.16  0.03\n",
            "credit card (automatic)    0.82  0.15  0.03\n",
            "electronic check           0.53  0.44  0.03\n",
            "mailed check               0.78  0.18  0.03\n",
            "\n",
            ">> Evasión según: charges_total\n",
            "churn            0    1     \n",
            "charges_total               \n",
            "               1.0  0.0  0.0\n",
            "100.2          1.0  0.0  0.0\n",
            "100.25         0.0  1.0  0.0\n",
            "100.35         1.0  0.0  0.0\n",
            "100.4          0.0  1.0  0.0\n",
            "...            ...  ...  ...\n",
            "997.75         1.0  0.0  0.0\n",
            "998.1          1.0  0.0  0.0\n",
            "999.45         0.0  0.5  0.5\n",
            "999.8          1.0  0.0  0.0\n",
            "999.9          1.0  0.0  0.0\n",
            "\n",
            "[6531 rows x 3 columns]\n"
          ]
        }
      ],
      "source": [
        "# Recuento por variables categoricas\n",
        "categoricas = df.select_dtypes(include='object').columns.tolist()\n",
        "\n",
        "for col in categoricas:\n",
        "    print(f'\\n>> Evasión según: {col}')\n",
        "    print(pd.crosstab(df[col], df['churn'], normalize='index').round(2))"
      ]
    },
    {
      "cell_type": "code",
      "execution_count": null,
      "metadata": {
        "colab": {
          "base_uri": "https://localhost:8080/",
          "height": 472
        },
        "id": "u3tooEySh5Sg",
        "outputId": "bb339109-4df7-4ebc-fe84-b0f78a724703"
      },
      "outputs": [
        {
          "data": {
            "image/png": "iVBORw0KGgoAAAANSUhEUgAAAkQAAAHHCAYAAABeLEexAAAAOnRFWHRTb2Z0d2FyZQBNYXRwbG90bGliIHZlcnNpb24zLjEwLjAsIGh0dHBzOi8vbWF0cGxvdGxpYi5vcmcvlHJYcgAAAAlwSFlzAAAPYQAAD2EBqD+naQAAQ8dJREFUeJzt3XlcVdXex/HvAeEwCDgxpoKiKTiWluFcWmimedPS9Coa2uSQ4vTYvc6VZYN6zep6K7TSpznrOqBGDoVjFlbOGqalKJqIaIrCev7oxXk8AQ4IHnR/3q/XeeVee521f3uzw697r3O2zRhjBAAAYGFuri4AAADA1QhEAADA8ghEAADA8ghEAADA8ghEAADA8ghEAADA8ghEAADA8ghEAADA8ghEAFwmKSlJzz33nP744w9XlwLA4ghEQAmx2WwaPHiwq8u4bmzdulXdu3dX1apV5e3t7ZIabDabJk6c6JJtF6Zfv36KiIhwdRmAJRGIgEvYu3evHnvsMdWsWVNeXl7y9/dXixYtNHPmTK5sFNOpU6f04IMP6umnn1bfvn1LbNy5c+fKZrNd8mW10JGamqq///3vqlatmux2uypVqqT27dsrMTFRubm5pbbdtWvXauLEicrMzCyV8Z977jktXLiwVMaG9ZRzdQFAWbZ48WI9+OCDstvt6tu3r+rXr6+cnBx98803GjVqlLZu3ao5c+a4uszrzpYtWzR06FA9/vjjJTpu69at9e677zq1DRgwQLfffrseffRRR1v58uUlSX/88YfKlbuxfw2++eabevzxxxUcHKw+ffqodu3aOnnypJKTkxUfH69Dhw7p6aefLpVtr127VpMmTVK/fv1UoUKFEh//ueeeU/fu3dW1a9cSHxvWc2P/JgCuQlpamnr27Knw8HB99dVXCg0NdawbNGiQ9uzZo8WLF1/TmvLy8pSTkyMvL69rut2S1rx5czVv3rzEx61Zs6Zq1qzp1Pb444+rZs2a+vvf/16g//V+HC9l/fr1evzxxxUTE6MlS5bIz8/PsW7YsGH69ttv9dNPP7mwwv93o5zbuH5xywwowrRp05Sdna233nrLKQzlq1Wrlp566qkC7QsXLlT9+vVlt9tVr149JSUlOa0vap7IxIkTZbPZnNry5yXNnz9f9erVk91uV1JSkuPWUEpKihISEhQYGChfX1/97W9/U0ZGxiX3LT09Xf3791fVqlVlt9sVGhqq+++/X/v27XPqt3TpUrVq1Uq+vr7y8/NTp06dtHXr1gLjffTRR4qOjpaXl5fq16+vzz77rMB+rlq1SjabTatWrXJ67759+2Sz2TR37lynY1S+fHn99ttv6tq1q8qXL6/AwECNHDmyRG/x/HUOUf7PYMeOHXrooYfk7++vypUr66mnntKZM2ec3nv+/HlNmTJFkZGRstvtioiI0NNPP62zZ89e1rbzz5MLj1lh8vLyNGPGDNWrV09eXl4KDg7WY489puPHj19yG5MmTZLNZtP8+fOdwlC+pk2bql+/fo7lU6dOacSIEY5ba3Xq1NFLL70kY4zT+/LPy4ud6xMnTtSoUaMkSTVq1HDcrsw/x4o6tyXppZdeUvPmzVW5cmV5e3urSZMm+vjjjwvUcOrUKc2bN88x9oX78v3336tjx47y9/dX+fLl1a5dO61fv/6SxwzWxRUioAj//e9/VbNmzSu6kvHNN9/o008/1ZNPPik/Pz/961//Urdu3bR//35Vrly5WHV89dVX+vDDDzV48GBVqVJFERERSk1NlSQNGTJEFStW1IQJE7Rv3z7NmDFDgwcP1gcffHDRMbt166atW7dqyJAhioiI0JEjR7RixQrt37/fEWLeffddxcXFKTY2Vi+88IJOnz6t119/XS1bttT333/v6Ld48WL16NFDDRo00NSpU3X8+HHFx8frpptuKtb+5svNzVVsbKyaNWuml156SV9++aVefvllRUZG6oknnriqsS/loYceUkREhKZOnar169frX//6l44fP6533nnH0WfAgAGaN2+eunfvrhEjRmjDhg2aOnWqtm/fXmS4ybd8+XJ169ZN0dHRmjp1qo4dO+YIqH/12GOPae7cuerfv7+GDh2qtLQ0vfrqq/r++++VkpIiDw+PQrdx+vRpJScnq3Xr1qpevfol99kYoy5dumjlypWKj49X48aNtWzZMo0aNUq//fabpk+f7tT/Uuf6Aw88oF27dul///d/NX36dFWpUkWSFBgY6BijsHNbkmbOnKkuXbqod+/eysnJ0fvvv68HH3xQixYtUqdOnST9eX7+9XZoZGSkpD8n7Ldq1Ur+/v4aPXq0PDw89O9//1tt27bV6tWr1axZs0seD1iQAVDAiRMnjCRz//33X/Z7JBlPT0+zZ88eR9uWLVuMJDNr1ixHW1xcnAkPDy/w/gkTJpi//i8pybi5uZmtW7c6tScmJhpJpn379iYvL8/RPnz4cOPu7m4yMzOLrPP48eNGknnxxReL7HPy5ElToUIFM3DgQKf29PR0ExAQ4NTeoEEDU7VqVXPy5ElH26pVq4wkp/1cuXKlkWRWrlzpNGZaWpqRZBITEx1tcXFxRpKZPHmyU99bbrnFNGnSpMi6C+Pr62vi4uIKXSfJTJgwwbGc/zPo0qWLU78nn3zSSDJbtmwxxhiTmppqJJkBAwY49Rs5cqSRZL766quL1tS4cWMTGhrq9HNavnx5gWP29ddfG0lm/vz5Tu9PSkoqtP1C+efeU089ddFa8i1cuNBIMs8884xTe/fu3Y3NZnM6ry/3XH/xxReNJJOWllZge0Wd28YYc/r0aaflnJwcU79+fXPXXXc5tRf1s+3atavx9PQ0e/fudbQdPHjQ+Pn5mdatWxd+AGB53DIDCpGVlSVJhd5muJj27ds7/pUqSQ0bNpS/v79+/vnnYtfSpk0bRUdHF7ru0UcfdbrN1qpVK+Xm5uqXX34pcjxvb295enpq1apVRd52WbFihTIzM/Xwww/r6NGjjpe7u7uaNWumlStXSpIOHjyoH3/8UX379nVMVM6vuUGDBsXZXSd/nXTdqlWrqzqWl2vQoEFOy0OGDJEkLVmyxOm/CQkJTv1GjBghSRedW3bo0CGlpqYqLi5OAQEBjva77767wM/5o48+UkBAgO6++26nn0OTJk1Uvnx5x8+hMFd6Di9ZskTu7u4aOnRogX0yxmjp0qVO7SVxrhd1bl/4NQzHjx/XiRMn1KpVK3333XeXHDM3N1fLly9X165dneaThYaGqlevXvrmm28cxwa4ELfMgEL4+/tLkk6ePHlF7yvs1kTFihUva75HUWrUqHHZ26tYsaIkXXR7drtdL7zwgkaMGKHg4GDdcccduu+++9S3b1+FhIRIknbv3i1JuuuuuwodI//45AevWrVqFehTq1aty/oLrCheXl5Ot1ekqz+Wl6t27dpOy5GRkXJzc3PMf/nll1/k5uZWYL9DQkJUoUKFiwbS/HV/3YYk1alTx+mY7d69WydOnFBQUFChYx05cqTI7VzpOfzLL78oLCysQICKiopyqjtfSZzrRZ3bixYt0jPPPKPU1FSnOVl/nWNXmIyMDJ0+fVp16tQpsC4qKkp5eXk6cOCA6tWrd9l1whoIREAh/P39FRYWdsWfwHF3dy+03VwwKbWoX+pFTRa+2JcWXs72CjNs2DB17txZCxcu1LJlyzRu3DhNnTpVX331lW655Rbl5eVJ+nOeRn5IulBxPqp+pftd1L65QlG1X85f0FcjLy9PQUFBmj9/fqHr/xoYL1SrVi2VK1dOP/74Y6nUVtxz70KFndtff/21unTpotatW+u1115TaGioPDw8lJiYqAULFhS7XuBSCERAEe677z7NmTNH69atU0xMTImNW7FixUK/qO5iVxVKQ2RkpEaMGKERI0Zo9+7daty4sV5++WW99957jlshQUFBat++fZFjhIeHS5L27NlTYN1f2/KvXv1136/1fl+O3bt3O1292LNnj/Ly8hyTfsPDw5WXl6fdu3c7rqBI0uHDh5WZmek4LoXJX5d/Fe5CO3fudFqOjIzUl19+qRYtWlzxt3n7+Pjorrvu0ldffaUDBw6oWrVqF+0fHh6uL7/8UidPnnS6SrRjxw6nuq9EcQLjJ598Ii8vLy1btkx2u93RnpiYeFnjBwYGysfHp8CxlP7cFzc3t0seC1gTc4iAIowePVq+vr4aMGCADh8+XGD93r17NXPmzCseNzIyUidOnNAPP/zgaDt06NAlP5lUUk6fPl3gI+SRkZHy8/Nz3J6IjY2Vv7+/nnvuOZ07d67AGPkf7Q8LC1P9+vX1zjvvKDs727F+9erVBa5MhIeHy93dXWvWrHFqf+2110pkv0rS7NmznZZnzZolSerYsaMk6d5775UkzZgxw6nfK6+8IkmOT0IVJjQ0VI0bN9a8efN04sQJR/uKFSu0bds2p74PPfSQcnNzNWXKlALjnD9//pLfAD1hwgQZY9SnTx+nn0++zZs3a968eY59ys3N1auvvurUZ/r06bLZbI59vxK+vr6SCobgi3F3d5fNZnO6crhv375Cv5Ha19e3wNju7u6655579Pnnnzt9jcThw4e1YMECtWzZ0nE7EbgQV4iAIkRGRmrBggXq0aOHoqKinL6peu3atfroo4+cvvfkcvXs2VNjxozR3/72Nw0dOtTxcfabb775qubcXK5du3apXbt2euihhxQdHa1y5crps88+0+HDh9WzZ09Jf94yfP3119WnTx/deuut6tmzpwIDA7V//34tXrxYLVq0cPzF+dxzz+n+++9XixYt1L9/fx0/flyvvvqq6tev7/SXcEBAgB588EHNmjVLNptNkZGRWrRo0UXnwbhKWlqaunTpog4dOmjdunV677331KtXLzVq1EiS1KhRI8XFxWnOnDnKzMxUmzZttHHjRs2bN09du3bVnXfeedHxp06dqk6dOqlly5Z65JFH9Pvvv2vWrFmqV6+e0zFr06aNHnvsMU2dOlWpqam655575OHhod27d+ujjz7SzJkz1b179yK307x5c82ePVtPPvmk6tat6/RN1atWrdIXX3yhZ555RpLUuXNn3XnnnfrHP/6hffv2qVGjRlq+fLk+//xzDRs2zGkC9eVq0qSJJOkf//iHevbsKQ8PD3Xu3NkRlArTqVMnvfLKK+rQoYN69eqlI0eOaPbs2apVq5bTPyLyx//yyy/1yiuvKCwsTDVq1FCzZs30zDPPaMWKFWrZsqWefPJJlStXTv/+97919uxZTZs27Yr3Axbh0s+4AdeBXbt2mYEDB5qIiAjj6elp/Pz8TIsWLcysWbPMmTNnHP0kmUGDBhV4f3h4eIGPBi9fvtzUr1/feHp6mjp16pj33nuvyI/dFzZm/sfuN23a5NRe1EfbL3T06FEzaNAgU7duXePr62sCAgJMs2bNzIcfflig78qVK01sbKwJCAgwXl5eJjIy0vTr1898++23Tv3ef/99U7duXWO32039+vXNF198Ybp162bq1q3r1C8jI8N069bN+Pj4mIoVK5rHHnvM/PTTT4V+7N7X17dAPYUdo0spzsfut23bZrp37278/PxMxYoVzeDBg80ff/zh9N5z586ZSZMmmRo1ahgPDw9TrVo1M3bsWKdz4mI++eQTExUVZex2u4mOjjaffvppkV/JMGfOHNOkSRPj7e1t/Pz8TIMGDczo0aPNwYMHL2tbmzdvNr169TJhYWHGw8PDVKxY0bRr187MmzfP5ObmOvqdPHnSDB8+3NGvdu3a5sUXX3T6aof843a55/qUKVPMTTfdZNzc3Jw+gl/UGMYY89Zbb5natWsbu91u6tataxITEwv92e/YscO0bt3aeHt7G0lO2/7uu+9MbGysKV++vPHx8TF33nmnWbt27WUdL1iTzZgrmAEHAJepcePGCgwM1IoVK1xdymWbOHGiJk2apIyMDMcXCQKwBuYQAbgq586d0/nz553aVq1apS1btqht27auKQoArhBziABcld9++03t27fX3//+d4WFhWnHjh164403FBISUuJPsweA0kIgAnBVKlasqCZNmujNN99URkaGfH191alTJz3//PPFfn4bAFxrzCECAACWxxwiAABgeQQiAABgecwhugx5eXk6ePCg/Pz8Sv3ZRQAAoGQYY3Ty5EmFhYXJze3i14AIRJfh4MGDPPsGAIDr1IEDB1S1atWL9iEQXYb8Bx0eOHCAZ+AAAHCdyMrKUrVq1ZweWFwUAtFlyL9N5u/vTyACAOA6cznTXZhUDQAALI9ABAAALI9ABAAALI85RAAA3MDy8vKUk5Pj6jJKjaen5yU/Un85CEQAANygcnJylJaWpry8PFeXUmrc3NxUo0YNeXp6XtU4BCIAAG5AxhgdOnRI7u7uqlatWolcRSlr8r84+dChQ6pevfpVfXkygQgAgBvQ+fPndfr0aYWFhcnHx8fV5ZSawMBAHTx4UOfPn5eHh0exx7nx4iIAAFBubq4kXfWtpLIuf//y97e4CEQAANzAbvRncJbU/hGIAACA5RGIAABAkfbt2yebzabU1FRXl1KqCEQAAMDyCEQAAOCaK2tfFkkgAgAAysvL07Rp01SrVi3Z7XZVr15dzz77rGP9zz//rDvvvFM+Pj5q1KiR1q1b51g3ceJENW7c2Gm8GTNmKCIiwrHcr18/de3aVc8++6zCwsJUp04dx+24Tz/9tMixrxUCEQAA0NixY/X8889r3Lhx2rZtmxYsWKDg4GDH+n/84x8aOXKkUlNTdfPNN+vhhx/W+fPnr2gbycnJ2rlzp1asWKFFixaV6NhXiy9mBCzs440Zri7hinS/PdDVJQA3pJMnT2rmzJl69dVXFRcXJ0mKjIxUy5YttW/fPknSyJEj1alTJ0nSpEmTVK9ePe3Zs0d169a97O34+vrqzTffdHx3UEmOfbW4QgQAgMVt375dZ8+eVbt27Yrs07BhQ8efQ0NDJUlHjhy5ou00aNCg0C+KLImxrxaBCAAAi/P29r5knwsfi5H/ZYj5D411c3OTMcap/7lz5wqM4evre8VjXysEIgAALK527dry9vZWcnJysd4fGBio9PR0p1B0vX1vEXOIAACwOC8vL40ZM0ajR4+Wp6enWrRooYyMDG3duvWit9HytW3bVhkZGZo2bZq6d++upKQkLV26VP7+/teg+pLBFSIAAKBx48ZpxIgRGj9+vKKiotSjR4/LnscTFRWl1157TbNnz1ajRo20ceNGjRw5spQrLlk289ebfiggKytLAQEBOnHixHWVdoFL4VNmwI3rzJkzSktLU40aNeTl5eXqckrNxfbzSv7+5goRAACwPAIRAACwPAIRAACwPAIRAACwPAIRAACwPAIRAACwPAIRAACwPAIRAACwPAIRAACwPAIRAACwPB7uCgCAhVzrR/YU95E7s2fP1osvvqj09HQ1atRIs2bN0u23317C1f0/rhABAIAy5YMPPlBCQoImTJig7777To0aNVJsbOxlP2y2OAhEAACgTHnllVc0cOBA9e/fX9HR0XrjjTfk4+Ojt99+u9S2SSACAABlRk5OjjZv3qz27ds72tzc3NS+fXutW7eu1LZLIAIAAGXG0aNHlZubq+DgYKf24OBgpaenl9p2CUQAAMDyCEQAAKDMqFKlitzd3XX48GGn9sOHDyskJKTUtksgAgAAZYanp6eaNGmi5ORkR1teXp6Sk5MVExNTatvle4gAAECZkpCQoLi4ODVt2lS33367ZsyYoVOnTql///6ltk0CEQAAKFN69OihjIwMjR8/Xunp6WrcuLGSkpIKTLQuSQQiAAAspLjfHH2tDR48WIMHD75m22MOEQAAsDwCEQAAsDwCEQAAsDyXBqKpU6fqtttuk5+fn4KCgtS1a1ft3LnTqc+ZM2c0aNAgVa5cWeXLl1e3bt0KfDfB/v371alTJ/n4+CgoKEijRo3S+fPnnfqsWrVKt956q+x2u2rVqqW5c+eW9u4BAIDrhEsD0erVqzVo0CCtX79eK1as0Llz53TPPffo1KlTjj7Dhw/Xf//7X3300UdavXq1Dh48qAceeMCxPjc3V506dVJOTo7Wrl2refPmae7cuRo/fryjT1pamjp16qQ777xTqampGjZsmAYMGKBly5Zd0/0FAABlk80YY1xdRL6MjAwFBQVp9erVat26tU6cOKHAwEAtWLBA3bt3lyTt2LFDUVFRWrdune644w4tXbpU9913nw4ePOj4ON4bb7yhMWPGKCMjQ56enhozZowWL16sn376ybGtnj17KjMzU0lJSZesKysrSwEBATpx4oT8/f1LZ+cBF/h4Y4arS7gi18unY4Cy4MyZM0pLS1ONGjXk5eXl6nJKzcX280r+/i5Tc4hOnDghSapUqZIkafPmzTp37pzTE2/r1q2r6tWrO554u27dOjVo0MDpuwliY2OVlZWlrVu3OvpcOEZ+n6Kemnv27FllZWU5vQAAwI2rzASivLw8DRs2TC1atFD9+vUlSenp6fL09FSFChWc+l74xNv09PRCn4ibv+5ifbKysvTHH38UqGXq1KkKCAhwvKpVq1Yi+wgAAMqmMhOIBg0apJ9++knvv/++q0vR2LFjdeLECcfrwIEDri4JAACUojLxTdWDBw/WokWLtGbNGlWtWtXRHhISopycHGVmZjpdJbrwibchISHauHGj03j5n0K7sE9hT8319/eXt7d3gXrsdrvsdnuJ7BsAACj7XBqIjDEaMmSIPvvsM61atUo1atRwWt+kSRN5eHgoOTlZ3bp1kyTt3LlT+/fvdzzxNiYmRs8++6yOHDmioKAgSdKKFSvk7++v6OhoR58lS5Y4jb1ixYpSfWouAABlUWbSrGu6vQodhlzxe9asWaMXX3xRmzdv1qFDh/TZZ5+pa9euJV/cBVx6y2zQoEF67733tGDBAvn5+Sk9PV3p6emOeT0BAQGKj49XQkKCVq5cqc2bN6t///6KiYnRHXfcIUm65557FB0drT59+mjLli1atmyZ/vnPf2rQoEGOqzyPP/64fv75Z40ePVo7duzQa6+9pg8//FDDhw932b4DAIDCnTp1So0aNdLs2bOv2TZdeoXo9ddflyS1bdvWqT0xMVH9+vWTJE2fPl1ubm7q1q2bzp49q9jYWL322muOvu7u7lq0aJGeeOIJxcTEyNfXV3FxcZo8ebKjT40aNbR48WINHz5cM2fOVNWqVfXmm28qNja21PcRAABcmY4dO6pjx47XdJsuv2V2KV5eXpo9e/ZFU2J4eHiBW2J/1bZtW33//fdXXCMAALjxlZlPmQEAALgKgQgAAFgegQgAAFgegQgAAFhemfhiRgAAgHzZ2dnas2ePYzktLU2pqamqVKmSqlevXirbJBABAIAy5dtvv9Wdd97pWE5ISJAkxcXFae7cuaWyTQIRAAAWUpxvjr7W2rZte1lfzVOSmEMEAAAsj0AEAAAsj0AEAAAsj0AEAAAsj0AEAMAN7FpPTr7WSmr/CEQAANyA3N3dJUk5OTkurqR05e9f/v4WFx+7BwDgBlSuXDn5+PgoIyNDHh4ecnO78a6B5OXlKSMjQz4+PipX7uoiDYEIAIAbkM1mU2hoqNLS0vTLL7+4upxS4+bmpurVq8tms13VOAQiAABuUJ6enqpdu/YNfdvM09OzRK5+EYgAALiBubm5ycvLy9VllHk33g1FAACAK0QgAgAAlkcgAgAAlkcgAgAAlkcgAgAAlkcgAgAAlkcgAgAAlkcgAgAAlkcgAgAAlkcgAgAAlkcgAgAAlkcgAgAAlkcgAgAAlkcgAgAAlkcgAgAAlkcgAgAAlkcgAgAAlkcgAgAAlkcgAgAAlkcgAgAAlkcgAgAAlkcgAgAAlkcgAgAAlkcgAgAAlkcgAgAAlkcgAgAAlkcgAgAAlkcgAgAAlkcgAgAAlkcgAgAAllfO1QUAwOXKTJrl6hKuSIUOQ1xdAoDLxBUiAABgeVwhAgCUKR9vzHB1CVek++2Bri4BJYArRAAAwPIIRAAAwPIIRAAAwPIIRAAAwPIIRAAAwPIIRAAAwPIIRAAAwPIIRAAAwPIIRAAAwPIIRAAAwPIIRAAAwPIIRAAAwPIIRAAAwPIIRAAAwPIIRAAAwPIIRAAAwPIIRAAAwPIIRAAAwPJcGojWrFmjzp07KywsTDabTQsXLnRa369fP9lsNqdXhw4dnPr8/vvv6t27t/z9/VWhQgXFx8crOzvbqc8PP/ygVq1aycvLS9WqVdO0adNKe9cAAMB1xKWB6NSpU2rUqJFmz55dZJ8OHTro0KFDjtf//u//Oq3v3bu3tm7dqhUrVmjRokVas2aNHn30Ucf6rKws3XPPPQoPD9fmzZv14osvauLEiZozZ06p7RcAALi+lHPlxjt27KiOHTtetI/dbldISEih67Zv366kpCRt2rRJTZs2lSTNmjVL9957r1566SWFhYVp/vz5ysnJ0dtvvy1PT0/Vq1dPqampeuWVV5yCEwAAsK4yP4do1apVCgoKUp06dfTEE0/o2LFjjnXr1q1ThQoVHGFIktq3by83Nzdt2LDB0ad169by9PR09ImNjdXOnTt1/PjxQrd59uxZZWVlOb0AAMCNq0wHog4dOuidd95RcnKyXnjhBa1evVodO3ZUbm6uJCk9PV1BQUFO7ylXrpwqVaqk9PR0R5/g4GCnPvnL+X3+aurUqQoICHC8qlWrVtK7BgAAyhCX3jK7lJ49ezr+3KBBAzVs2FCRkZFatWqV2rVrV2rbHTt2rBISEhzLWVlZhCIAAG5gZfoK0V/VrFlTVapU0Z49eyRJISEhOnLkiFOf8+fP6/fff3fMOwoJCdHhw4ed+uQvFzU3yW63y9/f3+kFAABuXNdVIPr111917NgxhYaGSpJiYmKUmZmpzZs3O/p89dVXysvLU7NmzRx91qxZo3Pnzjn6rFixQnXq1FHFihWv7Q4AAIAyyaWBKDs7W6mpqUpNTZUkpaWlKTU1Vfv371d2drZGjRql9evXa9++fUpOTtb999+vWrVqKTY2VpIUFRWlDh06aODAgdq4caNSUlI0ePBg9ezZU2FhYZKkXr16ydPTU/Hx8dq6das++OADzZw50+mWGAAAsDaXBqJvv/1Wt9xyi2655RZJUkJCgm655RaNHz9e7u7u+uGHH9SlSxfdfPPNio+PV5MmTfT111/Lbrc7xpg/f77q1q2rdu3a6d5771XLli2dvmMoICBAy5cvV1pampo0aaIRI0Zo/PjxfOQeAAA4uHRSddu2bWWMKXL9smXLLjlGpUqVtGDBgov2adiwob7++usrrg8AAFjDdTWHCAAAoDQQiAAAgOURiAAAgOURiAAAgOURiAAAgOURiAAAgOURiAAAgOURiAAAgOURiAAAgOURiAAAgOURiAAAgOURiAAAgOURiAAAgOURiAAAgOURiAAAgOURiAAAgOURiAAAgOURiAAAgOURiAAAgOURiAAAgOURiAAAgOURiAAAgOURiAAAgOWVc3UBVvLxxgxXl3BFut8e6OoSAAC4JrhCBAAALI9ABAAALI9ABAAALI9ABAAALI9ABAAALK9Ygeiuu+5SZmZmgfasrCzdddddV1sTAADANVWsQLRq1Srl5OQUaD9z5oy+/vrrqy4KAADgWrqi7yH64YcfHH/etm2b0tPTHcu5ublKSkrSTTfdVHLVAQAAXANXFIgaN24sm80mm81W6K0xb29vzZo1q8SKAwAAuBauKBClpaXJGKOaNWtq48aNCgz8/28y9vT0VFBQkNzd3Uu8SAAAgNJ0RYEoPDxckpSXl1cqxQAAALhCsZ9ltnv3bq1cuVJHjhwpEJDGjx9/1YUBAABcK8UKRP/5z3/0xBNPqEqVKgoJCZHNZnOss9lsBCIAAHBdKVYgeuaZZ/Tss89qzJgxJV0PAADANVes7yE6fvy4HnzwwZKuBQAAwCWKFYgefPBBLV++vKRrAQAAcIli3TKrVauWxo0bp/Xr16tBgwby8PBwWj906NASKQ4AAOBaKFYgmjNnjsqXL6/Vq1dr9erVTutsNhuBCAAAXFeKFYjS0tJKug4AAACXKdYcIgAAgBtJsa4QPfLIIxdd//bbbxerGAAAAFcoViA6fvy40/K5c+f0008/KTMzs9CHvgIAAJRlxQpEn332WYG2vLw8PfHEE4qMjLzqogAAAK6lEptD5ObmpoSEBE2fPr2khgQAALgmSnRS9d69e3X+/PmSHBIAAKDUFeuWWUJCgtOyMUaHDh3S4sWLFRcXVyKFAQAAXCvFCkTff/+907Kbm5sCAwP18ssvX/ITaAAAAGVNsQLRypUrS7oOAAAAlylWIMqXkZGhnTt3SpLq1KmjwMDAEikKAADgWirWpOpTp07pkUceUWhoqFq3bq3WrVsrLCxM8fHxOn36dEnXCAAAUKqKFYgSEhK0evVq/fe//1VmZqYyMzP1+eefa/Xq1RoxYkRJ1wgAAFCqinXL7JNPPtHHH3+stm3bOtruvfdeeXt766GHHtLrr79eUvUBAACUumJdITp9+rSCg4MLtAcFBXHLDAAAXHeKFYhiYmI0YcIEnTlzxtH2xx9/aNKkSYqJiSmx4gAAAK6FYt0ymzFjhjp06KCqVauqUaNGkqQtW7bIbrdr+fLlJVogAABAaStWIGrQoIF2796t+fPna8eOHZKkhx9+WL1795a3t3eJFggAAFDaihWIpk6dquDgYA0cONCp/e2331ZGRobGjBlTIsUBAABcC8WaQ/Tvf/9bdevWLdBer149vfHGG1ddFAAAwLVUrECUnp6u0NDQAu2BgYE6dOjQVRcFAABwLRUrEFWrVk0pKSkF2lNSUhQWFnbVRQEAAFxLxZpDNHDgQA0bNkznzp3TXXfdJUlKTk7W6NGj+aZqAABw3SlWIBo1apSOHTumJ598Ujk5OZIkLy8vjRkzRmPHji3RAgEAAEpbsQKRzWbTCy+8oHHjxmn79u3y9vZW7dq1ZbfbS7o+AACAUlesQJSvfPnyuu2220qqFgAAAJco1qTqkrJmzRp17txZYWFhstlsWrhwodN6Y4zGjx+v0NBQeXt7q3379tq9e7dTn99//129e/eWv7+/KlSooPj4eGVnZzv1+eGHH9SqVSt5eXmpWrVqmjZtWmnvGgAAuI64NBCdOnVKjRo10uzZswtdP23aNP3rX//SG2+8oQ0bNsjX11exsbFOz1Dr3bu3tm7dqhUrVmjRokVas2aNHn30Ucf6rKws3XPPPQoPD9fmzZv14osvauLEiZozZ06p7x8AALg+XNUts6vVsWNHdezYsdB1xhjNmDFD//znP3X//fdLkt555x0FBwdr4cKF6tmzp7Zv366kpCRt2rRJTZs2lSTNmjVL9957r1566SWFhYVp/vz5ysnJ0dtvvy1PT0/Vq1dPqampeuWVV5yCEwAAsC6XXiG6mLS0NKWnp6t9+/aOtoCAADVr1kzr1q2TJK1bt04VKlRwhCFJat++vdzc3LRhwwZHn9atW8vT09PRJzY2Vjt37tTx48cL3fbZs2eVlZXl9AIAADeuMhuI0tPTJUnBwcFO7cHBwY516enpCgoKclpfrlw5VapUyalPYWNcuI2/mjp1qgICAhyvatWqXf0OAQCAMqvMBiJXGjt2rE6cOOF4HThwwNUlAQCAUlRmA1FISIgk6fDhw07thw8fdqwLCQnRkSNHnNafP39ev//+u1Ofwsa4cBt/Zbfb5e/v7/QCAAA3rjIbiGrUqKGQkBAlJyc72rKysrRhwwbFxMRIkmJiYpSZmanNmzc7+nz11VfKy8tTs2bNHH3WrFmjc+fOOfqsWLFCderUUcWKFa/R3gAAgLLMpYEoOztbqampSk1NlfTnROrU1FTt379fNptNw4YN0zPPPKMvvvhCP/74o/r27auwsDB17dpVkhQVFaUOHTpo4MCB2rhxo1JSUjR48GD17NnT8ZDZXr16ydPTU/Hx8dq6das++OADzZw5UwkJCS7aawAAUNa49GP33377re68807Hcn5IiYuL09y5czV69GidOnVKjz76qDIzM9WyZUslJSXJy8vL8Z758+dr8ODBateundzc3NStWzf961//cqwPCAjQ8uXLNWjQIDVp0kRVqlTR+PHj+cg9AABwsBljjKuLKOuysrIUEBCgEydOXNV8oo83ZpRgVaWv++2Bri4Bpex6Oyfb//6+q0u4IhU6DHF1Cdel6+285Hdl2XUlf3+X2TlEAAAA1wqBCAAAWB6BCAAAWB6BCAAAWB6BCAAAWB6BCAAAWB6BCAAAWB6BCAAAWB6BCAAAWB6BCAAAWB6BCAAAWB6BCAAAWB6BCAAAWB6BCAAAWB6BCAAAWB6BCAAAWB6BCAAAWB6BCAAAWB6BCAAAWB6BCAAAWB6BCAAAWB6BCAAAWB6BCAAAWB6BCAAAWB6BCAAAWB6BCAAAWB6BCAAAWB6BCAAAWB6BCAAAWB6BCAAAWB6BCAAAWB6BCAAAWB6BCAAAWB6BCAAAWB6BCAAAWB6BCAAAWB6BCAAAWB6BCAAAWB6BCAAAWB6BCAAAWB6BCAAAWB6BCAAAWB6BCAAAWB6BCAAAWB6BCAAAWB6BCAAAWB6BCAAAWB6BCAAAWB6BCAAAWB6BCAAAWB6BCAAAWB6BCAAAWB6BCAAAWB6BCAAAWB6BCAAAWB6BCAAAWB6BCAAAWB6BCAAAWB6BCAAAWB6BCAAAWB6BCAAAWB6BCAAAWB6BCAAAWB6BCAAAWB6BCAAAWB6BCAAAWB6BCAAAWB6BCAAAWB6BCAAAWF6ZDkQTJ06UzWZzetWtW9ex/syZMxo0aJAqV66s8uXLq1u3bjp8+LDTGPv371enTp3k4+OjoKAgjRo1SufPn7/WuwIAAMqwcq4u4FLq1aunL7/80rFcrtz/lzx8+HAtXrxYH330kQICAjR48GA98MADSklJkSTl5uaqU6dOCgkJ0dq1a3Xo0CH17dtXHh4eeu655675vgAAgLKpzAeicuXKKSQkpED7iRMn9NZbb2nBggW66667JEmJiYmKiorS+vXrdccdd2j58uXatm2bvvzySwUHB6tx48aaMmWKxowZo4kTJ8rT07PQbZ49e1Znz551LGdlZZXOzgEAgDKhTN8yk6Tdu3crLCxMNWvWVO/evbV//35J0ubNm3Xu3Dm1b9/e0bdu3bqqXr261q1bJ0lat26dGjRooODgYEef2NhYZWVlaevWrUVuc+rUqQoICHC8qlWrVkp7BwAAyoIyHYiaNWumuXPnKikpSa+//rrS0tLUqlUrnTx5Uunp6fL09FSFChWc3hMcHKz09HRJUnp6ulMYyl+fv64oY8eO1YkTJxyvAwcOlOyOAQCAMqVM3zLr2LGj488NGzZUs2bNFB4erg8//FDe3t6ltl273S673V5q4wMAgLKlTF8h+qsKFSro5ptv1p49exQSEqKcnBxlZmY69Tl8+LBjzlFISEiBT53lLxc2LwkAAFjTdRWIsrOztXfvXoWGhqpJkyby8PBQcnKyY/3OnTu1f/9+xcTESJJiYmL0448/6siRI44+K1askL+/v6Kjo695/QAAoGwq07fMRo4cqc6dOys8PFwHDx7UhAkT5O7urocfflgBAQGKj49XQkKCKlWqJH9/fw0ZMkQxMTG64447JEn33HOPoqOj1adPH02bNk3p6en65z//qUGDBnFLDAAAOJTpQPTrr7/q4Ycf1rFjxxQYGKiWLVtq/fr1CgwMlCRNnz5dbm5u6tatm86ePavY2Fi99tprjve7u7tr0aJFeuKJJxQTEyNfX1/FxcVp8uTJrtolAABQBpXpQPT+++9fdL2Xl5dmz56t2bNnF9knPDxcS5YsKenSAADADeS6mkMEAABQGghEAADA8ghEAADA8ghEAADA8ghEAADA8ghEAADA8ghEAADA8ghEAADA8ghEAADA8ghEAADA8ghEAADA8ghEAADA8ghEAADA8ghEAADA8ghEAADA8ghEAADA8ghEAADA8ghEAADA8ghEAADA8ghEAADA8ghEAADA8ghEAADA8ghEAADA8ghEAADA8ghEAADA8ghEAADA8ghEAADA8ghEAADA8ghEAADA8ghEAADA8ghEAADA8ghEAADA8ghEAADA8ghEAADA8ghEAADA8ghEAADA8ghEAADA8ghEAADA8ghEAADA8ghEAADA8ghEAADA8ghEAADA8ghEAADA8ghEAADA8ghEAADA8sq5ugCUXZlJs1xdwhWp0GGIq0sAAFynuEIEAAAsj0AEAAAsj0AEAAAsj0AEAAAsj0AEAAAsj0+ZAUAp+ffu911dwhV7rHZPV5cAuARXiAAAgOURiAAAgOURiAAAgOURiAAAgOURiAAAgOURiAAAgOURiAAAgOURiAAAgOURiAAAgOURiAAAgOURiAAAgOURiAAAgOXxcFfcMK63B2nyEE3gxpCZNMvVJVyRDyIDXV3CFblWvyu5QgQAACyPQAQAACyPQAQAACzPUoFo9uzZioiIkJeXl5o1a6aNGze6uiQAAFAGWCYQffDBB0pISNCECRP03XffqVGjRoqNjdWRI0dcXRoAAHAxywSiV155RQMHDlT//v0VHR2tN954Qz4+Pnr77bddXRoAAHAxS3zsPicnR5s3b9bYsWMdbW5ubmrfvr3WrVtXoP/Zs2d19uxZx/KJEyckSVlZWVdVx+nsk1f1/mst69Qfri7hivyRfdrVJVyRqz2fSgLnZOm63s5JifOyODgvS9fVnJP57zXGXLKvJQLR0aNHlZubq+DgYKf24OBg7dixo0D/qVOnatKkSQXaq1WrVmo1wnqGK97VJQAFcF6irCmJc/LkyZMKCAi4aB9LBKIrNXbsWCUkJDiW8/Ly9Pvvv6ty5cqy2WwurOz6l5WVpWrVqunAgQPy9/d3dTkA5yTKJM7LkmGM0cmTJxUWFnbJvpYIRFWqVJG7u7sOHz7s1H748GGFhIQU6G+322W3253aKlSoUJolWo6/vz//k6NM4ZxEWcR5efUudWUonyUmVXt6eqpJkyZKTk52tOXl5Sk5OVkxMTEurAwAAJQFlrhCJEkJCQmKi4tT06ZNdfvtt2vGjBk6deqU+vfv7+rSAACAi1kmEPXo0UMZGRkaP3680tPT1bhxYyUlJRWYaI3SZbfbNWHChAK3JAFX4ZxEWcR5ee3ZzOV8Fg0AAOAGZok5RAAAABdDIAIAAJZHIAIAAJZHIAJw3Zk4caIaN27s6jLKFI4JcHUIRADKNJvNpoULF5bIWBEREZoxY0aJjOVKJXlMcGlt27bVsGHDXF0GShmBCJZgjNH58+ddXQYAlGk5OTmuLsFlCEQWdvbsWQ0dOlRBQUHy8vJSy5YttWnTJsf6VatWyWazKTk5WU2bNpWPj4+aN2+unTt3Oo3z+eef69Zbb5WXl5dq1qypSZMmFRk+1qxZIw8PD6Wnpzu1Dxs2TK1atXIsf/PNN2rVqpW8vb1VrVo1DR06VKdOnXKsf/fdd9W0aVP5+fkpJCREvXr10pEjRwrUvnTpUjVp0kR2u13ffPPNVR0vq2vbtq2GDBmiYcOGqWLFigoODtZ//vMfxxec+vn5qVatWlq6dKnjPatXr9btt98uu92u0NBQ/c///I/TudG2bVsNHTpUo0ePVqVKlRQSEqKJEyc61kdEREiS/va3v8lmszmW87377ruKiIhQQECAevbsqZMni35Ketu2bfXLL79o+PDhstlsTs8l/OSTT1SvXj3Z7XZFRETo5ZdfLpXjUdaOCS6tX79+Wr16tWbOnOk4b/bt26emTZvqpZdecvTr2rWrPDw8lJ2dLUn69ddfZbPZtGfPHknS8ePH1bdvX1WsWFE+Pj7q2LGjdu/eXeR2H3nkEd13331ObefOnVNQUJDeeustSX8+cWHq1KmqUaOGvL291ahRI3388ceO/rm5uYqPj3esr1OnjmbOnFlg/7p27apnn31WYWFhqlOnztUdsOuZgWUNHTrUhIWFmSVLlpitW7eauLg4U7FiRXPs2DFjjDErV640kkyzZs3MqlWrzNatW02rVq1M8+bNHWOsWbPG+Pv7m7lz55q9e/ea5cuXm4iICDNx4sQit3vzzTebadOmOZZzcnJMlSpVzNtvv22MMWbPnj3G19fXTJ8+3ezatcukpKSYW265xfTr18/xnrfeesssWbLE7N2716xbt87ExMSYjh07Otbn196wYUOzfPlys2fPHsd+oXjatGlj/Pz8zJQpU8yuXbvMlClTjLu7u+nYsaOZM2eO2bVrl3niiSdM5cqVzalTp8yvv/5qfHx8zJNPPmm2b99uPvvsM1OlShUzYcIEpzH9/f3NxIkTza5du8y8efOMzWYzy5cvN8YYc+TIESPJJCYmmkOHDpkjR44YY4yZMGGCKV++vHnggQfMjz/+aNasWWNCQkLM008/XWT9x44dM1WrVjWTJ082hw4dMocOHTLGGPPtt98aNzc3M3nyZLNz506TmJhovL29TWJiYokeD2NMmTsmuLTMzEwTExNjBg4c6Dhvzp8/bxISEkynTp2MMcbk5eWZSpUqmSpVqpilS5caY4x57733zE033eQYp0uXLiYqKsqsWbPGpKammtjYWFOrVi2Tk5NT6HZTUlKMu7u7OXjwoKPt008/Nb6+vubkyZPGGGOeeeYZU7duXZOUlGT27t1rEhMTjd1uN6tWrTLG/Pm7dfz48WbTpk3m559/Nu+9957x8fExH3zwgWPMuLg4U758edOnTx/z008/mZ9++qlkD+B1hEBkUdnZ2cbDw8PMnz/f0ZaTk2PCwsIcYSU/VHz55ZeOPosXLzaSzB9//GGMMaZdu3bmueeecxr73XffNaGhoUVu+4UXXjBRUVGO5U8++cSUL1/eZGdnG2OMiY+PN48++qjTe77++mvj5ubm2O5fbdq0yUhy/KLIr33hwoWXPBa4PG3atDEtW7Z0LJ8/f974+vqaPn36ONoOHTpkJJl169aZp59+2tSpU8fk5eU51s+ePduUL1/e5ObmFjqmMcbcdtttZsyYMY5lSeazzz5z6jNhwgTj4+NjsrKyHG2jRo0yzZo1u+g+hIeHm+nTpzu19erVy9x9991ObaNGjTLR0dEXHetKj4cxpkweE1xamzZtzFNPPeXU9sUXX5iAgABz/vx5k5qaakJCQsxTTz3l+DkNGDDA9OrVyxhjzK5du4wkk5KS4nj/0aNHjbe3t/nwww+L3G50dLR54YUXHMudO3d2/MPwzJkzxsfHx6xdu9bpPfHx8ebhhx8ucsxBgwaZbt26OZbj4uJMcHCwOXv27CWOwo2PW2YWtXfvXp07d04tWrRwtHl4eOj222/X9u3bnfo2bNjQ8efQ0FBJctye2rJliyZPnqzy5cs7XgMHDtShQ4d0+vTpQrfdr18/7dmzR+vXr5ckzZ07Vw899JB8fX0dY86dO9dpzNjYWOXl5SktLU2StHnzZnXu3FnVq1eXn5+f2rRpI0nav3+/07aaNm1a7GOEgi48F9zd3VW5cmU1aNDA0Zb/KJwjR45o+/btiomJcbo11aJFC2VnZ+vXX38tdEzpz3PswtufRYmIiJCfn1+h75s/f77T+fP1118XOc727dud/j/Ir3P37t3Kzc3V119/7TTW/Pnzi3U88rflqmOCktWqVSudPHlS33//vVavXq02bdqobdu2WrVqlaQ/b422bdtW0p8/93LlyqlZs2aO91euXFl16tQp8Pv2QgMGDFBiYqIk6fDhw1q6dKkeeeQRSdKePXt0+vRp3X333U7n5zvvvKO9e/c6xpg9e7aaNGmiwMBAlS9fXnPmzCnwe7JBgwby9PQsicNyXbPMs8xQfB4eHo4/5/8iz8vLkyRlZ2dr0qRJeuCBBwq8z8vLq9DxgoKC1LlzZyUmJqpGjRpaunSp45dI/piPPfaYhg4dWuC91atX16lTpxQbG6vY2FjNnz9fgYGB2r9/v2JjYwtMCMwPWSgZF54L0p/nw8XOj+KOeTnvv9j7unTp4vSXz0033XTZ9fxV06ZNlZqa6li+8PmHpXE8ihr3ao8JSlaFChXUqFEjrVq1SuvWrdPdd9+t1q1bq0ePHtq1a5d2797t+IdacfXt21f/8z//o3Xr1mnt2rWqUaOGY65l/lylxYsXFzi/859/9v7772vkyJF6+eWXFRMTIz8/P7344ovasGGDU39+T/6JQGRRkZGR8vT0VEpKisLDwyX9OWFv06ZNV/Tx0ltvvVU7d+5UrVq1rmj7AwYM0MMPP6yqVasqMjLS6V/ot956q7Zt21bkmD/++KOOHTum559/XtWqVZMkffvtt1e0fZS+qKgoffLJJzLGOIJBSkqK/Pz8VLVq1csex8PDQ7m5uVe0bT8/P6crJfk8PT0LjBUVFaWUlBSntpSUFN18881yd3eXt7f3FZ/fRXHlMUHxFXbeSFKbNm20cuVKbdy4Uc8++6wqVaqkqKgoPfvsswoNDdXNN98s6c+f+/nz57VhwwY1b95cknTs2DHt3LlT0dHRRW63cuXK6tq1qxITE7Vu3Tr179/fsS46Olp2u1379+8vMnilpKSoefPmevLJJx1tF149gjNumVmUr6+vnnjiCY0aNUpJSUnatm2bBg4cqNOnTys+Pv6yxxk/frzeeecdTZo0SVu3btX27dv1/vvv65///OdF3xcbGyt/f38988wzTv+TS9KYMWO0du1aDR48WKmpqdq9e7c+//xzDR48WNKfV4k8PT01a9Ys/fzzz/riiy80ZcqUKz8IKFVPPvmkDhw4oCFDhmjHjh36/PPPNWHCBCUkJMjN7fJ/9URERCg5OVnp6ek6fvz4VdUUERGhNWvW6LffftPRo0clSSNGjFBycrKmTJmiXbt2ad68eXr11Vc1cuTIq9pWYcriMcGlRUREaMOGDdq3b5+OHj3quOrWtm1bLVu2TOXKlVPdunUdbfPnz3cKKbVr19b999+vgQMH6ptvvtGWLVv097//XTfddJPuv//+i257wIABmjdvnrZv3664uDhHu5+fn0aOHKnhw4dr3rx52rt3r7777jvNmjVL8+bNc2z322+/1bJly7Rr1y6NGzfO6ZPEcEYgsrDnn39e3bp1U58+fXTrrbdqz549WrZsmSpWrHjZY8TGxmrRokVavny5brvtNt1xxx2aPn2646pTUdzc3NSvXz/l5uaqb9++TusaNmyo1atXa9euXWrVqpVuueUWjR8/XmFhYZKkwMBAzZ07Vx999JGio6P1/PPPO338FWXDTTfdpCVLlmjjxo1q1KiRHn/8ccXHx18yLP/Vyy+/rBUrVqhatWq65ZZbrqqmyZMna9++fYqMjFRgYKCkP69Ifvjhh3r//fdVv359jR8/XpMnT1a/fv2ualuFKYvHBJc2cuRIubu7Kzo62nGLXvpzHlFeXp5T+Gnbtq1yc3Md84fyJSYmqkmTJrrvvvsUExMjY4yWLFlS4DbnX7Vv316hoaGKjY11/A7MN2XKFI0bN05Tp05VVFSUOnTooMWLF6tGjRqSpMcee0wPPPCAevTooWbNmunYsWNOV4vgzGaMMa4uAtYUHx+vjIwMffHFF64uBQDKpOzsbN10001KTEwsdK4mSg5ziHDNnThxQj/++KMWLFhAGAKAQuTl5eno0aN6+eWXVaFCBXXp0sXVJd3wCES45u6//35t3LhRjz/+uO6++25XlwMAZc7+/ftVo0YNVa1aVXPnzlW5cvx1Xdq4ZQYAACyPSdUAAMDyCEQAAMDyCEQAAMDyCEQAAMDyCEQAAMDyCEQAAMDyCEQALCkiIkIzZsy4JtuaO3euKlSocE22BaB4CEQAUITc3FzHgzwB3NgIRADKpLy8PE2bNk21atWS3W5X9erV9eyzz0qSfvzxR911113y9vZW5cqV9eijjyo7O9vx3n79+qlr16566aWXFBoaqsqVK2vQoEE6d+6cpD8fwPnLL79o+PDhstlsstlskv7/Ss4XX3yh6Oho2e127d+/X5s2bdLdd9+tKlWqKCAgQG3atNF3333nVG9mZqYee+wxBQcHy8vLS/Xr19eiRYu0atUq9e/fXydOnHBsa+LEidfmIAK4bAQiAGXS2LFj9fzzz2vcuHHatm2bFixYoODgYJ06dUqxsbGqWLGiNm3apI8++khffvmlBg8e7PT+lStXau/evVq5cqXmzZunuXPnau7cuZKkTz/9VFWrVtXkyZN16NAhHTp0yPG+06dP64UXXtCbb76prVu3KigoSCdPnlRcXJy++eYbrV+/XrVr19a9996rkydPSvozvHXs2FEpKSl67733tG3bNj3//PNyd3dX8+bNNWPGDPn7+zu2NXLkyGt2HAFcJgMAZUxWVpax2+3mP//5T4F1c+bMMRUrVjTZ2dmOtsWLFxs3NzeTnp5ujDEmLi7OhIeHm/Pnzzv6PPjgg6ZHjx6O5fDwcDN9+nSnsRMTE40kk5qaetH6cnNzjZ+fn/nvf/9rjDFm2bJlxs3NzezcubPQ/omJiSYgIOCiYwJwLa4QAShztm/frrNnz6pdu3aFrmvUqJF8fX0dbS1atFBeXp527tzpaKtXr57c3d0dy6GhoTpy5Mglt+3p6amGDRs6tR0+fFgDBw5U7dq1FRAQIH9/f2VnZ2v//v2SpNTUVFWtWlU333zzFe8rgLKBx+cCKHO8vb2vegwPDw+nZZvNdlkTpL29vR1zivLFxcXp2LFjmjlzpsLDw2W32xUTE6OcnJwSqxeAa3GFCECZU7t2bXl7eys5ObnAuqioKG3ZskWnTp1ytKWkpMjNzU116tS57G14enoqNzf3svqmpKRo6NChuvfee1WvXj3Z7XYdPXrUsb5hw4b69ddftWvXrqveFgDXIBABKHO8vLw0ZswYjR49Wu+884727t2r9evX66233lLv3r3l5eWluLg4/fTTT1q5cqWGDBmiPn36KDg4+LK3ERERoTVr1ui3335zCjeFqV27tt59911t375dGzZsUO/evZ2uCrVp00atW7dWt27dtGLFCqWlpWnp0qVKSkpybCs7O1vJyck6evSoTp8+XbwDA6DUEIgAlEnjxo3TiBEjNH78eEVFRalHjx46cuSIfHx8tGzZMv3++++67bbb1L17d7Vr106vvvrqFY0/efJk7du3T5GRkQoMDLxo37feekvHjx/Xrbfeqj59+mjo0KEKCgpy6vPJJ5/otttu08MPP6zo6GiNHj3acVWoefPmevzxx9WjRw8FBgZq2rRpV3YwAJQ6mzHGuLoIAAAAV+IKEQAAsDwCEQAAsDwCEQAAsDwCEQAAsDwCEQAAsDwCEQAAsDwCEQAAsDwCEQAAsDwCEQAAsDwCEQAAsDwCEQAAsLz/A6LfoGKgnZQqAAAAAElFTkSuQmCC",
            "text/plain": [
              "<Figure size 640x480 with 1 Axes>"
            ]
          },
          "metadata": {},
          "output_type": "display_data"
        }
      ],
      "source": [
        "sns.countplot(x='contract', hue='churn', data=df, palette='pastel')\n",
        "plt.title('Churn según Tipo de Contrato')\n",
        "plt.show()"
      ]
    },
    {
      "cell_type": "code",
      "execution_count": null,
      "metadata": {
        "colab": {
          "base_uri": "https://localhost:8080/"
        },
        "id": "FNJEOm34h98w",
        "outputId": "af1d7c8f-6965-45fe-8b39-66c3d5b9877a"
      },
      "outputs": [
        {
          "name": "stdout",
          "output_type": "stream",
          "text": [
            "\n",
            ">> Estadísticas de seniorcitizen por churn:\n",
            "        count      mean       std  min  25%  50%  75%  max\n",
            "churn                                                     \n",
            "0      5174.0  0.128721  0.334923  0.0  0.0  0.0  0.0  1.0\n",
            "1      1869.0  0.254682  0.435799  0.0  0.0  0.0  1.0  1.0\n",
            "        224.0  0.178571  0.383851  0.0  0.0  0.0  0.0  1.0\n",
            "\n",
            ">> Estadísticas de partner por churn:\n",
            "        count      mean       std  min  25%  50%  75%  max\n",
            "churn                                                     \n",
            "0      5174.0  0.528218  0.499251  0.0  0.0  1.0  1.0  1.0\n",
            "1      1869.0  0.357945  0.479524  0.0  0.0  0.0  1.0  1.0\n",
            "        224.0  0.517857  0.500800  0.0  0.0  1.0  1.0  1.0\n",
            "\n",
            ">> Estadísticas de dependents por churn:\n",
            "        count      mean       std  min  25%  50%  75%  max\n",
            "churn                                                     \n",
            "0      5174.0  0.344801  0.475349  0.0  0.0  0.0  1.0  1.0\n",
            "1      1869.0  0.174425  0.379576  0.0  0.0  0.0  0.0  1.0\n",
            "        224.0  0.316964  0.466335  0.0  0.0  0.0  1.0  1.0\n",
            "\n",
            ">> Estadísticas de tenure por churn:\n",
            "        count       mean        std  min   25%   50%   75%   max\n",
            "churn                                                           \n",
            "0      5174.0  37.569965  24.113777  0.0  15.0  38.0  61.0  72.0\n",
            "1      1869.0  17.979133  19.531123  1.0   2.0  10.0  29.0  72.0\n",
            "        224.0  31.571429  24.998552  1.0   7.0  29.0  56.0  72.0\n",
            "\n",
            ">> Estadísticas de phoneservice por churn:\n",
            "        count      mean       std  min  25%  50%  75%  max\n",
            "churn                                                     \n",
            "0      5174.0  0.901044  0.298632  0.0  1.0  1.0  1.0  1.0\n",
            "1      1869.0  0.909042  0.287626  0.0  1.0  1.0  1.0  1.0\n",
            "        224.0  0.888393  0.315588  0.0  1.0  1.0  1.0  1.0\n",
            "\n",
            ">> Estadísticas de paperlessbilling por churn:\n",
            "        count      mean       std  min  25%  50%  75%  max\n",
            "churn                                                     \n",
            "0      5174.0  0.535562  0.498782  0.0  0.0  1.0  1.0  1.0\n",
            "1      1869.0  0.749064  0.433668  0.0  0.0  1.0  1.0  1.0\n",
            "        224.0  0.625000  0.485207  0.0  0.0  1.0  1.0  1.0\n",
            "\n",
            ">> Estadísticas de charges_monthly por churn:\n",
            "        count       mean        std    min     25%     50%      75%     max\n",
            "churn                                                                      \n",
            "0      5174.0  61.265124  31.092648  18.25  25.100  64.425  88.4000  118.75\n",
            "1      1869.0  74.441332  24.666053  18.85  56.150  79.650  94.2000  118.35\n",
            "        224.0  63.412277  31.388712  18.75  28.425  69.100  90.4125  115.55\n"
          ]
        }
      ],
      "source": [
        "# 📈 Recuento por Variables Numéricas:\n",
        "numericas = df.select_dtypes(include=['int64', 'float64']).columns.tolist()\n",
        "\n",
        "for col in numericas:\n",
        "    print(f'\\n>> Estadísticas de {col} por churn:')\n",
        "    print(df.groupby('churn')[col].describe())"
      ]
    },
    {
      "cell_type": "code",
      "execution_count": null,
      "metadata": {
        "colab": {
          "base_uri": "https://localhost:8080/",
          "height": 472
        },
        "id": "ybPbrWpNiEDQ",
        "outputId": "44cf521c-b683-4c62-9628-6a578b77ef15"
      },
      "outputs": [
        {
          "data": {
            "image/png": "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",
            "text/plain": [
              "<Figure size 640x480 with 1 Axes>"
            ]
          },
          "metadata": {},
          "output_type": "display_data"
        }
      ],
      "source": [
        "sns.histplot(data=df, x='tenure', hue='churn', kde=True, bins=30)\n",
        "plt.title('Distribución de Tenure según Evasión')\n",
        "plt.show()"
      ]
    },
    {
      "cell_type": "code",
      "execution_count": 28,
      "metadata": {
        "id": "_F4-pUGtty49"
      },
      "outputs": [],
      "source": [
        "import plotly.express as px"
      ]
    },
    {
      "cell_type": "markdown",
      "metadata": {
        "id": "Zc8nlM-dlDtc"
      },
      "source": [
        "🔍 Análisis de Correlación – Exploración Adiciona"
      ]
    },
    {
      "cell_type": "code",
      "execution_count": null,
      "metadata": {
        "colab": {
          "base_uri": "https://localhost:8080/",
          "height": 760
        },
        "id": "TwsWGwQXlXVD",
        "outputId": "23628556-e97d-4f6c-eb63-bb88e135560e"
      },
      "outputs": [
        {
          "name": "stdout",
          "output_type": "stream",
          "text": [
            "❗ Columna sospechosa: charges_total\n"
          ]
        },
        {
          "data": {
            "text/html": [
              "<div>\n",
              "<style scoped>\n",
              "    .dataframe tbody tr th:only-of-type {\n",
              "        vertical-align: middle;\n",
              "    }\n",
              "\n",
              "    .dataframe tbody tr th {\n",
              "        vertical-align: top;\n",
              "    }\n",
              "\n",
              "    .dataframe thead th {\n",
              "        text-align: right;\n",
              "    }\n",
              "</style>\n",
              "<table border=\"1\" class=\"dataframe\">\n",
              "  <thead>\n",
              "    <tr style=\"text-align: right;\">\n",
              "      <th></th>\n",
              "      <th>churn</th>\n",
              "    </tr>\n",
              "  </thead>\n",
              "  <tbody>\n",
              "    <tr>\n",
              "      <th>churn</th>\n",
              "      <td>1.000000</td>\n",
              "    </tr>\n",
              "    <tr>\n",
              "      <th>charges_monthly</th>\n",
              "      <td>0.193356</td>\n",
              "    </tr>\n",
              "    <tr>\n",
              "      <th>paperlessbilling</th>\n",
              "      <td>0.191825</td>\n",
              "    </tr>\n",
              "    <tr>\n",
              "      <th>seniorcitizen</th>\n",
              "      <td>0.150889</td>\n",
              "    </tr>\n",
              "    <tr>\n",
              "      <th>multiplelines</th>\n",
              "      <td>0.040207</td>\n",
              "    </tr>\n",
              "    <tr>\n",
              "      <th>phoneservice</th>\n",
              "      <td>0.011942</td>\n",
              "    </tr>\n",
              "    <tr>\n",
              "      <th>streamingtv</th>\n",
              "      <td>-0.037057</td>\n",
              "    </tr>\n",
              "    <tr>\n",
              "      <th>streamingmovies</th>\n",
              "      <td>-0.040132</td>\n",
              "    </tr>\n",
              "    <tr>\n",
              "      <th>partner</th>\n",
              "      <td>-0.150448</td>\n",
              "    </tr>\n",
              "    <tr>\n",
              "      <th>dependents</th>\n",
              "      <td>-0.164221</td>\n",
              "    </tr>\n",
              "    <tr>\n",
              "      <th>deviceprotection</th>\n",
              "      <td>-0.177125</td>\n",
              "    </tr>\n",
              "    <tr>\n",
              "      <th>onlinebackup</th>\n",
              "      <td>-0.196061</td>\n",
              "    </tr>\n",
              "    <tr>\n",
              "      <th>charges_total</th>\n",
              "      <td>-0.199484</td>\n",
              "    </tr>\n",
              "    <tr>\n",
              "      <th>techsupport</th>\n",
              "      <td>-0.274422</td>\n",
              "    </tr>\n",
              "    <tr>\n",
              "      <th>onlinesecurity</th>\n",
              "      <td>-0.280816</td>\n",
              "    </tr>\n",
              "    <tr>\n",
              "      <th>tenure</th>\n",
              "      <td>-0.352229</td>\n",
              "    </tr>\n",
              "    <tr>\n",
              "      <th>customerid</th>\n",
              "      <td>NaN</td>\n",
              "    </tr>\n",
              "    <tr>\n",
              "      <th>gender</th>\n",
              "      <td>NaN</td>\n",
              "    </tr>\n",
              "    <tr>\n",
              "      <th>internetservice</th>\n",
              "      <td>NaN</td>\n",
              "    </tr>\n",
              "    <tr>\n",
              "      <th>contract</th>\n",
              "      <td>NaN</td>\n",
              "    </tr>\n",
              "    <tr>\n",
              "      <th>paymentmethod</th>\n",
              "      <td>NaN</td>\n",
              "    </tr>\n",
              "  </tbody>\n",
              "</table>\n",
              "</div><br><label><b>dtype:</b> float64</label>"
            ],
            "text/plain": [
              "churn               1.000000\n",
              "charges_monthly     0.193356\n",
              "paperlessbilling    0.191825\n",
              "seniorcitizen       0.150889\n",
              "multiplelines       0.040207\n",
              "phoneservice        0.011942\n",
              "streamingtv        -0.037057\n",
              "streamingmovies    -0.040132\n",
              "partner            -0.150448\n",
              "dependents         -0.164221\n",
              "deviceprotection   -0.177125\n",
              "onlinebackup       -0.196061\n",
              "charges_total      -0.199484\n",
              "techsupport        -0.274422\n",
              "onlinesecurity     -0.280816\n",
              "tenure             -0.352229\n",
              "customerid               NaN\n",
              "gender                   NaN\n",
              "internetservice          NaN\n",
              "contract                 NaN\n",
              "paymentmethod            NaN\n",
              "Name: churn, dtype: float64"
            ]
          },
          "execution_count": 90,
          "metadata": {},
          "output_type": "execute_result"
        }
      ],
      "source": [
        "for col in df.columns:\n",
        "    if df[col].dtype == 'object':\n",
        "        # Verifica si hay valores vacíos que deberían ser numéricos\n",
        "        if df[col].str.fullmatch(r'\\d+(\\.\\d+)?').sum() > 0:\n",
        "            print(f\"❗ Columna sospechosa: {col}\")\n",
        "for col in df.columns:\n",
        "    if df[col].dtype == 'object':\n",
        "        try:\n",
        "            df[col] = pd.to_numeric(df[col], errors='coerce')\n",
        "        except:\n",
        "            pass\n",
        "numericas = df.select_dtypes(include=['int64', 'float64']).copy()\n",
        "numericas['churn'] = df['churn']  # Asumiendo que ya es binaria\n",
        "correlaciones = numericas.corr()\n",
        "correlaciones['churn'].sort_values(ascending=False)"
      ]
    },
    {
      "cell_type": "code",
      "execution_count": null,
      "metadata": {
        "colab": {
          "base_uri": "https://localhost:8080/"
        },
        "id": "zEkoblq-k_SE",
        "outputId": "df0fc6fc-826c-44a9-b628-1a64b246b292"
      },
      "outputs": [
        {
          "name": "stdout",
          "output_type": "stream",
          "text": [
            "churn               1.000000\n",
            "charges_monthly     0.193356\n",
            "paperlessbilling    0.191825\n",
            "seniorcitizen       0.150889\n",
            "multiplelines       0.040207\n",
            "phoneservice        0.011942\n",
            "streamingtv        -0.037057\n",
            "streamingmovies    -0.040132\n",
            "partner            -0.150448\n",
            "dependents         -0.164221\n",
            "deviceprotection   -0.177125\n",
            "onlinebackup       -0.196061\n",
            "charges_total      -0.199484\n",
            "techsupport        -0.274422\n",
            "onlinesecurity     -0.280816\n",
            "tenure             -0.352229\n",
            "customerid               NaN\n",
            "gender                   NaN\n",
            "internetservice          NaN\n",
            "contract                 NaN\n",
            "paymentmethod            NaN\n",
            "Name: churn, dtype: float64\n"
          ]
        }
      ],
      "source": [
        "# Calculo de correlaciones\n",
        "# Asegurar que 'churn' sea numérico\n",
        "df['churn'] = df['churn'].replace({'yes': 1, 'no': 0})\n",
        "\n",
        "# Seleccionar columnas numéricas\n",
        "numericas = df.select_dtypes(include=['int64', 'float64']).copy()\n",
        "\n",
        "# Añadir 'churn' si no está\n",
        "if 'churn' not in numericas.columns:\n",
        "    numericas['churn'] = df['churn']\n",
        "\n",
        "# Matriz de correlación\n",
        "correlaciones = numericas.corr()\n",
        "\n",
        "# Ver correlaciones con churn\n",
        "correlacion_churn = correlaciones['churn'].sort_values(ascending=False)\n",
        "print(correlacion_churn)"
      ]
    },
    {
      "cell_type": "markdown",
      "metadata": {
        "id": "-hOGsjfyltVg"
      },
      "source": [
        "📊 Visualización con Heatmap"
      ]
    },
    {
      "cell_type": "code",
      "execution_count": null,
      "metadata": {
        "colab": {
          "base_uri": "https://localhost:8080/",
          "height": 545
        },
        "id": "2HBNRRBOlmKI",
        "outputId": "6242b3cf-d1d5-4707-e9ea-e6a2dc62a0e3"
      },
      "outputs": [
        {
          "data": {
            "image/png": "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",
            "text/plain": [
              "<Figure size 1000x600 with 2 Axes>"
            ]
          },
          "metadata": {},
          "output_type": "display_data"
        }
      ],
      "source": [
        "plt.figure(figsize=(10, 6))\n",
        "sns.heatmap(correlaciones[['churn']], annot=True, cmap='coolwarm', fmt=\".2f\")\n",
        "plt.title('Correlaciones con la Evasión de Clientes (Churn)')\n",
        "plt.show()"
      ]
    },
    {
      "cell_type": "markdown",
      "metadata": {
        "id": "ufEBo1qCl-Il"
      },
      "source": [
        "📈 Gráfico de Dispersión – Servicios vs Churn"
      ]
    },
    {
      "cell_type": "code",
      "execution_count": null,
      "metadata": {
        "id": "E5wqlbWmmOB6"
      },
      "outputs": [],
      "source": [
        "servicios = [\n",
        "    'phoneservice', 'multiplelines',\n",
        "    'internetservice', 'onlinesecurity', 'onlinebackup',\n",
        "    'deviceprotection', 'techsupport',\n",
        "    'streamingtv', 'streamingmovies'\n",
        "]"
      ]
    },
    {
      "cell_type": "code",
      "execution_count": null,
      "metadata": {
        "id": "4jNSvB-xmPH9"
      },
      "outputs": [],
      "source": [
        "df[servicios] = df[servicios].replace({'yes': 1, 'no': 0})"
      ]
    },
    {
      "cell_type": "code",
      "execution_count": null,
      "metadata": {
        "id": "TMvt2V2xmU8D"
      },
      "outputs": [],
      "source": [
        "df['total_services'] = df[servicios].sum(axis=1)"
      ]
    },
    {
      "cell_type": "code",
      "execution_count": null,
      "metadata": {
        "colab": {
          "base_uri": "https://localhost:8080/",
          "height": 593
        },
        "id": "P_jZ2lMAmTTG",
        "outputId": "ad4c74bc-c80b-4b67-dba1-66b170922a2b"
      },
      "outputs": [
        {
          "name": "stderr",
          "output_type": "stream",
          "text": [
            "/tmp/ipython-input-98-2241294981.py:1: FutureWarning:\n",
            "\n",
            "\n",
            "\n",
            "Passing `palette` without assigning `hue` is deprecated and will be removed in v0.14.0. Assign the `x` variable to `hue` and set `legend=False` for the same effect.\n",
            "\n",
            "\n"
          ]
        },
        {
          "data": {
            "image/png": "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",
            "text/plain": [
              "<Figure size 640x480 with 1 Axes>"
            ]
          },
          "metadata": {},
          "output_type": "display_data"
        }
      ],
      "source": [
        "sns.boxplot(x='churn', y='total_services', data=df, palette='Set2')\n",
        "plt.title('Relación entre Total de Servicios y Evasión')\n",
        "plt.xlabel('Churn')\n",
        "plt.ylabel('Total de Servicios Contratados')\n",
        "plt.show()"
      ]
=======
      "execution_count": 2,
      "metadata": {
        "id": "1jgUnLqTmPdd"
      },
      "outputs": [],
      "source": []
>>>>>>> ce795e5c90ca512e4dab40e3d036f55aed182dd7
    },
    {
      "cell_type": "markdown",
      "metadata": {
        "id": "v-WzfSvTmaw9"
      },
      "source": [
        "#📄Informe final"
      ]
    },
    {
<<<<<<< HEAD
      "cell_type": "markdown",
      "metadata": {
        "id": "beU8yfBXjUoI"
      },
      "source": [
        "Informe Final\n",
        "– Proyecto Telecom X\n",
        "\n",
        "🔹 Introducción\n",
        "\n",
        "La empresa Telecom X enfrenta una elevada tasa de cancelación de clientes, lo que representa una amenaza directa a su sostenibilidad y crecimiento. El presente análisis tiene como objetivo identificar patrones y características asociadas a la evasión de clientes (churn) utilizando técnicas de manipulación y visualización de datos en Python. Esta información servirá como base para implementar estrategias de retención más efectivas y nutrir futuros modelos predictivos."
      ]
    },
    {
      "cell_type": "markdown",
      "metadata": {
        "id": "ay9rVywFjiBN"
      },
      "source": [
        "🧹**Limpieza y Tratamiento de Datos**\n",
        "\n",
        "- Se importaron los datos desde un archivo JSON mediante una API pública.\n",
        "\n",
        "- Los datos fueron normalizados con json_normalize para aplanar la estructura jerárquica.\n",
        "\n",
        "- Se renombraron columnas para facilitar la interpretación y estandarización (snake_case).\n",
        "\n",
        "- Se eliminaron duplicados y se gestionaron valores vacíos y nulos (NaN, campos vacíos).\n",
        "\n",
        "- Se transformaron valores categóricos como \"Sí\"/\"No\" a binarios (1/0) para futuros análisis matemáticos.\n",
        "\n",
        "- Se ajustaron formatos numéricos (charges_total, charges_monthly, tenure) y se corrigieron inconsistencias textuales (contract, paymentmethod, gender)."
      ]
    },
    {
      "cell_type": "markdown",
      "metadata": {
        "id": "5L3OJsiKj30h"
      },
      "source": [
        "🔹 Análisis Exploratorio de Datos\n",
        "Se realizaron los siguientes análisis para identificar correlaciones con la evasión:\n",
        "\n",
        "📉 Distribución General de Churn\n",
        "- La mayoría de los clientes no presentan churn, pero el porcentaje de evasión es relevante y consistente en ciertos perfiles.\n",
        "\n",
        "📊 Evasión por Variables Categóricas\n",
        "- El tipo de contrato está fuertemente asociado al churn. Los contratos mensuales muestran mayor tasa de cancelación.\n",
        "\n",
        "- Métodos de pago como débito automático presentan vulnerabilidad ante la evasión.\n",
        "\n",
        "- Género y senioridad muestran variaciones menores, pero pueden influir en segmentos específicos.\n",
        "\n",
        "📈 Evasión por Variables Numéricas\n",
        "- Clientes con baja permanencia (tenure) tienen mayor tendencia a cancelar el servicio.\n",
        "\n",
        "- Niveles más altos en charges_monthly correlacionan levemente con churn, posiblemente por percepción de sobreprecio.\n",
        "\n",
        "- El total acumulado (charges_total) parece estar asociado a clientes más longevos con menor evasión.\n"
      ]
    },
    {
      "cell_type": "markdown",
      "metadata": {
        "id": "sWBKOlCSkD6i"
      },
      "source": [
        "🔹 Conclusiones e Insights\n",
        "\n",
        "- Los clientes con contrato mensual y poca antigüedad son significativamente más propensos a abandonar el servicio.\n",
        "\n",
        "- Ciertos métodos de pago como débito automático podrían estar generando fricción no detectada en la experiencia del cliente.\n",
        "\n",
        "- Aunque el churn afecta a todos los perfiles, hay patrones segmentables que pueden orientar acciones puntuales."
      ]
    },
    {
      "cell_type": "markdown",
      "metadata": {
        "id": "QUjEsupwkIpa"
      },
      "source": [
        "🔹 Recomendaciones\n",
        "\n",
        "- Incentivar contratos a largo plazo con promociones o beneficios exclusivos.\n",
        "- Mejorar la experiencia en métodos de pago vulnerables, como el débito automático.\n",
        "\n",
        "- Implementar estrategias de fidelización en los primeros meses de los nuevos clientes.\n",
        "\n",
        "- Desarrollar un modelo predictivo supervisado alimentado por estos datos para detectar casos potenciales de churn antes de que ocurran.\n",
        "\n",
        "- Comunicar los hallazgos con claridad a equipos de marketing y atención al cliente para aplicar acciones personalizadas.\n",
        "\n",
        "\n"
      ]
=======
      "cell_type": "code",
      "execution_count": 2,
      "metadata": {
        "id": "XMTac0YJmeK9"
      },
      "outputs": [],
      "source": []
>>>>>>> ce795e5c90ca512e4dab40e3d036f55aed182dd7
    }
  ],
  "metadata": {
    "colab": {
<<<<<<< HEAD
      "collapsed_sections": [
        "4foVEKhrlqcH"
      ],
      "provenance": []
=======
      "provenance": [],
      "include_colab_link": true
>>>>>>> ce795e5c90ca512e4dab40e3d036f55aed182dd7
    },
    "kernelspec": {
      "display_name": ".venv",
      "language": "python",
      "name": "python3"
    },
    "language_info": {
      "codemirror_mode": {
        "name": "ipython",
        "version": 3
      },
      "file_extension": ".py",
      "mimetype": "text/x-python",
      "name": "python",
      "nbconvert_exporter": "python",
      "pygments_lexer": "ipython3",
      "version": "3.13.0"
    }
  },
  "nbformat": 4,
  "nbformat_minor": 0
<<<<<<< HEAD
}
=======
}
>>>>>>> ce795e5c90ca512e4dab40e3d036f55aed182dd7
